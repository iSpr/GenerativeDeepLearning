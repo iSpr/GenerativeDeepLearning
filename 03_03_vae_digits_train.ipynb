{
 "cells": [
  {
   "cell_type": "markdown",
   "metadata": {},
   "source": [
    "# 변이형 오토인코더 훈련"
   ]
  },
  {
   "cell_type": "markdown",
   "metadata": {},
   "source": [
    "## 라이브러리 임포트"
   ]
  },
  {
   "cell_type": "code",
   "execution_count": 1,
   "metadata": {},
   "outputs": [
    {
     "name": "stderr",
     "output_type": "stream",
     "text": [
      "Using TensorFlow backend.\n"
     ]
    }
   ],
   "source": [
    "import os\n",
    "\n",
    "from models.VAE import VariationalAutoencoder\n",
    "from utils.loaders import load_mnist"
   ]
  },
  {
   "cell_type": "code",
   "execution_count": 2,
   "metadata": {},
   "outputs": [],
   "source": [
    "# 실행 매개변수\n",
    "SECTION = 'vae'\n",
    "RUN_ID = '0002'\n",
    "DATA_NAME = 'digits'\n",
    "RUN_FOLDER = 'run/{}/'.format(SECTION)\n",
    "RUN_FOLDER += '_'.join([RUN_ID, DATA_NAME])\n",
    "\n",
    "if not os.path.exists(RUN_FOLDER):\n",
    "    os.mkdir(RUN_FOLDER)\n",
    "    os.mkdir(os.path.join(RUN_FOLDER, 'viz'))\n",
    "    os.mkdir(os.path.join(RUN_FOLDER, 'images'))\n",
    "    os.mkdir(os.path.join(RUN_FOLDER, 'weights'))\n",
    "\n",
    "mode =  'build' #'load' #"
   ]
  },
  {
   "cell_type": "markdown",
   "metadata": {},
   "source": [
    "## 데이터 적재"
   ]
  },
  {
   "cell_type": "code",
   "execution_count": 3,
   "metadata": {},
   "outputs": [],
   "source": [
    "(x_train, y_train), (x_test, y_test) = load_mnist()"
   ]
  },
  {
   "cell_type": "markdown",
   "metadata": {},
   "source": [
    "## 모델 만들기"
   ]
  },
  {
   "cell_type": "code",
   "execution_count": 4,
   "metadata": {},
   "outputs": [
    {
     "name": "stdout",
     "output_type": "stream",
     "text": [
      "WARNING:tensorflow:From e:\\GenerativeDeepLearning\\venv\\lib\\site-packages\\tensorflow\\python\\framework\\op_def_library.py:263: colocate_with (from tensorflow.python.framework.ops) is deprecated and will be removed in a future version.\n",
      "Instructions for updating:\n",
      "Colocations handled automatically by placer.\n"
     ]
    }
   ],
   "source": [
    "vae = VariationalAutoencoder(\n",
    "    input_dim = (28,28,1)\n",
    "    , encoder_conv_filters = [32,64,64, 64]\n",
    "    , encoder_conv_kernel_size = [3,3,3,3]\n",
    "    , encoder_conv_strides = [1,2,2,1]\n",
    "    , decoder_conv_t_filters = [64,64,32,1]\n",
    "    , decoder_conv_t_kernel_size = [3,3,3,3]\n",
    "    , decoder_conv_t_strides = [1,2,2,1]\n",
    "    , z_dim = 2\n",
    ")\n",
    "\n",
    "if mode == 'build':\n",
    "    vae.save(RUN_FOLDER)\n",
    "else:\n",
    "    vae.load_weights(os.path.join(RUN_FOLDER, 'weights/weights.h5'))"
   ]
  },
  {
   "cell_type": "code",
   "execution_count": 5,
   "metadata": {
    "scrolled": true
   },
   "outputs": [
    {
     "name": "stdout",
     "output_type": "stream",
     "text": [
      "__________________________________________________________________________________________________\n",
      "Layer (type)                    Output Shape         Param #     Connected to                     \n",
      "==================================================================================================\n",
      "encoder_input (InputLayer)      (None, 28, 28, 1)    0                                            \n",
      "__________________________________________________________________________________________________\n",
      "encoder_conv_0 (Conv2D)         (None, 28, 28, 32)   320         encoder_input[0][0]              \n",
      "__________________________________________________________________________________________________\n",
      "leaky_re_lu_1 (LeakyReLU)       (None, 28, 28, 32)   0           encoder_conv_0[0][0]             \n",
      "__________________________________________________________________________________________________\n",
      "encoder_conv_1 (Conv2D)         (None, 14, 14, 64)   18496       leaky_re_lu_1[0][0]              \n",
      "__________________________________________________________________________________________________\n",
      "leaky_re_lu_2 (LeakyReLU)       (None, 14, 14, 64)   0           encoder_conv_1[0][0]             \n",
      "__________________________________________________________________________________________________\n",
      "encoder_conv_2 (Conv2D)         (None, 7, 7, 64)     36928       leaky_re_lu_2[0][0]              \n",
      "__________________________________________________________________________________________________\n",
      "leaky_re_lu_3 (LeakyReLU)       (None, 7, 7, 64)     0           encoder_conv_2[0][0]             \n",
      "__________________________________________________________________________________________________\n",
      "encoder_conv_3 (Conv2D)         (None, 7, 7, 64)     36928       leaky_re_lu_3[0][0]              \n",
      "__________________________________________________________________________________________________\n",
      "leaky_re_lu_4 (LeakyReLU)       (None, 7, 7, 64)     0           encoder_conv_3[0][0]             \n",
      "__________________________________________________________________________________________________\n",
      "flatten_1 (Flatten)             (None, 3136)         0           leaky_re_lu_4[0][0]              \n",
      "__________________________________________________________________________________________________\n",
      "mu (Dense)                      (None, 2)            6274        flatten_1[0][0]                  \n",
      "__________________________________________________________________________________________________\n",
      "log_var (Dense)                 (None, 2)            6274        flatten_1[0][0]                  \n",
      "__________________________________________________________________________________________________\n",
      "encoder_output (Lambda)         (None, 2)            0           mu[0][0]                         \n",
      "                                                                 log_var[0][0]                    \n",
      "==================================================================================================\n",
      "Total params: 105,220\n",
      "Trainable params: 105,220\n",
      "Non-trainable params: 0\n",
      "__________________________________________________________________________________________________\n"
     ]
    }
   ],
   "source": [
    "vae.encoder.summary()"
   ]
  },
  {
   "cell_type": "code",
   "execution_count": 6,
   "metadata": {},
   "outputs": [],
   "source": [
    "from keras.utils import plot_model\n",
    "plot_model(vae.encoder, to_file='vae_encoder.png', show_shapes = True, show_layer_names = True)"
   ]
  },
  {
   "cell_type": "markdown",
   "metadata": {},
   "source": [
    "![VAE Encoder](vae_encoder.png \"VAE Encoder\")"
   ]
  },
  {
   "cell_type": "code",
   "execution_count": 7,
   "metadata": {},
   "outputs": [
    {
     "name": "stdout",
     "output_type": "stream",
     "text": [
      "_________________________________________________________________\n",
      "Layer (type)                 Output Shape              Param #   \n",
      "=================================================================\n",
      "decoder_input (InputLayer)   (None, 2)                 0         \n",
      "_________________________________________________________________\n",
      "dense_1 (Dense)              (None, 3136)              9408      \n",
      "_________________________________________________________________\n",
      "reshape_1 (Reshape)          (None, 7, 7, 64)          0         \n",
      "_________________________________________________________________\n",
      "decoder_conv_t_0 (Conv2DTran (None, 7, 7, 64)          36928     \n",
      "_________________________________________________________________\n",
      "leaky_re_lu_5 (LeakyReLU)    (None, 7, 7, 64)          0         \n",
      "_________________________________________________________________\n",
      "decoder_conv_t_1 (Conv2DTran (None, 14, 14, 64)        36928     \n",
      "_________________________________________________________________\n",
      "leaky_re_lu_6 (LeakyReLU)    (None, 14, 14, 64)        0         \n",
      "_________________________________________________________________\n",
      "decoder_conv_t_2 (Conv2DTran (None, 28, 28, 32)        18464     \n",
      "_________________________________________________________________\n",
      "leaky_re_lu_7 (LeakyReLU)    (None, 28, 28, 32)        0         \n",
      "_________________________________________________________________\n",
      "decoder_conv_t_3 (Conv2DTran (None, 28, 28, 1)         289       \n",
      "_________________________________________________________________\n",
      "activation_1 (Activation)    (None, 28, 28, 1)         0         \n",
      "=================================================================\n",
      "Total params: 102,017\n",
      "Trainable params: 102,017\n",
      "Non-trainable params: 0\n",
      "_________________________________________________________________\n"
     ]
    }
   ],
   "source": [
    "vae.decoder.summary()"
   ]
  },
  {
   "cell_type": "markdown",
   "metadata": {},
   "source": [
    "## 모델 훈련"
   ]
  },
  {
   "cell_type": "code",
   "execution_count": 8,
   "metadata": {},
   "outputs": [],
   "source": [
    "LEARNING_RATE = 0.0005\n",
    "R_LOSS_FACTOR = 1000"
   ]
  },
  {
   "cell_type": "code",
   "execution_count": 9,
   "metadata": {},
   "outputs": [],
   "source": [
    "vae.compile(LEARNING_RATE, R_LOSS_FACTOR)"
   ]
  },
  {
   "cell_type": "code",
   "execution_count": 10,
   "metadata": {},
   "outputs": [],
   "source": [
    "BATCH_SIZE = 32\n",
    "EPOCHS = 200\n",
    "PRINT_EVERY_N_BATCHES = 100\n",
    "INITIAL_EPOCH = 0"
   ]
  },
  {
   "cell_type": "code",
   "execution_count": 11,
   "metadata": {},
   "outputs": [
    {
     "name": "stdout",
     "output_type": "stream",
     "text": [
      "WARNING:tensorflow:From e:\\GenerativeDeepLearning\\venv\\lib\\site-packages\\tensorflow\\python\\ops\\math_ops.py:3066: to_int32 (from tensorflow.python.ops.math_ops) is deprecated and will be removed in a future version.\n",
      "Instructions for updating:\n",
      "Use tf.cast instead.\n"
     ]
    },
    {
     "name": "stdout",
     "output_type": "stream",
     "text": [
      "Epoch 1/200\n",
      "60000/60000 [==============================] - 87s 1ms/step - loss: 58.4939 - vae_r_loss: 55.2774 - vae_kl_loss: 3.2165\n",
      "\n",
      "Epoch 00001: saving model to run/vae/0002_digits\\weights/weights-001-58.49.h5\n",
      "\n",
      "Epoch 00001: saving model to run/vae/0002_digits\\weights/weights.h5\n",
      "Epoch 2/200\n",
      "60000/60000 [==============================] - 90s 2ms/step - loss: 52.0257 - vae_r_loss: 48.1396 - vae_kl_loss: 3.8861\n",
      "\n",
      "Epoch 00002: saving model to run/vae/0002_digits\\weights/weights-002-52.03.h5\n",
      "\n",
      "Epoch 00002: saving model to run/vae/0002_digits\\weights/weights.h5\n",
      "Epoch 3/200\n",
      "60000/60000 [==============================] - 93s 2ms/step - loss: 50.5830 - vae_r_loss: 46.4087 - vae_kl_loss: 4.1743\n",
      "\n",
      "Epoch 00003: saving model to run/vae/0002_digits\\weights/weights-003-50.58.h5\n",
      "\n",
      "Epoch 00003: saving model to run/vae/0002_digits\\weights/weights.h5\n",
      "Epoch 4/200\n",
      "60000/60000 [==============================] - 95s 2ms/step - loss: 49.6641 - vae_r_loss: 45.3015 - vae_kl_loss: 4.3626\n",
      "\n",
      "Epoch 00004: saving model to run/vae/0002_digits\\weights/weights-004-49.66.h5\n",
      "\n",
      "Epoch 00004: saving model to run/vae/0002_digits\\weights/weights.h5\n",
      "Epoch 5/200\n",
      "60000/60000 [==============================] - 106s 2ms/step - loss: 48.9135 - vae_r_loss: 44.4259 - vae_kl_loss: 4.4876\n",
      "\n",
      "Epoch 00005: saving model to run/vae/0002_digits\\weights/weights-005-48.91.h5\n",
      "\n",
      "Epoch 00005: saving model to run/vae/0002_digits\\weights/weights.h5\n",
      "Epoch 6/200\n",
      "  128/60000 [..............................] - ETA: 6:09 - loss: 50.1991 - vae_r_loss: 45.4831 - vae_kl_loss: 4.7159 "
     ]
    },
    {
     "name": "stderr",
     "output_type": "stream",
     "text": [
      "e:\\GenerativeDeepLearning\\venv\\lib\\site-packages\\keras\\callbacks.py:122: UserWarning: Method on_batch_end() is slow compared to the batch update (0.544063). Check your callbacks.\n",
      "  % delta_t_median)\n",
      "e:\\GenerativeDeepLearning\\venv\\lib\\site-packages\\keras\\callbacks.py:122: UserWarning: Method on_batch_end() is slow compared to the batch update (0.272777). Check your callbacks.\n",
      "  % delta_t_median)\n"
     ]
    },
    {
     "name": "stdout",
     "output_type": "stream",
     "text": [
      "60000/60000 [==============================] - 106s 2ms/step - loss: 48.4712 - vae_r_loss: 43.8835 - vae_kl_loss: 4.5877\n",
      "\n",
      "Epoch 00006: saving model to run/vae/0002_digits\\weights/weights-006-48.47.h5\n",
      "\n",
      "Epoch 00006: saving model to run/vae/0002_digits\\weights/weights.h5\n",
      "Epoch 7/200\n",
      "  128/60000 [..............................] - ETA: 3:20 - loss: 47.4500 - vae_r_loss: 42.8989 - vae_kl_loss: 4.5511"
     ]
    },
    {
     "name": "stderr",
     "output_type": "stream",
     "text": [
      "e:\\GenerativeDeepLearning\\venv\\lib\\site-packages\\keras\\callbacks.py:122: UserWarning: Method on_batch_end() is slow compared to the batch update (0.197049). Check your callbacks.\n",
      "  % delta_t_median)\n"
     ]
    },
    {
     "name": "stdout",
     "output_type": "stream",
     "text": [
      "60000/60000 [==============================] - 105s 2ms/step - loss: 48.0397 - vae_r_loss: 43.3747 - vae_kl_loss: 4.6650\n",
      "\n",
      "Epoch 00007: saving model to run/vae/0002_digits\\weights/weights-007-48.04.h5\n",
      "\n",
      "Epoch 00007: saving model to run/vae/0002_digits\\weights/weights.h5\n",
      "Epoch 8/200\n",
      "  160/60000 [..............................] - ETA: 4:47 - loss: 47.6903 - vae_r_loss: 43.1477 - vae_kl_loss: 4.5426"
     ]
    },
    {
     "name": "stderr",
     "output_type": "stream",
     "text": [
      "e:\\GenerativeDeepLearning\\venv\\lib\\site-packages\\keras\\callbacks.py:122: UserWarning: Method on_batch_end() is slow compared to the batch update (0.525801). Check your callbacks.\n",
      "  % delta_t_median)\n",
      "e:\\GenerativeDeepLearning\\venv\\lib\\site-packages\\keras\\callbacks.py:122: UserWarning: Method on_batch_end() is slow compared to the batch update (0.262901). Check your callbacks.\n",
      "  % delta_t_median)\n"
     ]
    },
    {
     "name": "stdout",
     "output_type": "stream",
     "text": [
      "60000/60000 [==============================] - 109s 2ms/step - loss: 47.6962 - vae_r_loss: 42.9828 - vae_kl_loss: 4.7134\n",
      "\n",
      "Epoch 00008: saving model to run/vae/0002_digits\\weights/weights-008-47.70.h5\n",
      "\n",
      "Epoch 00008: saving model to run/vae/0002_digits\\weights/weights.h5\n",
      "Epoch 9/200\n",
      "  128/60000 [..............................] - ETA: 5:22 - loss: 49.2723 - vae_r_loss: 44.7036 - vae_kl_loss: 4.5686"
     ]
    },
    {
     "name": "stderr",
     "output_type": "stream",
     "text": [
      "e:\\GenerativeDeepLearning\\venv\\lib\\site-packages\\keras\\callbacks.py:122: UserWarning: Method on_batch_end() is slow compared to the batch update (0.515945). Check your callbacks.\n",
      "  % delta_t_median)\n",
      "e:\\GenerativeDeepLearning\\venv\\lib\\site-packages\\keras\\callbacks.py:122: UserWarning: Method on_batch_end() is slow compared to the batch update (0.258892). Check your callbacks.\n",
      "  % delta_t_median)\n"
     ]
    },
    {
     "name": "stdout",
     "output_type": "stream",
     "text": [
      "60000/60000 [==============================] - 109s 2ms/step - loss: 47.4799 - vae_r_loss: 42.7110 - vae_kl_loss: 4.7689\n",
      "\n",
      "Epoch 00009: saving model to run/vae/0002_digits\\weights/weights-009-47.48.h5\n",
      "\n",
      "Epoch 00009: saving model to run/vae/0002_digits\\weights/weights.h5\n",
      "Epoch 10/200\n",
      "  128/60000 [..............................] - ETA: 5:37 - loss: 47.0847 - vae_r_loss: 42.0566 - vae_kl_loss: 5.0280"
     ]
    },
    {
     "name": "stderr",
     "output_type": "stream",
     "text": [
      "e:\\GenerativeDeepLearning\\venv\\lib\\site-packages\\keras\\callbacks.py:122: UserWarning: Method on_batch_end() is slow compared to the batch update (0.521238). Check your callbacks.\n",
      "  % delta_t_median)\n",
      "e:\\GenerativeDeepLearning\\venv\\lib\\site-packages\\keras\\callbacks.py:122: UserWarning: Method on_batch_end() is slow compared to the batch update (0.260619). Check your callbacks.\n",
      "  % delta_t_median)\n"
     ]
    },
    {
     "name": "stdout",
     "output_type": "stream",
     "text": [
      "60000/60000 [==============================] - 105s 2ms/step - loss: 47.2261 - vae_r_loss: 42.4248 - vae_kl_loss: 4.8012\n",
      "\n",
      "Epoch 00010: saving model to run/vae/0002_digits\\weights/weights-010-47.23.h5\n",
      "\n",
      "Epoch 00010: saving model to run/vae/0002_digits\\weights/weights.h5\n",
      "Epoch 11/200\n",
      "  128/60000 [..............................] - ETA: 9:52 - loss: 46.4417 - vae_r_loss: 41.4306 - vae_kl_loss: 5.0110 "
     ]
    },
    {
     "name": "stderr",
     "output_type": "stream",
     "text": [
      "e:\\GenerativeDeepLearning\\venv\\lib\\site-packages\\keras\\callbacks.py:122: UserWarning: Method on_batch_end() is slow compared to the batch update (1.084882). Check your callbacks.\n",
      "  % delta_t_median)\n",
      "e:\\GenerativeDeepLearning\\venv\\lib\\site-packages\\keras\\callbacks.py:122: UserWarning: Method on_batch_end() is slow compared to the batch update (0.542943). Check your callbacks.\n",
      "  % delta_t_median)\n"
     ]
    },
    {
     "name": "stdout",
     "output_type": "stream",
     "text": [
      "60000/60000 [==============================] - 107s 2ms/step - loss: 46.9969 - vae_r_loss: 42.1448 - vae_kl_loss: 4.8521\n",
      "\n",
      "Epoch 00011: saving model to run/vae/0002_digits\\weights/weights-011-47.00.h5\n",
      "\n",
      "Epoch 00011: saving model to run/vae/0002_digits\\weights/weights.h5\n",
      "Epoch 12/200\n",
      "60000/60000 [==============================] - 108s 2ms/step - loss: 46.8049 - vae_r_loss: 41.9209 - vae_kl_loss: 4.8841\n",
      "\n",
      "Epoch 00012: saving model to run/vae/0002_digits\\weights/weights-012-46.80.h5\n",
      "\n",
      "Epoch 00012: saving model to run/vae/0002_digits\\weights/weights.h5\n",
      "Epoch 13/200\n",
      "  128/60000 [..............................] - ETA: 6:05 - loss: 46.2215 - vae_r_loss: 41.4094 - vae_kl_loss: 4.8122 "
     ]
    },
    {
     "name": "stderr",
     "output_type": "stream",
     "text": [
      "e:\\GenerativeDeepLearning\\venv\\lib\\site-packages\\keras\\callbacks.py:122: UserWarning: Method on_batch_end() is slow compared to the batch update (0.592596). Check your callbacks.\n",
      "  % delta_t_median)\n",
      "e:\\GenerativeDeepLearning\\venv\\lib\\site-packages\\keras\\callbacks.py:122: UserWarning: Method on_batch_end() is slow compared to the batch update (0.297297). Check your callbacks.\n",
      "  % delta_t_median)\n"
     ]
    },
    {
     "name": "stdout",
     "output_type": "stream",
     "text": [
      "60000/60000 [==============================] - 108s 2ms/step - loss: 46.6447 - vae_r_loss: 41.7448 - vae_kl_loss: 4.8999\n",
      "\n",
      "Epoch 00013: saving model to run/vae/0002_digits\\weights/weights-013-46.64.h5\n",
      "\n",
      "Epoch 00013: saving model to run/vae/0002_digits\\weights/weights.h5\n",
      "Epoch 14/200\n",
      "  160/60000 [..............................] - ETA: 5:01 - loss: 45.1547 - vae_r_loss: 40.2818 - vae_kl_loss: 4.8729"
     ]
    },
    {
     "name": "stderr",
     "output_type": "stream",
     "text": [
      "e:\\GenerativeDeepLearning\\venv\\lib\\site-packages\\keras\\callbacks.py:122: UserWarning: Method on_batch_end() is slow compared to the batch update (0.535964). Check your callbacks.\n",
      "  % delta_t_median)\n",
      "e:\\GenerativeDeepLearning\\venv\\lib\\site-packages\\keras\\callbacks.py:122: UserWarning: Method on_batch_end() is slow compared to the batch update (0.268481). Check your callbacks.\n",
      "  % delta_t_median)\n"
     ]
    },
    {
     "name": "stdout",
     "output_type": "stream",
     "text": [
      "60000/60000 [==============================] - 113s 2ms/step - loss: 46.5034 - vae_r_loss: 41.5665 - vae_kl_loss: 4.9370\n",
      "\n",
      "Epoch 00014: saving model to run/vae/0002_digits\\weights/weights-014-46.50.h5\n",
      "\n",
      "Epoch 00014: saving model to run/vae/0002_digits\\weights/weights.h5\n",
      "Epoch 15/200\n",
      "60000/60000 [==============================] - 109s 2ms/step - loss: 46.3839 - vae_r_loss: 41.4401 - vae_kl_loss: 4.9437\n",
      "\n",
      "Epoch 00015: saving model to run/vae/0002_digits\\weights/weights-015-46.38.h5\n",
      "\n",
      "Epoch 00015: saving model to run/vae/0002_digits\\weights/weights.h5\n",
      "Epoch 16/200\n",
      "60000/60000 [==============================] - 114s 2ms/step - loss: 46.2784 - vae_r_loss: 41.3088 - vae_kl_loss: 4.9696\n",
      "\n",
      "Epoch 00016: saving model to run/vae/0002_digits\\weights/weights-016-46.28.h5\n",
      "\n",
      "Epoch 00016: saving model to run/vae/0002_digits\\weights/weights.h5\n",
      "Epoch 17/200\n",
      "  128/60000 [..............................] - ETA: 5:58 - loss: 48.0078 - vae_r_loss: 42.9038 - vae_kl_loss: 5.1040"
     ]
    },
    {
     "name": "stderr",
     "output_type": "stream",
     "text": [
      "e:\\GenerativeDeepLearning\\venv\\lib\\site-packages\\keras\\callbacks.py:122: UserWarning: Method on_batch_end() is slow compared to the batch update (0.541613). Check your callbacks.\n",
      "  % delta_t_median)\n",
      "e:\\GenerativeDeepLearning\\venv\\lib\\site-packages\\keras\\callbacks.py:122: UserWarning: Method on_batch_end() is slow compared to the batch update (0.271306). Check your callbacks.\n",
      "  % delta_t_median)\n"
     ]
    },
    {
     "name": "stdout",
     "output_type": "stream",
     "text": [
      "60000/60000 [==============================] - 118s 2ms/step - loss: 46.1481 - vae_r_loss: 41.1641 - vae_kl_loss: 4.9840\n",
      "\n",
      "Epoch 00017: saving model to run/vae/0002_digits\\weights/weights-017-46.15.h5\n",
      "\n",
      "Epoch 00017: saving model to run/vae/0002_digits\\weights/weights.h5\n",
      "Epoch 18/200\n",
      "  128/60000 [..............................] - ETA: 5:54 - loss: 44.8756 - vae_r_loss: 39.8286 - vae_kl_loss: 5.0470 "
     ]
    },
    {
     "name": "stderr",
     "output_type": "stream",
     "text": [
      "e:\\GenerativeDeepLearning\\venv\\lib\\site-packages\\keras\\callbacks.py:122: UserWarning: Method on_batch_end() is slow compared to the batch update (0.541411). Check your callbacks.\n",
      "  % delta_t_median)\n",
      "e:\\GenerativeDeepLearning\\venv\\lib\\site-packages\\keras\\callbacks.py:122: UserWarning: Method on_batch_end() is slow compared to the batch update (0.271390). Check your callbacks.\n",
      "  % delta_t_median)\n"
     ]
    },
    {
     "name": "stdout",
     "output_type": "stream",
     "text": [
      "60000/60000 [==============================] - 108s 2ms/step - loss: 46.0814 - vae_r_loss: 41.0606 - vae_kl_loss: 5.0207\n",
      "\n",
      "Epoch 00018: saving model to run/vae/0002_digits\\weights/weights-018-46.08.h5\n",
      "\n",
      "Epoch 00018: saving model to run/vae/0002_digits\\weights/weights.h5\n",
      "Epoch 19/200\n",
      "  128/60000 [..............................] - ETA: 5:45 - loss: 46.5666 - vae_r_loss: 41.5969 - vae_kl_loss: 4.9697 "
     ]
    },
    {
     "name": "stderr",
     "output_type": "stream",
     "text": [
      "e:\\GenerativeDeepLearning\\venv\\lib\\site-packages\\keras\\callbacks.py:122: UserWarning: Method on_batch_end() is slow compared to the batch update (0.539546). Check your callbacks.\n",
      "  % delta_t_median)\n",
      "e:\\GenerativeDeepLearning\\venv\\lib\\site-packages\\keras\\callbacks.py:122: UserWarning: Method on_batch_end() is slow compared to the batch update (0.269773). Check your callbacks.\n",
      "  % delta_t_median)\n"
     ]
    },
    {
     "name": "stdout",
     "output_type": "stream",
     "text": [
      "60000/60000 [==============================] - 104s 2ms/step - loss: 45.9781 - vae_r_loss: 40.9553 - vae_kl_loss: 5.0227\n",
      "\n",
      "Epoch 00019: saving model to run/vae/0002_digits\\weights/weights-019-45.98.h5\n",
      "\n",
      "Epoch 00019: saving model to run/vae/0002_digits\\weights/weights.h5\n",
      "Epoch 20/200\n",
      "60000/60000 [==============================] - 109s 2ms/step - loss: 45.8793 - vae_r_loss: 40.8451 - vae_kl_loss: 5.03420s - loss: 45.8710 - vae_r_loss: 40.8365 - vae_kl_\n",
      "\n",
      "Epoch 00020: saving model to run/vae/0002_digits\\weights/weights-020-45.88.h5\n",
      "\n",
      "Epoch 00020: saving model to run/vae/0002_digits\\weights/weights.h5\n",
      "Epoch 21/200\n",
      "60000/60000 [==============================] - 113s 2ms/step - loss: 45.7758 - vae_r_loss: 40.7217 - vae_kl_loss: 5.0542\n",
      "\n",
      "Epoch 00021: saving model to run/vae/0002_digits\\weights/weights-021-45.78.h5\n",
      "\n",
      "Epoch 00021: saving model to run/vae/0002_digits\\weights/weights.h5\n",
      "Epoch 22/200\n",
      "  160/60000 [..............................] - ETA: 4:47 - loss: 46.0890 - vae_r_loss: 41.1004 - vae_kl_loss: 4.9886"
     ]
    },
    {
     "name": "stderr",
     "output_type": "stream",
     "text": [
      "e:\\GenerativeDeepLearning\\venv\\lib\\site-packages\\keras\\callbacks.py:122: UserWarning: Method on_batch_end() is slow compared to the batch update (0.532266). Check your callbacks.\n",
      "  % delta_t_median)\n",
      "e:\\GenerativeDeepLearning\\venv\\lib\\site-packages\\keras\\callbacks.py:122: UserWarning: Method on_batch_end() is slow compared to the batch update (0.266133). Check your callbacks.\n",
      "  % delta_t_median)\n"
     ]
    },
    {
     "name": "stdout",
     "output_type": "stream",
     "text": [
      "60000/60000 [==============================] - 105s 2ms/step - loss: 45.7644 - vae_r_loss: 40.7070 - vae_kl_loss: 5.0574\n",
      "\n",
      "Epoch 00022: saving model to run/vae/0002_digits\\weights/weights-022-45.76.h5\n",
      "\n",
      "Epoch 00022: saving model to run/vae/0002_digits\\weights/weights.h5\n",
      "Epoch 23/200\n",
      "  128/60000 [..............................] - ETA: 6:14 - loss: 43.2140 - vae_r_loss: 38.0735 - vae_kl_loss: 5.1405 "
     ]
    },
    {
     "name": "stderr",
     "output_type": "stream",
     "text": [
      "e:\\GenerativeDeepLearning\\venv\\lib\\site-packages\\keras\\callbacks.py:122: UserWarning: Method on_batch_end() is slow compared to the batch update (0.582625). Check your callbacks.\n",
      "  % delta_t_median)\n",
      "e:\\GenerativeDeepLearning\\venv\\lib\\site-packages\\keras\\callbacks.py:122: UserWarning: Method on_batch_end() is slow compared to the batch update (0.291812). Check your callbacks.\n",
      "  % delta_t_median)\n"
     ]
    },
    {
     "name": "stdout",
     "output_type": "stream",
     "text": [
      "60000/60000 [==============================] - 104s 2ms/step - loss: 45.6375 - vae_r_loss: 40.5605 - vae_kl_loss: 5.0770\n",
      "\n",
      "Epoch 00023: saving model to run/vae/0002_digits\\weights/weights-023-45.64.h5\n",
      "\n",
      "Epoch 00023: saving model to run/vae/0002_digits\\weights/weights.h5\n",
      "Epoch 24/200\n",
      "60000/60000 [==============================] - 110s 2ms/step - loss: 45.6057 - vae_r_loss: 40.5125 - vae_kl_loss: 5.0932\n",
      "\n",
      "Epoch 00024: saving model to run/vae/0002_digits\\weights/weights-024-45.61.h5\n",
      "\n",
      "Epoch 00024: saving model to run/vae/0002_digits\\weights/weights.h5\n",
      "Epoch 25/200\n",
      "60000/60000 [==============================] - 109s 2ms/step - loss: 45.5337 - vae_r_loss: 40.4248 - vae_kl_loss: 5.1090\n",
      "\n",
      "Epoch 00025: saving model to run/vae/0002_digits\\weights/weights-025-45.53.h5\n",
      "\n",
      "Epoch 00025: saving model to run/vae/0002_digits\\weights/weights.h5\n",
      "Epoch 26/200\n",
      "60000/60000 [==============================] - 105s 2ms/step - loss: 45.4632 - vae_r_loss: 40.3557 - vae_kl_loss: 5.1076\n",
      "\n",
      "Epoch 00026: saving model to run/vae/0002_digits\\weights/weights-026-45.46.h5\n",
      "\n",
      "Epoch 00026: saving model to run/vae/0002_digits\\weights/weights.h5\n",
      "Epoch 27/200\n",
      "  128/60000 [..............................] - ETA: 5:56 - loss: 45.3728 - vae_r_loss: 40.3374 - vae_kl_loss: 5.0354 "
     ]
    },
    {
     "name": "stderr",
     "output_type": "stream",
     "text": [
      "e:\\GenerativeDeepLearning\\venv\\lib\\site-packages\\keras\\callbacks.py:122: UserWarning: Method on_batch_end() is slow compared to the batch update (0.568521). Check your callbacks.\n",
      "  % delta_t_median)\n",
      "e:\\GenerativeDeepLearning\\venv\\lib\\site-packages\\keras\\callbacks.py:122: UserWarning: Method on_batch_end() is slow compared to the batch update (0.284761). Check your callbacks.\n",
      "  % delta_t_median)\n"
     ]
    },
    {
     "name": "stdout",
     "output_type": "stream",
     "text": [
      "60000/60000 [==============================] - 107s 2ms/step - loss: 45.3929 - vae_r_loss: 40.2853 - vae_kl_loss: 5.1077\n",
      "\n",
      "Epoch 00027: saving model to run/vae/0002_digits\\weights/weights-027-45.39.h5\n",
      "\n",
      "Epoch 00027: saving model to run/vae/0002_digits\\weights/weights.h5\n",
      "Epoch 28/200\n",
      "  128/60000 [..............................] - ETA: 6:05 - loss: 45.0086 - vae_r_loss: 39.8305 - vae_kl_loss: 5.1781 "
     ]
    },
    {
     "name": "stderr",
     "output_type": "stream",
     "text": [
      "e:\\GenerativeDeepLearning\\venv\\lib\\site-packages\\keras\\callbacks.py:122: UserWarning: Method on_batch_end() is slow compared to the batch update (0.574805). Check your callbacks.\n",
      "  % delta_t_median)\n",
      "e:\\GenerativeDeepLearning\\venv\\lib\\site-packages\\keras\\callbacks.py:122: UserWarning: Method on_batch_end() is slow compared to the batch update (0.288094). Check your callbacks.\n",
      "  % delta_t_median)\n"
     ]
    },
    {
     "name": "stdout",
     "output_type": "stream",
     "text": [
      "60000/60000 [==============================] - 113s 2ms/step - loss: 45.3611 - vae_r_loss: 40.2291 - vae_kl_loss: 5.1320\n",
      "\n",
      "Epoch 00028: saving model to run/vae/0002_digits\\weights/weights-028-45.36.h5\n",
      "\n",
      "Epoch 00028: saving model to run/vae/0002_digits\\weights/weights.h5\n",
      "Epoch 29/200\n",
      "60000/60000 [==============================] - 107s 2ms/step - loss: 45.3292 - vae_r_loss: 40.1785 - vae_kl_loss: 5.1506\n",
      "\n",
      "Epoch 00029: saving model to run/vae/0002_digits\\weights/weights-029-45.33.h5\n",
      "\n",
      "Epoch 00029: saving model to run/vae/0002_digits\\weights/weights.h5\n",
      "Epoch 30/200\n",
      "60000/60000 [==============================] - 106s 2ms/step - loss: 45.2631 - vae_r_loss: 40.1190 - vae_kl_loss: 5.1441\n",
      "\n",
      "Epoch 00030: saving model to run/vae/0002_digits\\weights/weights-030-45.26.h5\n",
      "\n",
      "Epoch 00030: saving model to run/vae/0002_digits\\weights/weights.h5\n",
      "Epoch 31/200\n",
      "  128/60000 [..............................] - ETA: 5:42 - loss: 45.5575 - vae_r_loss: 40.5436 - vae_kl_loss: 5.0139 "
     ]
    },
    {
     "name": "stderr",
     "output_type": "stream",
     "text": [
      "e:\\GenerativeDeepLearning\\venv\\lib\\site-packages\\keras\\callbacks.py:122: UserWarning: Method on_batch_end() is slow compared to the batch update (0.520074). Check your callbacks.\n",
      "  % delta_t_median)\n",
      "e:\\GenerativeDeepLearning\\venv\\lib\\site-packages\\keras\\callbacks.py:122: UserWarning: Method on_batch_end() is slow compared to the batch update (0.260537). Check your callbacks.\n",
      "  % delta_t_median)\n"
     ]
    },
    {
     "name": "stdout",
     "output_type": "stream",
     "text": [
      "60000/60000 [==============================] - 110s 2ms/step - loss: 45.1995 - vae_r_loss: 40.0349 - vae_kl_loss: 5.1646\n",
      "\n",
      "Epoch 00031: saving model to run/vae/0002_digits\\weights/weights-031-45.20.h5\n",
      "\n",
      "Epoch 00031: saving model to run/vae/0002_digits\\weights/weights.h5\n",
      "Epoch 32/200\n",
      "   96/60000 [..............................] - ETA: 7:13 - loss: 46.2290 - vae_r_loss: 41.0480 - vae_kl_loss: 5.1810 "
     ]
    },
    {
     "name": "stderr",
     "output_type": "stream",
     "text": [
      "e:\\GenerativeDeepLearning\\venv\\lib\\site-packages\\keras\\callbacks.py:122: UserWarning: Method on_batch_end() is slow compared to the batch update (0.524963). Check your callbacks.\n",
      "  % delta_t_median)\n",
      "e:\\GenerativeDeepLearning\\venv\\lib\\site-packages\\keras\\callbacks.py:122: UserWarning: Method on_batch_end() is slow compared to the batch update (0.263481). Check your callbacks.\n",
      "  % delta_t_median)\n"
     ]
    },
    {
     "name": "stdout",
     "output_type": "stream",
     "text": [
      "60000/60000 [==============================] - 108s 2ms/step - loss: 45.2111 - vae_r_loss: 40.0327 - vae_kl_loss: 5.1784\n",
      "\n",
      "Epoch 00032: saving model to run/vae/0002_digits\\weights/weights-032-45.21.h5\n",
      "\n",
      "Epoch 00032: saving model to run/vae/0002_digits\\weights/weights.h5\n",
      "Epoch 33/200\n",
      "60000/60000 [==============================] - 106s 2ms/step - loss: 45.1125 - vae_r_loss: 39.9310 - vae_kl_loss: 5.1815\n",
      "\n",
      "Epoch 00033: saving model to run/vae/0002_digits\\weights/weights-033-45.11.h5\n",
      "\n",
      "Epoch 00033: saving model to run/vae/0002_digits\\weights/weights.h5\n",
      "Epoch 34/200\n",
      "60000/60000 [==============================] - 112s 2ms/step - loss: 45.0627 - vae_r_loss: 39.8747 - vae_kl_loss: 5.1881\n",
      "\n",
      "Epoch 00034: saving model to run/vae/0002_digits\\weights/weights-034-45.06.h5\n",
      "\n",
      "Epoch 00034: saving model to run/vae/0002_digits\\weights/weights.h5\n",
      "Epoch 35/200\n",
      "60000/60000 [==============================] - 108s 2ms/step - loss: 45.0525 - vae_r_loss: 39.8608 - vae_kl_loss: 5.1917\n",
      "\n",
      "Epoch 00035: saving model to run/vae/0002_digits\\weights/weights-035-45.05.h5\n",
      "\n",
      "Epoch 00035: saving model to run/vae/0002_digits\\weights/weights.h5\n",
      "Epoch 36/200\n",
      "  128/60000 [..............................] - ETA: 5:59 - loss: 45.4933 - vae_r_loss: 40.2314 - vae_kl_loss: 5.2619 "
     ]
    },
    {
     "name": "stderr",
     "output_type": "stream",
     "text": [
      "e:\\GenerativeDeepLearning\\venv\\lib\\site-packages\\keras\\callbacks.py:122: UserWarning: Method on_batch_end() is slow compared to the batch update (0.561339). Check your callbacks.\n",
      "  % delta_t_median)\n",
      "e:\\GenerativeDeepLearning\\venv\\lib\\site-packages\\keras\\callbacks.py:122: UserWarning: Method on_batch_end() is slow compared to the batch update (0.280670). Check your callbacks.\n",
      "  % delta_t_median)\n"
     ]
    },
    {
     "name": "stdout",
     "output_type": "stream",
     "text": [
      "60000/60000 [==============================] - 105s 2ms/step - loss: 44.9803 - vae_r_loss: 39.7864 - vae_kl_loss: 5.1939\n",
      "\n",
      "Epoch 00036: saving model to run/vae/0002_digits\\weights/weights-036-44.98.h5\n",
      "\n",
      "Epoch 00036: saving model to run/vae/0002_digits\\weights/weights.h5\n",
      "Epoch 37/200\n",
      "   96/60000 [..............................] - ETA: 7:56 - loss: 44.2327 - vae_r_loss: 38.9999 - vae_kl_loss: 5.2328 "
     ]
    },
    {
     "name": "stderr",
     "output_type": "stream",
     "text": [
      "e:\\GenerativeDeepLearning\\venv\\lib\\site-packages\\keras\\callbacks.py:122: UserWarning: Method on_batch_end() is slow compared to the batch update (0.583398). Check your callbacks.\n",
      "  % delta_t_median)\n",
      "e:\\GenerativeDeepLearning\\venv\\lib\\site-packages\\keras\\callbacks.py:122: UserWarning: Method on_batch_end() is slow compared to the batch update (0.292198). Check your callbacks.\n",
      "  % delta_t_median)\n"
     ]
    },
    {
     "name": "stdout",
     "output_type": "stream",
     "text": [
      "60000/60000 [==============================] - 111s 2ms/step - loss: 44.9481 - vae_r_loss: 39.7624 - vae_kl_loss: 5.1857\n",
      "\n",
      "Epoch 00037: saving model to run/vae/0002_digits\\weights/weights-037-44.95.h5\n",
      "\n",
      "Epoch 00037: saving model to run/vae/0002_digits\\weights/weights.h5\n",
      "Epoch 38/200\n",
      "60000/60000 [==============================] - 107s 2ms/step - loss: 44.9492 - vae_r_loss: 39.7361 - vae_kl_loss: 5.2131\n",
      "\n",
      "Epoch 00038: saving model to run/vae/0002_digits\\weights/weights-038-44.95.h5\n",
      "\n",
      "Epoch 00038: saving model to run/vae/0002_digits\\weights/weights.h5\n",
      "Epoch 39/200\n",
      "60000/60000 [==============================] - 104s 2ms/step - loss: 44.9075 - vae_r_loss: 39.6939 - vae_kl_loss: 5.2136\n",
      "\n",
      "Epoch 00039: saving model to run/vae/0002_digits\\weights/weights-039-44.91.h5\n",
      "\n",
      "Epoch 00039: saving model to run/vae/0002_digits\\weights/weights.h5\n",
      "Epoch 40/200\n",
      "   96/60000 [..............................] - ETA: 7:13 - loss: 47.5946 - vae_r_loss: 42.5293 - vae_kl_loss: 5.0653 "
     ]
    },
    {
     "name": "stderr",
     "output_type": "stream",
     "text": [
      "e:\\GenerativeDeepLearning\\venv\\lib\\site-packages\\keras\\callbacks.py:122: UserWarning: Method on_batch_end() is slow compared to the batch update (0.532456). Check your callbacks.\n",
      "  % delta_t_median)\n",
      "e:\\GenerativeDeepLearning\\venv\\lib\\site-packages\\keras\\callbacks.py:122: UserWarning: Method on_batch_end() is slow compared to the batch update (0.267228). Check your callbacks.\n",
      "  % delta_t_median)\n"
     ]
    },
    {
     "name": "stdout",
     "output_type": "stream",
     "text": [
      "60000/60000 [==============================] - 110s 2ms/step - loss: 44.8426 - vae_r_loss: 39.6284 - vae_kl_loss: 5.21420s - loss: 44.8531 - vae_r_loss: 39.63\n",
      "\n",
      "Epoch 00040: saving model to run/vae/0002_digits\\weights/weights-040-44.84.h5\n",
      "\n",
      "Epoch 00040: saving model to run/vae/0002_digits\\weights/weights.h5\n",
      "Epoch 41/200\n",
      "  128/60000 [..............................] - ETA: 5:34 - loss: 44.9762 - vae_r_loss: 39.7374 - vae_kl_loss: 5.2388"
     ]
    },
    {
     "name": "stderr",
     "output_type": "stream",
     "text": [
      "e:\\GenerativeDeepLearning\\venv\\lib\\site-packages\\keras\\callbacks.py:122: UserWarning: Method on_batch_end() is slow compared to the batch update (0.524080). Check your callbacks.\n",
      "  % delta_t_median)\n",
      "e:\\GenerativeDeepLearning\\venv\\lib\\site-packages\\keras\\callbacks.py:122: UserWarning: Method on_batch_end() is slow compared to the batch update (0.262522). Check your callbacks.\n",
      "  % delta_t_median)\n"
     ]
    },
    {
     "name": "stdout",
     "output_type": "stream",
     "text": [
      "60000/60000 [==============================] - 112s 2ms/step - loss: 44.8055 - vae_r_loss: 39.5759 - vae_kl_loss: 5.2296\n",
      "\n",
      "Epoch 00041: saving model to run/vae/0002_digits\\weights/weights-041-44.81.h5\n",
      "\n",
      "Epoch 00041: saving model to run/vae/0002_digits\\weights/weights.h5\n",
      "Epoch 42/200\n",
      "  128/60000 [..............................] - ETA: 5:28 - loss: 48.9292 - vae_r_loss: 43.7037 - vae_kl_loss: 5.2256"
     ]
    },
    {
     "name": "stderr",
     "output_type": "stream",
     "text": [
      "e:\\GenerativeDeepLearning\\venv\\lib\\site-packages\\keras\\callbacks.py:122: UserWarning: Method on_batch_end() is slow compared to the batch update (0.528352). Check your callbacks.\n",
      "  % delta_t_median)\n",
      "e:\\GenerativeDeepLearning\\venv\\lib\\site-packages\\keras\\callbacks.py:122: UserWarning: Method on_batch_end() is slow compared to the batch update (0.264676). Check your callbacks.\n",
      "  % delta_t_median)\n"
     ]
    },
    {
     "name": "stdout",
     "output_type": "stream",
     "text": [
      "60000/60000 [==============================] - 106s 2ms/step - loss: 44.8088 - vae_r_loss: 39.5831 - vae_kl_loss: 5.2257\n",
      "\n",
      "Epoch 00042: saving model to run/vae/0002_digits\\weights/weights-042-44.81.h5\n",
      "\n",
      "Epoch 00042: saving model to run/vae/0002_digits\\weights/weights.h5\n",
      "Epoch 43/200\n",
      "  160/60000 [..............................] - ETA: 5:01 - loss: 43.0638 - vae_r_loss: 37.7970 - vae_kl_loss: 5.2668"
     ]
    },
    {
     "name": "stderr",
     "output_type": "stream",
     "text": [
      "e:\\GenerativeDeepLearning\\venv\\lib\\site-packages\\keras\\callbacks.py:122: UserWarning: Method on_batch_end() is slow compared to the batch update (0.552454). Check your callbacks.\n",
      "  % delta_t_median)\n",
      "e:\\GenerativeDeepLearning\\venv\\lib\\site-packages\\keras\\callbacks.py:122: UserWarning: Method on_batch_end() is slow compared to the batch update (0.276227). Check your callbacks.\n",
      "  % delta_t_median)\n"
     ]
    },
    {
     "name": "stdout",
     "output_type": "stream",
     "text": [
      "60000/60000 [==============================] - 104s 2ms/step - loss: 44.7326 - vae_r_loss: 39.4993 - vae_kl_loss: 5.2333\n",
      "\n",
      "Epoch 00043: saving model to run/vae/0002_digits\\weights/weights-043-44.73.h5\n",
      "\n",
      "Epoch 00043: saving model to run/vae/0002_digits\\weights/weights.h5\n",
      "Epoch 44/200\n",
      "  128/60000 [..............................] - ETA: 3:47 - loss: 46.4249 - vae_r_loss: 41.2320 - vae_kl_loss: 5.1929"
     ]
    },
    {
     "name": "stderr",
     "output_type": "stream",
     "text": [
      "e:\\GenerativeDeepLearning\\venv\\lib\\site-packages\\keras\\callbacks.py:122: UserWarning: Method on_batch_end() is slow compared to the batch update (0.278930). Check your callbacks.\n",
      "  % delta_t_median)\n",
      "e:\\GenerativeDeepLearning\\venv\\lib\\site-packages\\keras\\callbacks.py:122: UserWarning: Method on_batch_end() is slow compared to the batch update (0.141342). Check your callbacks.\n",
      "  % delta_t_median)\n"
     ]
    },
    {
     "name": "stdout",
     "output_type": "stream",
     "text": [
      "60000/60000 [==============================] - 110s 2ms/step - loss: 44.6962 - vae_r_loss: 39.4550 - vae_kl_loss: 5.2412\n",
      "\n",
      "Epoch 00044: saving model to run/vae/0002_digits\\weights/weights-044-44.70.h5\n",
      "\n",
      "Epoch 00044: saving model to run/vae/0002_digits\\weights/weights.h5\n",
      "Epoch 45/200\n",
      "  160/60000 [..............................] - ETA: 4:48 - loss: 44.4994 - vae_r_loss: 39.3172 - vae_kl_loss: 5.1822"
     ]
    },
    {
     "name": "stderr",
     "output_type": "stream",
     "text": [
      "e:\\GenerativeDeepLearning\\venv\\lib\\site-packages\\keras\\callbacks.py:122: UserWarning: Method on_batch_end() is slow compared to the batch update (0.538069). Check your callbacks.\n",
      "  % delta_t_median)\n",
      "e:\\GenerativeDeepLearning\\venv\\lib\\site-packages\\keras\\callbacks.py:122: UserWarning: Method on_batch_end() is slow compared to the batch update (0.269035). Check your callbacks.\n",
      "  % delta_t_median)\n"
     ]
    },
    {
     "name": "stdout",
     "output_type": "stream",
     "text": [
      "60000/60000 [==============================] - 108s 2ms/step - loss: 44.7030 - vae_r_loss: 39.4608 - vae_kl_loss: 5.2422\n",
      "\n",
      "Epoch 00045: saving model to run/vae/0002_digits\\weights/weights-045-44.70.h5\n",
      "\n",
      "Epoch 00045: saving model to run/vae/0002_digits\\weights/weights.h5\n",
      "Epoch 46/200\n",
      "  128/60000 [..............................] - ETA: 5:40 - loss: 43.8458 - vae_r_loss: 38.5755 - vae_kl_loss: 5.2703 "
     ]
    },
    {
     "name": "stderr",
     "output_type": "stream",
     "text": [
      "e:\\GenerativeDeepLearning\\venv\\lib\\site-packages\\keras\\callbacks.py:122: UserWarning: Method on_batch_end() is slow compared to the batch update (0.530631). Check your callbacks.\n",
      "  % delta_t_median)\n",
      "e:\\GenerativeDeepLearning\\venv\\lib\\site-packages\\keras\\callbacks.py:122: UserWarning: Method on_batch_end() is slow compared to the batch update (0.265815). Check your callbacks.\n",
      "  % delta_t_median)\n"
     ]
    },
    {
     "name": "stdout",
     "output_type": "stream",
     "text": [
      "60000/60000 [==============================] - 108s 2ms/step - loss: 44.6581 - vae_r_loss: 39.4012 - vae_kl_loss: 5.2569\n",
      "\n",
      "Epoch 00046: saving model to run/vae/0002_digits\\weights/weights-046-44.66.h5\n",
      "\n",
      "Epoch 00046: saving model to run/vae/0002_digits\\weights/weights.h5\n",
      "Epoch 47/200\n",
      "  128/60000 [..............................] - ETA: 5:41 - loss: 43.6346 - vae_r_loss: 38.4930 - vae_kl_loss: 5.1416 "
     ]
    },
    {
     "name": "stderr",
     "output_type": "stream",
     "text": [
      "e:\\GenerativeDeepLearning\\venv\\lib\\site-packages\\keras\\callbacks.py:122: UserWarning: Method on_batch_end() is slow compared to the batch update (0.527915). Check your callbacks.\n",
      "  % delta_t_median)\n",
      "e:\\GenerativeDeepLearning\\venv\\lib\\site-packages\\keras\\callbacks.py:122: UserWarning: Method on_batch_end() is slow compared to the batch update (0.264460). Check your callbacks.\n",
      "  % delta_t_median)\n"
     ]
    },
    {
     "name": "stdout",
     "output_type": "stream",
     "text": [
      "60000/60000 [==============================] - 107s 2ms/step - loss: 44.6338 - vae_r_loss: 39.3652 - vae_kl_loss: 5.2687\n",
      "\n",
      "Epoch 00047: saving model to run/vae/0002_digits\\weights/weights-047-44.63.h5\n",
      "\n",
      "Epoch 00047: saving model to run/vae/0002_digits\\weights/weights.h5\n",
      "Epoch 48/200\n",
      "  128/60000 [..............................] - ETA: 3:23 - loss: 45.2379 - vae_r_loss: 39.7753 - vae_kl_loss: 5.4626"
     ]
    },
    {
     "name": "stderr",
     "output_type": "stream",
     "text": [
      "e:\\GenerativeDeepLearning\\venv\\lib\\site-packages\\keras\\callbacks.py:122: UserWarning: Method on_batch_end() is slow compared to the batch update (0.254295). Check your callbacks.\n",
      "  % delta_t_median)\n",
      "e:\\GenerativeDeepLearning\\venv\\lib\\site-packages\\keras\\callbacks.py:122: UserWarning: Method on_batch_end() is slow compared to the batch update (0.127645). Check your callbacks.\n",
      "  % delta_t_median)\n"
     ]
    },
    {
     "name": "stdout",
     "output_type": "stream",
     "text": [
      "60000/60000 [==============================] - 110s 2ms/step - loss: 44.6279 - vae_r_loss: 39.3541 - vae_kl_loss: 5.2739\n",
      "\n",
      "Epoch 00048: saving model to run/vae/0002_digits\\weights/weights-048-44.63.h5\n",
      "\n",
      "Epoch 00048: saving model to run/vae/0002_digits\\weights/weights.h5\n",
      "Epoch 49/200\n",
      "  128/60000 [..............................] - ETA: 5:56 - loss: 43.3936 - vae_r_loss: 38.0517 - vae_kl_loss: 5.3420 "
     ]
    },
    {
     "name": "stderr",
     "output_type": "stream",
     "text": [
      "e:\\GenerativeDeepLearning\\venv\\lib\\site-packages\\keras\\callbacks.py:122: UserWarning: Method on_batch_end() is slow compared to the batch update (0.532312). Check your callbacks.\n",
      "  % delta_t_median)\n",
      "e:\\GenerativeDeepLearning\\venv\\lib\\site-packages\\keras\\callbacks.py:122: UserWarning: Method on_batch_end() is slow compared to the batch update (0.266656). Check your callbacks.\n",
      "  % delta_t_median)\n"
     ]
    },
    {
     "name": "stdout",
     "output_type": "stream",
     "text": [
      "60000/60000 [==============================] - 107s 2ms/step - loss: 44.5577 - vae_r_loss: 39.2961 - vae_kl_loss: 5.2617\n",
      "\n",
      "Epoch 00049: saving model to run/vae/0002_digits\\weights/weights-049-44.56.h5\n",
      "\n",
      "Epoch 00049: saving model to run/vae/0002_digits\\weights/weights.h5\n",
      "Epoch 50/200\n",
      "  128/60000 [..............................] - ETA: 6:03 - loss: 43.2574 - vae_r_loss: 37.7119 - vae_kl_loss: 5.5455 "
     ]
    },
    {
     "name": "stderr",
     "output_type": "stream",
     "text": [
      "e:\\GenerativeDeepLearning\\venv\\lib\\site-packages\\keras\\callbacks.py:122: UserWarning: Method on_batch_end() is slow compared to the batch update (0.572443). Check your callbacks.\n",
      "  % delta_t_median)\n",
      "e:\\GenerativeDeepLearning\\venv\\lib\\site-packages\\keras\\callbacks.py:122: UserWarning: Method on_batch_end() is slow compared to the batch update (0.287221). Check your callbacks.\n",
      "  % delta_t_median)\n"
     ]
    },
    {
     "name": "stdout",
     "output_type": "stream",
     "text": [
      "60000/60000 [==============================] - 109s 2ms/step - loss: 44.5804 - vae_r_loss: 39.3049 - vae_kl_loss: 5.2756\n",
      "\n",
      "Epoch 00050: saving model to run/vae/0002_digits\\weights/weights-050-44.58.h5\n",
      "\n",
      "Epoch 00050: saving model to run/vae/0002_digits\\weights/weights.h5\n",
      "Epoch 51/200\n",
      "  128/60000 [..............................] - ETA: 5:47 - loss: 44.5867 - vae_r_loss: 39.4291 - vae_kl_loss: 5.1576 "
     ]
    },
    {
     "name": "stderr",
     "output_type": "stream",
     "text": [
      "e:\\GenerativeDeepLearning\\venv\\lib\\site-packages\\keras\\callbacks.py:122: UserWarning: Method on_batch_end() is slow compared to the batch update (0.531046). Check your callbacks.\n",
      "  % delta_t_median)\n",
      "e:\\GenerativeDeepLearning\\venv\\lib\\site-packages\\keras\\callbacks.py:122: UserWarning: Method on_batch_end() is slow compared to the batch update (0.266023). Check your callbacks.\n",
      "  % delta_t_median)\n"
     ]
    },
    {
     "name": "stdout",
     "output_type": "stream",
     "text": [
      "60000/60000 [==============================] - 112s 2ms/step - loss: 44.5057 - vae_r_loss: 39.2265 - vae_kl_loss: 5.2791\n",
      "\n",
      "Epoch 00051: saving model to run/vae/0002_digits\\weights/weights-051-44.51.h5\n",
      "\n",
      "Epoch 00051: saving model to run/vae/0002_digits\\weights/weights.h5\n",
      "Epoch 52/200\n",
      "  128/60000 [..............................] - ETA: 5:05 - loss: 44.1927 - vae_r_loss: 38.9135 - vae_kl_loss: 5.2793"
     ]
    },
    {
     "name": "stderr",
     "output_type": "stream",
     "text": [
      "e:\\GenerativeDeepLearning\\venv\\lib\\site-packages\\keras\\callbacks.py:122: UserWarning: Method on_batch_end() is slow compared to the batch update (0.463348). Check your callbacks.\n",
      "  % delta_t_median)\n",
      "e:\\GenerativeDeepLearning\\venv\\lib\\site-packages\\keras\\callbacks.py:122: UserWarning: Method on_batch_end() is slow compared to the batch update (0.232173). Check your callbacks.\n",
      "  % delta_t_median)\n"
     ]
    },
    {
     "name": "stdout",
     "output_type": "stream",
     "text": [
      "60000/60000 [==============================] - 105s 2ms/step - loss: 44.4913 - vae_r_loss: 39.2042 - vae_kl_loss: 5.2871\n",
      "\n",
      "Epoch 00052: saving model to run/vae/0002_digits\\weights/weights-052-44.49.h5\n",
      "\n",
      "Epoch 00052: saving model to run/vae/0002_digits\\weights/weights.h5\n",
      "Epoch 53/200\n",
      "60000/60000 [==============================] - 109s 2ms/step - loss: 44.5213 - vae_r_loss: 39.2241 - vae_kl_loss: 5.2972\n",
      "\n",
      "Epoch 00053: saving model to run/vae/0002_digits\\weights/weights-053-44.52.h5\n",
      "\n",
      "Epoch 00053: saving model to run/vae/0002_digits\\weights/weights.h5\n",
      "Epoch 54/200\n",
      "  128/60000 [..............................] - ETA: 7:08 - loss: 45.2201 - vae_r_loss: 40.0302 - vae_kl_loss: 5.1899 "
     ]
    },
    {
     "name": "stderr",
     "output_type": "stream",
     "text": [
      "e:\\GenerativeDeepLearning\\venv\\lib\\site-packages\\keras\\callbacks.py:122: UserWarning: Method on_batch_end() is slow compared to the batch update (0.700463). Check your callbacks.\n",
      "  % delta_t_median)\n",
      "e:\\GenerativeDeepLearning\\venv\\lib\\site-packages\\keras\\callbacks.py:122: UserWarning: Method on_batch_end() is slow compared to the batch update (0.350833). Check your callbacks.\n",
      "  % delta_t_median)\n"
     ]
    },
    {
     "name": "stdout",
     "output_type": "stream",
     "text": [
      "60000/60000 [==============================] - 110s 2ms/step - loss: 44.4388 - vae_r_loss: 39.1496 - vae_kl_loss: 5.2892\n",
      "\n",
      "Epoch 00054: saving model to run/vae/0002_digits\\weights/weights-054-44.44.h5\n",
      "\n",
      "Epoch 00054: saving model to run/vae/0002_digits\\weights/weights.h5\n",
      "Epoch 55/200\n",
      "  128/60000 [..............................] - ETA: 5:33 - loss: 43.8529 - vae_r_loss: 38.5064 - vae_kl_loss: 5.3465"
     ]
    },
    {
     "name": "stderr",
     "output_type": "stream",
     "text": [
      "e:\\GenerativeDeepLearning\\venv\\lib\\site-packages\\keras\\callbacks.py:122: UserWarning: Method on_batch_end() is slow compared to the batch update (0.528568). Check your callbacks.\n",
      "  % delta_t_median)\n",
      "e:\\GenerativeDeepLearning\\venv\\lib\\site-packages\\keras\\callbacks.py:122: UserWarning: Method on_batch_end() is slow compared to the batch update (0.265015). Check your callbacks.\n",
      "  % delta_t_median)\n"
     ]
    },
    {
     "name": "stdout",
     "output_type": "stream",
     "text": [
      "60000/60000 [==============================] - 107s 2ms/step - loss: 44.4267 - vae_r_loss: 39.1354 - vae_kl_loss: 5.2913\n",
      "\n",
      "Epoch 00055: saving model to run/vae/0002_digits\\weights/weights-055-44.43.h5\n",
      "\n",
      "Epoch 00055: saving model to run/vae/0002_digits\\weights/weights.h5\n",
      "Epoch 56/200\n",
      "  128/60000 [..............................] - ETA: 5:11 - loss: 44.1389 - vae_r_loss: 38.9698 - vae_kl_loss: 5.1691"
     ]
    },
    {
     "name": "stderr",
     "output_type": "stream",
     "text": [
      "e:\\GenerativeDeepLearning\\venv\\lib\\site-packages\\keras\\callbacks.py:122: UserWarning: Method on_batch_end() is slow compared to the batch update (0.469021). Check your callbacks.\n",
      "  % delta_t_median)\n",
      "e:\\GenerativeDeepLearning\\venv\\lib\\site-packages\\keras\\callbacks.py:122: UserWarning: Method on_batch_end() is slow compared to the batch update (0.235031). Check your callbacks.\n",
      "  % delta_t_median)\n"
     ]
    },
    {
     "name": "stdout",
     "output_type": "stream",
     "text": [
      "60000/60000 [==============================] - 112s 2ms/step - loss: 44.4091 - vae_r_loss: 39.1138 - vae_kl_loss: 5.2953\n",
      "\n",
      "Epoch 00056: saving model to run/vae/0002_digits\\weights/weights-056-44.41.h5\n",
      "\n",
      "Epoch 00056: saving model to run/vae/0002_digits\\weights/weights.h5\n",
      "Epoch 57/200\n",
      "60000/60000 [==============================] - 110s 2ms/step - loss: 44.4174 - vae_r_loss: 39.1000 - vae_kl_loss: 5.3174\n",
      "\n",
      "Epoch 00057: saving model to run/vae/0002_digits\\weights/weights-057-44.42.h5\n",
      "\n",
      "Epoch 00057: saving model to run/vae/0002_digits\\weights/weights.h5\n",
      "Epoch 58/200\n",
      "60000/60000 [==============================] - 106s 2ms/step - loss: 44.3733 - vae_r_loss: 39.0567 - vae_kl_loss: 5.3165\n",
      "\n",
      "Epoch 00058: saving model to run/vae/0002_digits\\weights/weights-058-44.37.h5\n",
      "\n",
      "Epoch 00058: saving model to run/vae/0002_digits\\weights/weights.h5\n",
      "Epoch 59/200\n",
      "  128/60000 [..............................] - ETA: 5:32 - loss: 44.6013 - vae_r_loss: 39.2031 - vae_kl_loss: 5.3982"
     ]
    },
    {
     "name": "stderr",
     "output_type": "stream",
     "text": [
      "e:\\GenerativeDeepLearning\\venv\\lib\\site-packages\\keras\\callbacks.py:122: UserWarning: Method on_batch_end() is slow compared to the batch update (0.535112). Check your callbacks.\n",
      "  % delta_t_median)\n",
      "e:\\GenerativeDeepLearning\\venv\\lib\\site-packages\\keras\\callbacks.py:122: UserWarning: Method on_batch_end() is slow compared to the batch update (0.268055). Check your callbacks.\n",
      "  % delta_t_median)\n"
     ]
    },
    {
     "name": "stdout",
     "output_type": "stream",
     "text": [
      "60000/60000 [==============================] - 110s 2ms/step - loss: 44.3323 - vae_r_loss: 39.0188 - vae_kl_loss: 5.3135\n",
      "\n",
      "Epoch 00059: saving model to run/vae/0002_digits\\weights/weights-059-44.33.h5\n",
      "\n",
      "Epoch 00059: saving model to run/vae/0002_digits\\weights/weights.h5\n",
      "Epoch 60/200\n",
      "  128/60000 [..............................] - ETA: 5:42 - loss: 43.8871 - vae_r_loss: 38.6781 - vae_kl_loss: 5.2090 "
     ]
    },
    {
     "name": "stderr",
     "output_type": "stream",
     "text": [
      "e:\\GenerativeDeepLearning\\venv\\lib\\site-packages\\keras\\callbacks.py:122: UserWarning: Method on_batch_end() is slow compared to the batch update (0.532531). Check your callbacks.\n",
      "  % delta_t_median)\n",
      "e:\\GenerativeDeepLearning\\venv\\lib\\site-packages\\keras\\callbacks.py:122: UserWarning: Method on_batch_end() is slow compared to the batch update (0.266767). Check your callbacks.\n",
      "  % delta_t_median)\n"
     ]
    },
    {
     "name": "stdout",
     "output_type": "stream",
     "text": [
      "60000/60000 [==============================] - 109s 2ms/step - loss: 44.3321 - vae_r_loss: 39.0107 - vae_kl_loss: 5.3214\n",
      "\n",
      "Epoch 00060: saving model to run/vae/0002_digits\\weights/weights-060-44.33.h5\n",
      "\n",
      "Epoch 00060: saving model to run/vae/0002_digits\\weights/weights.h5\n",
      "Epoch 61/200\n",
      "60000/60000 [==============================] - 106s 2ms/step - loss: 44.2909 - vae_r_loss: 38.9761 - vae_kl_loss: 5.3148\n",
      "\n",
      "Epoch 00061: saving model to run/vae/0002_digits\\weights/weights-061-44.29.h5\n",
      "\n",
      "Epoch 00061: saving model to run/vae/0002_digits\\weights/weights.h5\n",
      "Epoch 62/200\n",
      "60000/60000 [==============================] - 112s 2ms/step - loss: 44.2758 - vae_r_loss: 38.9494 - vae_kl_loss: 5.3264\n",
      "\n",
      "Epoch 00062: saving model to run/vae/0002_digits\\weights/weights-062-44.28.h5\n",
      "\n",
      "Epoch 00062: saving model to run/vae/0002_digits\\weights/weights.h5\n",
      "Epoch 63/200\n",
      "  128/60000 [..............................] - ETA: 5:31 - loss: 45.8923 - vae_r_loss: 40.5293 - vae_kl_loss: 5.3630"
     ]
    },
    {
     "name": "stderr",
     "output_type": "stream",
     "text": [
      "e:\\GenerativeDeepLearning\\venv\\lib\\site-packages\\keras\\callbacks.py:122: UserWarning: Method on_batch_end() is slow compared to the batch update (0.524833). Check your callbacks.\n",
      "  % delta_t_median)\n",
      "e:\\GenerativeDeepLearning\\venv\\lib\\site-packages\\keras\\callbacks.py:122: UserWarning: Method on_batch_end() is slow compared to the batch update (0.262417). Check your callbacks.\n",
      "  % delta_t_median)\n"
     ]
    },
    {
     "name": "stdout",
     "output_type": "stream",
     "text": [
      "60000/60000 [==============================] - 107s 2ms/step - loss: 44.2362 - vae_r_loss: 38.9128 - vae_kl_loss: 5.3234\n",
      "\n",
      "Epoch 00063: saving model to run/vae/0002_digits\\weights/weights-063-44.24.h5\n",
      "\n",
      "Epoch 00063: saving model to run/vae/0002_digits\\weights/weights.h5\n",
      "Epoch 64/200\n",
      "  128/60000 [..............................] - ETA: 5:37 - loss: 41.4758 - vae_r_loss: 36.0808 - vae_kl_loss: 5.3950"
     ]
    },
    {
     "name": "stderr",
     "output_type": "stream",
     "text": [
      "e:\\GenerativeDeepLearning\\venv\\lib\\site-packages\\keras\\callbacks.py:122: UserWarning: Method on_batch_end() is slow compared to the batch update (0.533206). Check your callbacks.\n",
      "  % delta_t_median)\n",
      "e:\\GenerativeDeepLearning\\venv\\lib\\site-packages\\keras\\callbacks.py:122: UserWarning: Method on_batch_end() is slow compared to the batch update (0.267104). Check your callbacks.\n",
      "  % delta_t_median)\n"
     ]
    },
    {
     "name": "stdout",
     "output_type": "stream",
     "text": [
      "60000/60000 [==============================] - 106s 2ms/step - loss: 44.2369 - vae_r_loss: 38.9036 - vae_kl_loss: 5.3333\n",
      "\n",
      "Epoch 00064: saving model to run/vae/0002_digits\\weights/weights-064-44.24.h5\n",
      "\n",
      "Epoch 00064: saving model to run/vae/0002_digits\\weights/weights.h5\n",
      "Epoch 65/200\n",
      "60000/60000 [==============================] - 110s 2ms/step - loss: 44.2348 - vae_r_loss: 38.8912 - vae_kl_loss: 5.3437\n",
      "\n",
      "Epoch 00065: saving model to run/vae/0002_digits\\weights/weights-065-44.23.h5\n",
      "\n",
      "Epoch 00065: saving model to run/vae/0002_digits\\weights/weights.h5\n",
      "Epoch 66/200\n",
      "60000/60000 [==============================] - 108s 2ms/step - loss: 44.1860 - vae_r_loss: 38.8439 - vae_kl_loss: 5.3421\n",
      "\n",
      "Epoch 00066: saving model to run/vae/0002_digits\\weights/weights-066-44.19.h5\n",
      "\n",
      "Epoch 00066: saving model to run/vae/0002_digits\\weights/weights.h5\n",
      "Epoch 67/200\n",
      "60000/60000 [==============================] - 105s 2ms/step - loss: 44.1581 - vae_r_loss: 38.8135 - vae_kl_loss: 5.3445\n",
      "\n",
      "Epoch 00067: saving model to run/vae/0002_digits\\weights/weights-067-44.16.h5\n",
      "\n",
      "Epoch 00067: saving model to run/vae/0002_digits\\weights/weights.h5\n",
      "Epoch 68/200\n",
      "  128/60000 [..............................] - ETA: 5:56 - loss: 45.6818 - vae_r_loss: 40.3708 - vae_kl_loss: 5.3109"
     ]
    },
    {
     "name": "stderr",
     "output_type": "stream",
     "text": [
      "e:\\GenerativeDeepLearning\\venv\\lib\\site-packages\\keras\\callbacks.py:122: UserWarning: Method on_batch_end() is slow compared to the batch update (0.541583). Check your callbacks.\n",
      "  % delta_t_median)\n",
      "e:\\GenerativeDeepLearning\\venv\\lib\\site-packages\\keras\\callbacks.py:122: UserWarning: Method on_batch_end() is slow compared to the batch update (0.270791). Check your callbacks.\n",
      "  % delta_t_median)\n"
     ]
    },
    {
     "name": "stdout",
     "output_type": "stream",
     "text": [
      "60000/60000 [==============================] - 111s 2ms/step - loss: 44.1549 - vae_r_loss: 38.8226 - vae_kl_loss: 5.3323\n",
      "\n",
      "Epoch 00068: saving model to run/vae/0002_digits\\weights/weights-068-44.15.h5\n",
      "\n",
      "Epoch 00068: saving model to run/vae/0002_digits\\weights/weights.h5\n",
      "Epoch 69/200\n",
      "   96/60000 [..............................] - ETA: 7:19 - loss: 43.9026 - vae_r_loss: 38.7181 - vae_kl_loss: 5.1845 "
     ]
    },
    {
     "name": "stderr",
     "output_type": "stream",
     "text": [
      "e:\\GenerativeDeepLearning\\venv\\lib\\site-packages\\keras\\callbacks.py:122: UserWarning: Method on_batch_end() is slow compared to the batch update (0.543857). Check your callbacks.\n",
      "  % delta_t_median)\n",
      "e:\\GenerativeDeepLearning\\venv\\lib\\site-packages\\keras\\callbacks.py:122: UserWarning: Method on_batch_end() is slow compared to the batch update (0.271929). Check your callbacks.\n",
      "  % delta_t_median)\n"
     ]
    },
    {
     "name": "stdout",
     "output_type": "stream",
     "text": [
      "60000/60000 [==============================] - 2646s 44ms/step - loss: 44.1319 - vae_r_loss: 38.7855 - vae_kl_loss: 5.3463\n",
      "\n",
      "Epoch 00069: saving model to run/vae/0002_digits\\weights/weights-069-44.13.h5\n",
      "\n",
      "Epoch 00069: saving model to run/vae/0002_digits\\weights/weights.h5\n",
      "Epoch 70/200\n",
      "60000/60000 [==============================] - 98s 2ms/step - loss: 44.1416 - vae_r_loss: 38.7967 - vae_kl_loss: 5.3449 0s - loss: 44.1442 - vae_r_loss: 38.7993 - vae_kl_lo\n",
      "\n",
      "Epoch 00070: saving model to run/vae/0002_digits\\weights/weights-070-44.14.h5\n",
      "\n",
      "Epoch 00070: saving model to run/vae/0002_digits\\weights/weights.h5\n",
      "Epoch 71/200\n",
      "60000/60000 [==============================] - 90s 2ms/step - loss: 44.1413 - vae_r_loss: 38.7957 - vae_kl_loss: 5.3456\n",
      "\n",
      "Epoch 00071: saving model to run/vae/0002_digits\\weights/weights-071-44.14.h5\n",
      "\n",
      "Epoch 00071: saving model to run/vae/0002_digits\\weights/weights.h5\n",
      "Epoch 72/200\n",
      "  128/60000 [..............................] - ETA: 6:03 - loss: 41.7233 - vae_r_loss: 36.2545 - vae_kl_loss: 5.4688 "
     ]
    },
    {
     "name": "stderr",
     "output_type": "stream",
     "text": [
      "e:\\GenerativeDeepLearning\\venv\\lib\\site-packages\\keras\\callbacks.py:122: UserWarning: Method on_batch_end() is slow compared to the batch update (0.589916). Check your callbacks.\n",
      "  % delta_t_median)\n",
      "e:\\GenerativeDeepLearning\\venv\\lib\\site-packages\\keras\\callbacks.py:122: UserWarning: Method on_batch_end() is slow compared to the batch update (0.295685). Check your callbacks.\n",
      "  % delta_t_median)\n"
     ]
    },
    {
     "name": "stdout",
     "output_type": "stream",
     "text": [
      "60000/60000 [==============================] - 90s 2ms/step - loss: 44.1170 - vae_r_loss: 38.7581 - vae_kl_loss: 5.3589\n",
      "\n",
      "Epoch 00072: saving model to run/vae/0002_digits\\weights/weights-072-44.12.h5\n",
      "\n",
      "Epoch 00072: saving model to run/vae/0002_digits\\weights/weights.h5\n",
      "Epoch 73/200\n",
      "  128/60000 [..............................] - ETA: 5:55 - loss: 45.5959 - vae_r_loss: 40.1610 - vae_kl_loss: 5.4349 "
     ]
    },
    {
     "name": "stderr",
     "output_type": "stream",
     "text": [
      "e:\\GenerativeDeepLearning\\venv\\lib\\site-packages\\keras\\callbacks.py:122: UserWarning: Method on_batch_end() is slow compared to the batch update (0.559502). Check your callbacks.\n",
      "  % delta_t_median)\n",
      "e:\\GenerativeDeepLearning\\venv\\lib\\site-packages\\keras\\callbacks.py:122: UserWarning: Method on_batch_end() is slow compared to the batch update (0.279751). Check your callbacks.\n",
      "  % delta_t_median)\n"
     ]
    },
    {
     "name": "stdout",
     "output_type": "stream",
     "text": [
      "60000/60000 [==============================] - 89s 1ms/step - loss: 44.1023 - vae_r_loss: 38.7416 - vae_kl_loss: 5.3607\n",
      "\n",
      "Epoch 00073: saving model to run/vae/0002_digits\\weights/weights-073-44.10.h5\n",
      "\n",
      "Epoch 00073: saving model to run/vae/0002_digits\\weights/weights.h5\n",
      "Epoch 74/200\n",
      "  128/60000 [..............................] - ETA: 5:25 - loss: 43.7384 - vae_r_loss: 38.4233 - vae_kl_loss: 5.3152"
     ]
    },
    {
     "name": "stderr",
     "output_type": "stream",
     "text": [
      "e:\\GenerativeDeepLearning\\venv\\lib\\site-packages\\keras\\callbacks.py:122: UserWarning: Method on_batch_end() is slow compared to the batch update (0.521849). Check your callbacks.\n",
      "  % delta_t_median)\n",
      "e:\\GenerativeDeepLearning\\venv\\lib\\site-packages\\keras\\callbacks.py:122: UserWarning: Method on_batch_end() is slow compared to the batch update (0.261427). Check your callbacks.\n",
      "  % delta_t_median)\n"
     ]
    },
    {
     "name": "stdout",
     "output_type": "stream",
     "text": [
      "60000/60000 [==============================] - 89s 1ms/step - loss: 44.0740 - vae_r_loss: 38.6976 - vae_kl_loss: 5.3765\n",
      "\n",
      "Epoch 00074: saving model to run/vae/0002_digits\\weights/weights-074-44.07.h5\n",
      "\n",
      "Epoch 00074: saving model to run/vae/0002_digits\\weights/weights.h5\n",
      "Epoch 75/200\n",
      "60000/60000 [==============================] - 89s 1ms/step - loss: 44.0264 - vae_r_loss: 38.6605 - vae_kl_loss: 5.3659\n",
      "\n",
      "Epoch 00075: saving model to run/vae/0002_digits\\weights/weights-075-44.03.h5\n",
      "\n",
      "Epoch 00075: saving model to run/vae/0002_digits\\weights/weights.h5\n",
      "Epoch 76/200\n",
      "60000/60000 [==============================] - 90s 1ms/step - loss: 44.0411 - vae_r_loss: 38.6781 - vae_kl_loss: 5.3630\n",
      "\n",
      "Epoch 00076: saving model to run/vae/0002_digits\\weights/weights-076-44.04.h5\n",
      "\n",
      "Epoch 00076: saving model to run/vae/0002_digits\\weights/weights.h5\n",
      "Epoch 77/200\n",
      "  128/60000 [..............................] - ETA: 6:07 - loss: 43.1503 - vae_r_loss: 37.7705 - vae_kl_loss: 5.3798 "
     ]
    },
    {
     "name": "stderr",
     "output_type": "stream",
     "text": [
      "e:\\GenerativeDeepLearning\\venv\\lib\\site-packages\\keras\\callbacks.py:122: UserWarning: Method on_batch_end() is slow compared to the batch update (0.586265). Check your callbacks.\n",
      "  % delta_t_median)\n",
      "e:\\GenerativeDeepLearning\\venv\\lib\\site-packages\\keras\\callbacks.py:122: UserWarning: Method on_batch_end() is slow compared to the batch update (0.293635). Check your callbacks.\n",
      "  % delta_t_median)\n"
     ]
    },
    {
     "name": "stdout",
     "output_type": "stream",
     "text": [
      "60000/60000 [==============================] - 90s 1ms/step - loss: 43.9857 - vae_r_loss: 38.6166 - vae_kl_loss: 5.3691\n",
      "\n",
      "Epoch 00077: saving model to run/vae/0002_digits\\weights/weights-077-43.99.h5\n",
      "\n",
      "Epoch 00077: saving model to run/vae/0002_digits\\weights/weights.h5\n",
      "Epoch 78/200\n",
      "  128/60000 [..............................] - ETA: 6:17 - loss: 42.7840 - vae_r_loss: 37.2867 - vae_kl_loss: 5.4972 "
     ]
    },
    {
     "name": "stderr",
     "output_type": "stream",
     "text": [
      "e:\\GenerativeDeepLearning\\venv\\lib\\site-packages\\keras\\callbacks.py:122: UserWarning: Method on_batch_end() is slow compared to the batch update (0.575407). Check your callbacks.\n",
      "  % delta_t_median)\n",
      "e:\\GenerativeDeepLearning\\venv\\lib\\site-packages\\keras\\callbacks.py:122: UserWarning: Method on_batch_end() is slow compared to the batch update (0.288273). Check your callbacks.\n",
      "  % delta_t_median)\n"
     ]
    },
    {
     "name": "stdout",
     "output_type": "stream",
     "text": [
      "60000/60000 [==============================] - 89s 1ms/step - loss: 43.9982 - vae_r_loss: 38.6214 - vae_kl_loss: 5.3768\n",
      "\n",
      "Epoch 00078: saving model to run/vae/0002_digits\\weights/weights-078-44.00.h5\n",
      "\n",
      "Epoch 00078: saving model to run/vae/0002_digits\\weights/weights.h5\n",
      "Epoch 79/200\n",
      "60000/60000 [==============================] - 89s 1ms/step - loss: 43.9642 - vae_r_loss: 38.5903 - vae_kl_loss: 5.3739\n",
      "\n",
      "Epoch 00079: saving model to run/vae/0002_digits\\weights/weights-079-43.96.h5\n",
      "\n",
      "Epoch 00079: saving model to run/vae/0002_digits\\weights/weights.h5\n",
      "Epoch 80/200\n",
      "60000/60000 [==============================] - 90s 1ms/step - loss: 43.9514 - vae_r_loss: 38.5771 - vae_kl_loss: 5.3743\n",
      "\n",
      "Epoch 00080: saving model to run/vae/0002_digits\\weights/weights-080-43.95.h5\n",
      "\n",
      "Epoch 00080: saving model to run/vae/0002_digits\\weights/weights.h5\n",
      "Epoch 81/200\n",
      "  128/60000 [..............................] - ETA: 5:38 - loss: 42.9101 - vae_r_loss: 37.5379 - vae_kl_loss: 5.3722"
     ]
    },
    {
     "name": "stderr",
     "output_type": "stream",
     "text": [
      "e:\\GenerativeDeepLearning\\venv\\lib\\site-packages\\keras\\callbacks.py:122: UserWarning: Method on_batch_end() is slow compared to the batch update (0.535775). Check your callbacks.\n",
      "  % delta_t_median)\n",
      "e:\\GenerativeDeepLearning\\venv\\lib\\site-packages\\keras\\callbacks.py:122: UserWarning: Method on_batch_end() is slow compared to the batch update (0.268388). Check your callbacks.\n",
      "  % delta_t_median)\n"
     ]
    },
    {
     "name": "stdout",
     "output_type": "stream",
     "text": [
      "60000/60000 [==============================] - 89s 1ms/step - loss: 43.9677 - vae_r_loss: 38.5681 - vae_kl_loss: 5.3996\n",
      "\n",
      "Epoch 00081: saving model to run/vae/0002_digits\\weights/weights-081-43.97.h5\n",
      "\n",
      "Epoch 00081: saving model to run/vae/0002_digits\\weights/weights.h5\n",
      "Epoch 82/200\n",
      "  128/60000 [..............................] - ETA: 5:47 - loss: 43.5429 - vae_r_loss: 38.2259 - vae_kl_loss: 5.3170 "
     ]
    },
    {
     "name": "stderr",
     "output_type": "stream",
     "text": [
      "e:\\GenerativeDeepLearning\\venv\\lib\\site-packages\\keras\\callbacks.py:122: UserWarning: Method on_batch_end() is slow compared to the batch update (0.531930). Check your callbacks.\n",
      "  % delta_t_median)\n",
      "e:\\GenerativeDeepLearning\\venv\\lib\\site-packages\\keras\\callbacks.py:122: UserWarning: Method on_batch_end() is slow compared to the batch update (0.266465). Check your callbacks.\n",
      "  % delta_t_median)\n"
     ]
    },
    {
     "name": "stdout",
     "output_type": "stream",
     "text": [
      "60000/60000 [==============================] - 90s 1ms/step - loss: 43.9530 - vae_r_loss: 38.5635 - vae_kl_loss: 5.3895\n",
      "\n",
      "Epoch 00082: saving model to run/vae/0002_digits\\weights/weights-082-43.95.h5\n",
      "\n",
      "Epoch 00082: saving model to run/vae/0002_digits\\weights/weights.h5\n",
      "Epoch 83/200\n",
      "  128/60000 [..............................] - ETA: 6:06 - loss: 44.5317 - vae_r_loss: 39.1750 - vae_kl_loss: 5.3567 "
     ]
    },
    {
     "name": "stderr",
     "output_type": "stream",
     "text": [
      "e:\\GenerativeDeepLearning\\venv\\lib\\site-packages\\keras\\callbacks.py:122: UserWarning: Method on_batch_end() is slow compared to the batch update (0.544752). Check your callbacks.\n",
      "  % delta_t_median)\n",
      "e:\\GenerativeDeepLearning\\venv\\lib\\site-packages\\keras\\callbacks.py:122: UserWarning: Method on_batch_end() is slow compared to the batch update (0.272881). Check your callbacks.\n",
      "  % delta_t_median)\n"
     ]
    },
    {
     "name": "stdout",
     "output_type": "stream",
     "text": [
      "60000/60000 [==============================] - 89s 1ms/step - loss: 43.9407 - vae_r_loss: 38.5381 - vae_kl_loss: 5.4026\n",
      "\n",
      "Epoch 00083: saving model to run/vae/0002_digits\\weights/weights-083-43.94.h5\n",
      "\n",
      "Epoch 00083: saving model to run/vae/0002_digits\\weights/weights.h5\n",
      "Epoch 84/200\n",
      "  128/60000 [..............................] - ETA: 5:28 - loss: 41.2659 - vae_r_loss: 36.0126 - vae_kl_loss: 5.2534"
     ]
    },
    {
     "name": "stderr",
     "output_type": "stream",
     "text": [
      "e:\\GenerativeDeepLearning\\venv\\lib\\site-packages\\keras\\callbacks.py:122: UserWarning: Method on_batch_end() is slow compared to the batch update (0.516055). Check your callbacks.\n",
      "  % delta_t_median)\n",
      "e:\\GenerativeDeepLearning\\venv\\lib\\site-packages\\keras\\callbacks.py:122: UserWarning: Method on_batch_end() is slow compared to the batch update (0.258028). Check your callbacks.\n",
      "  % delta_t_median)\n"
     ]
    },
    {
     "name": "stdout",
     "output_type": "stream",
     "text": [
      "60000/60000 [==============================] - 89s 1ms/step - loss: 43.9103 - vae_r_loss: 38.5079 - vae_kl_loss: 5.4023\n",
      "\n",
      "Epoch 00084: saving model to run/vae/0002_digits\\weights/weights-084-43.91.h5\n",
      "\n",
      "Epoch 00084: saving model to run/vae/0002_digits\\weights/weights.h5\n",
      "Epoch 85/200\n",
      "60000/60000 [==============================] - 89s 1ms/step - loss: 43.8798 - vae_r_loss: 38.4891 - vae_kl_loss: 5.3907\n",
      "\n",
      "Epoch 00085: saving model to run/vae/0002_digits\\weights/weights-085-43.88.h5\n",
      "\n",
      "Epoch 00085: saving model to run/vae/0002_digits\\weights/weights.h5\n",
      "Epoch 86/200\n",
      "   64/60000 [..............................] - ETA: 18:20 - loss: 42.4292 - vae_r_loss: 37.1387 - vae_kl_loss: 5.2905"
     ]
    },
    {
     "name": "stderr",
     "output_type": "stream",
     "text": [
      "e:\\GenerativeDeepLearning\\venv\\lib\\site-packages\\keras\\callbacks.py:122: UserWarning: Method on_batch_end() is slow compared to the batch update (1.012465). Check your callbacks.\n",
      "  % delta_t_median)\n",
      "e:\\GenerativeDeepLearning\\venv\\lib\\site-packages\\keras\\callbacks.py:122: UserWarning: Method on_batch_end() is slow compared to the batch update (0.506731). Check your callbacks.\n",
      "  % delta_t_median)\n"
     ]
    },
    {
     "name": "stdout",
     "output_type": "stream",
     "text": [
      "60000/60000 [==============================] - 90s 1ms/step - loss: 43.8774 - vae_r_loss: 38.4733 - vae_kl_loss: 5.4041\n",
      "\n",
      "Epoch 00086: saving model to run/vae/0002_digits\\weights/weights-086-43.88.h5\n",
      "\n",
      "Epoch 00086: saving model to run/vae/0002_digits\\weights/weights.h5\n",
      "Epoch 87/200\n",
      "  128/60000 [..............................] - ETA: 5:58 - loss: 44.8040 - vae_r_loss: 39.4302 - vae_kl_loss: 5.3738 "
     ]
    },
    {
     "name": "stderr",
     "output_type": "stream",
     "text": [
      "e:\\GenerativeDeepLearning\\venv\\lib\\site-packages\\keras\\callbacks.py:122: UserWarning: Method on_batch_end() is slow compared to the batch update (0.540726). Check your callbacks.\n",
      "  % delta_t_median)\n",
      "e:\\GenerativeDeepLearning\\venv\\lib\\site-packages\\keras\\callbacks.py:122: UserWarning: Method on_batch_end() is slow compared to the batch update (0.270864). Check your callbacks.\n",
      "  % delta_t_median)\n"
     ]
    },
    {
     "name": "stdout",
     "output_type": "stream",
     "text": [
      "60000/60000 [==============================] - 89s 1ms/step - loss: 43.9031 - vae_r_loss: 38.4931 - vae_kl_loss: 5.4100\n",
      "\n",
      "Epoch 00087: saving model to run/vae/0002_digits\\weights/weights-087-43.90.h5\n",
      "\n",
      "Epoch 00087: saving model to run/vae/0002_digits\\weights/weights.h5\n",
      "Epoch 88/200\n",
      "  128/60000 [..............................] - ETA: 5:32 - loss: 45.6559 - vae_r_loss: 40.1786 - vae_kl_loss: 5.4774"
     ]
    },
    {
     "name": "stderr",
     "output_type": "stream",
     "text": [
      "e:\\GenerativeDeepLearning\\venv\\lib\\site-packages\\keras\\callbacks.py:122: UserWarning: Method on_batch_end() is slow compared to the batch update (0.525337). Check your callbacks.\n",
      "  % delta_t_median)\n",
      "e:\\GenerativeDeepLearning\\venv\\lib\\site-packages\\keras\\callbacks.py:122: UserWarning: Method on_batch_end() is slow compared to the batch update (0.263263). Check your callbacks.\n",
      "  % delta_t_median)\n"
     ]
    },
    {
     "name": "stdout",
     "output_type": "stream",
     "text": [
      "60000/60000 [==============================] - 89s 1ms/step - loss: 43.8756 - vae_r_loss: 38.4684 - vae_kl_loss: 5.4072\n",
      "\n",
      "Epoch 00088: saving model to run/vae/0002_digits\\weights/weights-088-43.88.h5\n",
      "\n",
      "Epoch 00088: saving model to run/vae/0002_digits\\weights/weights.h5\n",
      "Epoch 89/200\n",
      "60000/60000 [==============================] - 90s 1ms/step - loss: 43.8492 - vae_r_loss: 38.4422 - vae_kl_loss: 5.4070\n",
      "\n",
      "Epoch 00089: saving model to run/vae/0002_digits\\weights/weights-089-43.85.h5\n",
      "\n",
      "Epoch 00089: saving model to run/vae/0002_digits\\weights/weights.h5\n",
      "Epoch 90/200\n",
      "60000/60000 [==============================] - 90s 2ms/step - loss: 43.8767 - vae_r_loss: 38.4668 - vae_kl_loss: 5.4099\n",
      "\n",
      "Epoch 00090: saving model to run/vae/0002_digits\\weights/weights-090-43.88.h5\n",
      "\n",
      "Epoch 00090: saving model to run/vae/0002_digits\\weights/weights.h5\n",
      "Epoch 91/200\n",
      "  128/60000 [..............................] - ETA: 5:45 - loss: 44.3130 - vae_r_loss: 38.7042 - vae_kl_loss: 5.6088 "
     ]
    },
    {
     "name": "stderr",
     "output_type": "stream",
     "text": [
      "e:\\GenerativeDeepLearning\\venv\\lib\\site-packages\\keras\\callbacks.py:122: UserWarning: Method on_batch_end() is slow compared to the batch update (0.561973). Check your callbacks.\n",
      "  % delta_t_median)\n",
      "e:\\GenerativeDeepLearning\\venv\\lib\\site-packages\\keras\\callbacks.py:122: UserWarning: Method on_batch_end() is slow compared to the batch update (0.281486). Check your callbacks.\n",
      "  % delta_t_median)\n"
     ]
    },
    {
     "name": "stdout",
     "output_type": "stream",
     "text": [
      "60000/60000 [==============================] - 90s 2ms/step - loss: 43.8285 - vae_r_loss: 38.4206 - vae_kl_loss: 5.4079\n",
      "\n",
      "Epoch 00091: saving model to run/vae/0002_digits\\weights/weights-091-43.83.h5\n",
      "\n",
      "Epoch 00091: saving model to run/vae/0002_digits\\weights/weights.h5\n",
      "Epoch 92/200\n",
      "  128/60000 [..............................] - ETA: 5:34 - loss: 41.0538 - vae_r_loss: 35.7553 - vae_kl_loss: 5.2985"
     ]
    },
    {
     "name": "stderr",
     "output_type": "stream",
     "text": [
      "e:\\GenerativeDeepLearning\\venv\\lib\\site-packages\\keras\\callbacks.py:122: UserWarning: Method on_batch_end() is slow compared to the batch update (0.519962). Check your callbacks.\n",
      "  % delta_t_median)\n",
      "e:\\GenerativeDeepLearning\\venv\\lib\\site-packages\\keras\\callbacks.py:122: UserWarning: Method on_batch_end() is slow compared to the batch update (0.259981). Check your callbacks.\n",
      "  % delta_t_median)\n"
     ]
    },
    {
     "name": "stdout",
     "output_type": "stream",
     "text": [
      "60000/60000 [==============================] - 90s 2ms/step - loss: 43.8130 - vae_r_loss: 38.4016 - vae_kl_loss: 5.4114\n",
      "\n",
      "Epoch 00092: saving model to run/vae/0002_digits\\weights/weights-092-43.81.h5\n",
      "\n",
      "Epoch 00092: saving model to run/vae/0002_digits\\weights/weights.h5\n",
      "Epoch 93/200\n",
      "60000/60000 [==============================] - 93s 2ms/step - loss: 43.8165 - vae_r_loss: 38.3918 - vae_kl_loss: 5.4247\n",
      "\n",
      "Epoch 00093: saving model to run/vae/0002_digits\\weights/weights-093-43.82.h5\n",
      "\n",
      "Epoch 00093: saving model to run/vae/0002_digits\\weights/weights.h5\n",
      "Epoch 94/200\n",
      "60000/60000 [==============================] - 90s 1ms/step - loss: 43.7518 - vae_r_loss: 38.3316 - vae_kl_loss: 5.4202\n",
      "\n",
      "Epoch 00094: saving model to run/vae/0002_digits\\weights/weights-094-43.75.h5\n",
      "\n",
      "Epoch 00094: saving model to run/vae/0002_digits\\weights/weights.h5\n",
      "Epoch 95/200\n",
      "  128/60000 [..............................] - ETA: 5:39 - loss: 46.2672 - vae_r_loss: 41.0247 - vae_kl_loss: 5.2425 "
     ]
    },
    {
     "name": "stderr",
     "output_type": "stream",
     "text": [
      "e:\\GenerativeDeepLearning\\venv\\lib\\site-packages\\keras\\callbacks.py:122: UserWarning: Method on_batch_end() is slow compared to the batch update (0.529259). Check your callbacks.\n",
      "  % delta_t_median)\n",
      "e:\\GenerativeDeepLearning\\venv\\lib\\site-packages\\keras\\callbacks.py:122: UserWarning: Method on_batch_end() is slow compared to the batch update (0.265131). Check your callbacks.\n",
      "  % delta_t_median)\n"
     ]
    },
    {
     "name": "stdout",
     "output_type": "stream",
     "text": [
      "60000/60000 [==============================] - 90s 2ms/step - loss: 43.7537 - vae_r_loss: 38.3349 - vae_kl_loss: 5.4188\n",
      "\n",
      "Epoch 00095: saving model to run/vae/0002_digits\\weights/weights-095-43.75.h5\n",
      "\n",
      "Epoch 00095: saving model to run/vae/0002_digits\\weights/weights.h5\n",
      "Epoch 96/200\n",
      "  128/60000 [..............................] - ETA: 5:38 - loss: 45.4329 - vae_r_loss: 40.2151 - vae_kl_loss: 5.2178"
     ]
    },
    {
     "name": "stderr",
     "output_type": "stream",
     "text": [
      "e:\\GenerativeDeepLearning\\venv\\lib\\site-packages\\keras\\callbacks.py:122: UserWarning: Method on_batch_end() is slow compared to the batch update (0.537364). Check your callbacks.\n",
      "  % delta_t_median)\n",
      "e:\\GenerativeDeepLearning\\venv\\lib\\site-packages\\keras\\callbacks.py:122: UserWarning: Method on_batch_end() is slow compared to the batch update (0.268682). Check your callbacks.\n",
      "  % delta_t_median)\n"
     ]
    },
    {
     "name": "stdout",
     "output_type": "stream",
     "text": [
      "60000/60000 [==============================] - 95s 2ms/step - loss: 43.7800 - vae_r_loss: 38.3575 - vae_kl_loss: 5.4225\n",
      "\n",
      "Epoch 00096: saving model to run/vae/0002_digits\\weights/weights-096-43.78.h5\n",
      "\n",
      "Epoch 00096: saving model to run/vae/0002_digits\\weights/weights.h5\n",
      "Epoch 97/200\n",
      "60000/60000 [==============================] - 88s 1ms/step - loss: 43.7243 - vae_r_loss: 38.3071 - vae_kl_loss: 5.4172\n",
      "\n",
      "Epoch 00097: saving model to run/vae/0002_digits\\weights/weights-097-43.72.h5\n",
      "\n",
      "Epoch 00097: saving model to run/vae/0002_digits\\weights/weights.h5\n",
      "Epoch 98/200\n",
      "  128/60000 [..............................] - ETA: 5:37 - loss: 44.4915 - vae_r_loss: 39.1821 - vae_kl_loss: 5.3094"
     ]
    },
    {
     "name": "stderr",
     "output_type": "stream",
     "text": [
      "e:\\GenerativeDeepLearning\\venv\\lib\\site-packages\\keras\\callbacks.py:122: UserWarning: Method on_batch_end() is slow compared to the batch update (0.530228). Check your callbacks.\n",
      "  % delta_t_median)\n",
      "e:\\GenerativeDeepLearning\\venv\\lib\\site-packages\\keras\\callbacks.py:122: UserWarning: Method on_batch_end() is slow compared to the batch update (0.265660). Check your callbacks.\n",
      "  % delta_t_median)\n"
     ]
    },
    {
     "name": "stdout",
     "output_type": "stream",
     "text": [
      "60000/60000 [==============================] - 89s 1ms/step - loss: 43.7095 - vae_r_loss: 38.2868 - vae_kl_loss: 5.4227\n",
      "\n",
      "Epoch 00098: saving model to run/vae/0002_digits\\weights/weights-098-43.71.h5\n",
      "\n",
      "Epoch 00098: saving model to run/vae/0002_digits\\weights/weights.h5\n",
      "Epoch 99/200\n",
      "  128/60000 [..............................] - ETA: 5:38 - loss: 42.5761 - vae_r_loss: 37.2218 - vae_kl_loss: 5.3544"
     ]
    },
    {
     "name": "stderr",
     "output_type": "stream",
     "text": [
      "e:\\GenerativeDeepLearning\\venv\\lib\\site-packages\\keras\\callbacks.py:122: UserWarning: Method on_batch_end() is slow compared to the batch update (0.515923). Check your callbacks.\n",
      "  % delta_t_median)\n",
      "e:\\GenerativeDeepLearning\\venv\\lib\\site-packages\\keras\\callbacks.py:122: UserWarning: Method on_batch_end() is slow compared to the batch update (0.258666). Check your callbacks.\n",
      "  % delta_t_median)\n"
     ]
    },
    {
     "name": "stdout",
     "output_type": "stream",
     "text": [
      "60000/60000 [==============================] - 90s 2ms/step - loss: 43.7194 - vae_r_loss: 38.2917 - vae_kl_loss: 5.4278\n",
      "\n",
      "Epoch 00099: saving model to run/vae/0002_digits\\weights/weights-099-43.72.h5\n",
      "\n",
      "Epoch 00099: saving model to run/vae/0002_digits\\weights/weights.h5\n",
      "Epoch 100/200\n",
      "  128/60000 [..............................] - ETA: 9:57 - loss: 40.2654 - vae_r_loss: 34.7067 - vae_kl_loss: 5.5587 "
     ]
    },
    {
     "name": "stderr",
     "output_type": "stream",
     "text": [
      "e:\\GenerativeDeepLearning\\venv\\lib\\site-packages\\keras\\callbacks.py:122: UserWarning: Method on_batch_end() is slow compared to the batch update (1.065969). Check your callbacks.\n",
      "  % delta_t_median)\n",
      "e:\\GenerativeDeepLearning\\venv\\lib\\site-packages\\keras\\callbacks.py:122: UserWarning: Method on_batch_end() is slow compared to the batch update (0.533483). Check your callbacks.\n",
      "  % delta_t_median)\n"
     ]
    },
    {
     "name": "stdout",
     "output_type": "stream",
     "text": [
      "60000/60000 [==============================] - 90s 2ms/step - loss: 43.7448 - vae_r_loss: 38.2993 - vae_kl_loss: 5.4455\n",
      "\n",
      "Epoch 00100: saving model to run/vae/0002_digits\\weights/weights-100-43.74.h5\n",
      "\n",
      "Epoch 00100: saving model to run/vae/0002_digits\\weights/weights.h5\n",
      "Epoch 101/200\n",
      "  128/60000 [..............................] - ETA: 9:30 - loss: 44.6240 - vae_r_loss: 39.1412 - vae_kl_loss: 5.4828 "
     ]
    },
    {
     "name": "stderr",
     "output_type": "stream",
     "text": [
      "e:\\GenerativeDeepLearning\\venv\\lib\\site-packages\\keras\\callbacks.py:122: UserWarning: Method on_batch_end() is slow compared to the batch update (1.020163). Check your callbacks.\n",
      "  % delta_t_median)\n",
      "e:\\GenerativeDeepLearning\\venv\\lib\\site-packages\\keras\\callbacks.py:122: UserWarning: Method on_batch_end() is slow compared to the batch update (0.510081). Check your callbacks.\n",
      "  % delta_t_median)\n"
     ]
    },
    {
     "name": "stdout",
     "output_type": "stream",
     "text": [
      "60000/60000 [==============================] - 90s 2ms/step - loss: 43.7073 - vae_r_loss: 38.2621 - vae_kl_loss: 5.4452\n",
      "\n",
      "Epoch 00101: saving model to run/vae/0002_digits\\weights/weights-101-43.71.h5\n",
      "\n",
      "Epoch 00101: saving model to run/vae/0002_digits\\weights/weights.h5\n",
      "Epoch 102/200\n",
      "60000/60000 [==============================] - 89s 1ms/step - loss: 43.6675 - vae_r_loss: 38.2463 - vae_kl_loss: 5.4212\n",
      "\n",
      "Epoch 00102: saving model to run/vae/0002_digits\\weights/weights-102-43.67.h5\n",
      "\n",
      "Epoch 00102: saving model to run/vae/0002_digits\\weights/weights.h5\n",
      "Epoch 103/200\n",
      "  128/60000 [..............................] - ETA: 5:40 - loss: 42.9066 - vae_r_loss: 37.5140 - vae_kl_loss: 5.3926"
     ]
    },
    {
     "name": "stderr",
     "output_type": "stream",
     "text": [
      "e:\\GenerativeDeepLearning\\venv\\lib\\site-packages\\keras\\callbacks.py:122: UserWarning: Method on_batch_end() is slow compared to the batch update (0.515509). Check your callbacks.\n",
      "  % delta_t_median)\n",
      "e:\\GenerativeDeepLearning\\venv\\lib\\site-packages\\keras\\callbacks.py:122: UserWarning: Method on_batch_end() is slow compared to the batch update (0.258253). Check your callbacks.\n",
      "  % delta_t_median)\n"
     ]
    },
    {
     "name": "stdout",
     "output_type": "stream",
     "text": [
      "60000/60000 [==============================] - 90s 1ms/step - loss: 43.7006 - vae_r_loss: 38.2624 - vae_kl_loss: 5.4382\n",
      "\n",
      "Epoch 00103: saving model to run/vae/0002_digits\\weights/weights-103-43.70.h5\n",
      "\n",
      "Epoch 00103: saving model to run/vae/0002_digits\\weights/weights.h5\n",
      "Epoch 104/200\n",
      "  128/60000 [..............................] - ETA: 9:28 - loss: 41.7413 - vae_r_loss: 36.1409 - vae_kl_loss: 5.6005 "
     ]
    },
    {
     "name": "stderr",
     "output_type": "stream",
     "text": [
      "e:\\GenerativeDeepLearning\\venv\\lib\\site-packages\\keras\\callbacks.py:122: UserWarning: Method on_batch_end() is slow compared to the batch update (1.042812). Check your callbacks.\n",
      "  % delta_t_median)\n",
      "e:\\GenerativeDeepLearning\\venv\\lib\\site-packages\\keras\\callbacks.py:122: UserWarning: Method on_batch_end() is slow compared to the batch update (0.522020). Check your callbacks.\n",
      "  % delta_t_median)\n"
     ]
    },
    {
     "name": "stdout",
     "output_type": "stream",
     "text": [
      "60000/60000 [==============================] - 90s 2ms/step - loss: 43.6695 - vae_r_loss: 38.2208 - vae_kl_loss: 5.4487\n",
      "\n",
      "Epoch 00104: saving model to run/vae/0002_digits\\weights/weights-104-43.67.h5\n",
      "\n",
      "Epoch 00104: saving model to run/vae/0002_digits\\weights/weights.h5\n",
      "Epoch 105/200\n",
      "  128/60000 [..............................] - ETA: 9:25 - loss: 43.0580 - vae_r_loss: 37.5112 - vae_kl_loss: 5.5468 "
     ]
    },
    {
     "name": "stderr",
     "output_type": "stream",
     "text": [
      "e:\\GenerativeDeepLearning\\venv\\lib\\site-packages\\keras\\callbacks.py:122: UserWarning: Method on_batch_end() is slow compared to the batch update (1.020761). Check your callbacks.\n",
      "  % delta_t_median)\n",
      "e:\\GenerativeDeepLearning\\venv\\lib\\site-packages\\keras\\callbacks.py:122: UserWarning: Method on_batch_end() is slow compared to the batch update (0.510886). Check your callbacks.\n",
      "  % delta_t_median)\n"
     ]
    },
    {
     "name": "stdout",
     "output_type": "stream",
     "text": [
      "60000/60000 [==============================] - 90s 2ms/step - loss: 43.6466 - vae_r_loss: 38.2122 - vae_kl_loss: 5.4344\n",
      "\n",
      "Epoch 00105: saving model to run/vae/0002_digits\\weights/weights-105-43.65.h5\n",
      "\n",
      "Epoch 00105: saving model to run/vae/0002_digits\\weights/weights.h5\n",
      "Epoch 106/200\n",
      "  128/60000 [..............................] - ETA: 10:10 - loss: 42.2419 - vae_r_loss: 36.6427 - vae_kl_loss: 5.5992"
     ]
    },
    {
     "name": "stderr",
     "output_type": "stream",
     "text": [
      "e:\\GenerativeDeepLearning\\venv\\lib\\site-packages\\keras\\callbacks.py:122: UserWarning: Method on_batch_end() is slow compared to the batch update (1.130396). Check your callbacks.\n",
      "  % delta_t_median)\n",
      "e:\\GenerativeDeepLearning\\venv\\lib\\site-packages\\keras\\callbacks.py:122: UserWarning: Method on_batch_end() is slow compared to the batch update (0.565198). Check your callbacks.\n",
      "  % delta_t_median)\n"
     ]
    },
    {
     "name": "stdout",
     "output_type": "stream",
     "text": [
      "60000/60000 [==============================] - 91s 2ms/step - loss: 43.6444 - vae_r_loss: 38.2003 - vae_kl_loss: 5.4440\n",
      "\n",
      "Epoch 00106: saving model to run/vae/0002_digits\\weights/weights-106-43.64.h5\n",
      "\n",
      "Epoch 00106: saving model to run/vae/0002_digits\\weights/weights.h5\n",
      "Epoch 107/200\n",
      "  128/60000 [..............................] - ETA: 6:13 - loss: 43.2015 - vae_r_loss: 37.5775 - vae_kl_loss: 5.6240 "
     ]
    },
    {
     "name": "stderr",
     "output_type": "stream",
     "text": [
      "e:\\GenerativeDeepLearning\\venv\\lib\\site-packages\\keras\\callbacks.py:122: UserWarning: Method on_batch_end() is slow compared to the batch update (0.581973). Check your callbacks.\n",
      "  % delta_t_median)\n",
      "e:\\GenerativeDeepLearning\\venv\\lib\\site-packages\\keras\\callbacks.py:122: UserWarning: Method on_batch_end() is slow compared to the batch update (0.291986). Check your callbacks.\n",
      "  % delta_t_median)\n"
     ]
    },
    {
     "name": "stdout",
     "output_type": "stream",
     "text": [
      "60000/60000 [==============================] - 90s 1ms/step - loss: 43.6558 - vae_r_loss: 38.2097 - vae_kl_loss: 5.4461\n",
      "\n",
      "Epoch 00107: saving model to run/vae/0002_digits\\weights/weights-107-43.66.h5\n",
      "\n",
      "Epoch 00107: saving model to run/vae/0002_digits\\weights/weights.h5\n",
      "Epoch 108/200\n",
      "  128/60000 [..............................] - ETA: 5:59 - loss: 45.2112 - vae_r_loss: 39.7008 - vae_kl_loss: 5.5105 "
     ]
    },
    {
     "name": "stderr",
     "output_type": "stream",
     "text": [
      "e:\\GenerativeDeepLearning\\venv\\lib\\site-packages\\keras\\callbacks.py:122: UserWarning: Method on_batch_end() is slow compared to the batch update (0.546915). Check your callbacks.\n",
      "  % delta_t_median)\n",
      "e:\\GenerativeDeepLearning\\venv\\lib\\site-packages\\keras\\callbacks.py:122: UserWarning: Method on_batch_end() is slow compared to the batch update (0.273957). Check your callbacks.\n",
      "  % delta_t_median)\n"
     ]
    },
    {
     "name": "stdout",
     "output_type": "stream",
     "text": [
      "60000/60000 [==============================] - 90s 1ms/step - loss: 43.6236 - vae_r_loss: 38.1737 - vae_kl_loss: 5.4499\n",
      "\n",
      "Epoch 00108: saving model to run/vae/0002_digits\\weights/weights-108-43.62.h5\n",
      "\n",
      "Epoch 00108: saving model to run/vae/0002_digits\\weights/weights.h5\n",
      "Epoch 109/200\n",
      "  128/60000 [..............................] - ETA: 10:17 - loss: 44.6017 - vae_r_loss: 39.2467 - vae_kl_loss: 5.3551"
     ]
    },
    {
     "name": "stderr",
     "output_type": "stream",
     "text": [
      "e:\\GenerativeDeepLearning\\venv\\lib\\site-packages\\keras\\callbacks.py:122: UserWarning: Method on_batch_end() is slow compared to the batch update (1.121314). Check your callbacks.\n",
      "  % delta_t_median)\n",
      "e:\\GenerativeDeepLearning\\venv\\lib\\site-packages\\keras\\callbacks.py:122: UserWarning: Method on_batch_end() is slow compared to the batch update (0.561158). Check your callbacks.\n",
      "  % delta_t_median)\n"
     ]
    },
    {
     "name": "stdout",
     "output_type": "stream",
     "text": [
      "60000/60000 [==============================] - 91s 2ms/step - loss: 43.6173 - vae_r_loss: 38.1729 - vae_kl_loss: 5.4443\n",
      "\n",
      "Epoch 00109: saving model to run/vae/0002_digits\\weights/weights-109-43.62.h5\n",
      "\n",
      "Epoch 00109: saving model to run/vae/0002_digits\\weights/weights.h5\n",
      "Epoch 110/200\n",
      "  128/60000 [..............................] - ETA: 10:02 - loss: 43.5082 - vae_r_loss: 37.8190 - vae_kl_loss: 5.6891"
     ]
    },
    {
     "name": "stderr",
     "output_type": "stream",
     "text": [
      "e:\\GenerativeDeepLearning\\venv\\lib\\site-packages\\keras\\callbacks.py:122: UserWarning: Method on_batch_end() is slow compared to the batch update (1.088584). Check your callbacks.\n",
      "  % delta_t_median)\n",
      "e:\\GenerativeDeepLearning\\venv\\lib\\site-packages\\keras\\callbacks.py:122: UserWarning: Method on_batch_end() is slow compared to the batch update (0.544292). Check your callbacks.\n",
      "  % delta_t_median)\n"
     ]
    },
    {
     "name": "stdout",
     "output_type": "stream",
     "text": [
      "60000/60000 [==============================] - 90s 1ms/step - loss: 43.6068 - vae_r_loss: 38.1455 - vae_kl_loss: 5.4614\n",
      "\n",
      "Epoch 00110: saving model to run/vae/0002_digits\\weights/weights-110-43.61.h5\n",
      "\n",
      "Epoch 00110: saving model to run/vae/0002_digits\\weights/weights.h5\n",
      "Epoch 111/200\n",
      "60000/60000 [==============================] - 89s 1ms/step - loss: 43.5846 - vae_r_loss: 38.1263 - vae_kl_loss: 5.4583\n",
      "\n",
      "Epoch 00111: saving model to run/vae/0002_digits\\weights/weights-111-43.58.h5\n",
      "\n",
      "Epoch 00111: saving model to run/vae/0002_digits\\weights/weights.h5\n",
      "Epoch 112/200\n",
      "  128/60000 [..............................] - ETA: 6:03 - loss: 43.0426 - vae_r_loss: 37.5993 - vae_kl_loss: 5.4433 "
     ]
    },
    {
     "name": "stderr",
     "output_type": "stream",
     "text": [
      "e:\\GenerativeDeepLearning\\venv\\lib\\site-packages\\keras\\callbacks.py:122: UserWarning: Method on_batch_end() is slow compared to the batch update (0.567262). Check your callbacks.\n",
      "  % delta_t_median)\n",
      "e:\\GenerativeDeepLearning\\venv\\lib\\site-packages\\keras\\callbacks.py:122: UserWarning: Method on_batch_end() is slow compared to the batch update (0.283631). Check your callbacks.\n",
      "  % delta_t_median)\n"
     ]
    },
    {
     "name": "stdout",
     "output_type": "stream",
     "text": [
      "60000/60000 [==============================] - 89s 1ms/step - loss: 43.5676 - vae_r_loss: 38.1203 - vae_kl_loss: 5.4474\n",
      "\n",
      "Epoch 00112: saving model to run/vae/0002_digits\\weights/weights-112-43.57.h5\n",
      "\n",
      "Epoch 00112: saving model to run/vae/0002_digits\\weights/weights.h5\n",
      "Epoch 113/200\n",
      "  128/60000 [..............................] - ETA: 10:01 - loss: 43.4086 - vae_r_loss: 37.8723 - vae_kl_loss: 5.5364"
     ]
    },
    {
     "name": "stderr",
     "output_type": "stream",
     "text": [
      "e:\\GenerativeDeepLearning\\venv\\lib\\site-packages\\keras\\callbacks.py:122: UserWarning: Method on_batch_end() is slow compared to the batch update (1.088324). Check your callbacks.\n",
      "  % delta_t_median)\n",
      "e:\\GenerativeDeepLearning\\venv\\lib\\site-packages\\keras\\callbacks.py:122: UserWarning: Method on_batch_end() is slow compared to the batch update (0.544666). Check your callbacks.\n",
      "  % delta_t_median)\n"
     ]
    },
    {
     "name": "stdout",
     "output_type": "stream",
     "text": [
      "60000/60000 [==============================] - 90s 1ms/step - loss: 43.5629 - vae_r_loss: 38.1062 - vae_kl_loss: 5.4567\n",
      "\n",
      "Epoch 00113: saving model to run/vae/0002_digits\\weights/weights-113-43.56.h5\n",
      "\n",
      "Epoch 00113: saving model to run/vae/0002_digits\\weights/weights.h5\n",
      "Epoch 114/200\n",
      "  128/60000 [..............................] - ETA: 9:28 - loss: 45.6727 - vae_r_loss: 40.0097 - vae_kl_loss: 5.6630 "
     ]
    },
    {
     "name": "stderr",
     "output_type": "stream",
     "text": [
      "e:\\GenerativeDeepLearning\\venv\\lib\\site-packages\\keras\\callbacks.py:122: UserWarning: Method on_batch_end() is slow compared to the batch update (1.023045). Check your callbacks.\n",
      "  % delta_t_median)\n",
      "e:\\GenerativeDeepLearning\\venv\\lib\\site-packages\\keras\\callbacks.py:122: UserWarning: Method on_batch_end() is slow compared to the batch update (0.512522). Check your callbacks.\n",
      "  % delta_t_median)\n"
     ]
    },
    {
     "name": "stdout",
     "output_type": "stream",
     "text": [
      "60000/60000 [==============================] - 90s 1ms/step - loss: 43.5962 - vae_r_loss: 38.1320 - vae_kl_loss: 5.4642\n",
      "\n",
      "Epoch 00114: saving model to run/vae/0002_digits\\weights/weights-114-43.60.h5\n",
      "\n",
      "Epoch 00114: saving model to run/vae/0002_digits\\weights/weights.h5\n",
      "Epoch 115/200\n",
      "  128/60000 [..............................] - ETA: 9:35 - loss: 43.6246 - vae_r_loss: 38.2189 - vae_kl_loss: 5.4057 "
     ]
    },
    {
     "name": "stderr",
     "output_type": "stream",
     "text": [
      "e:\\GenerativeDeepLearning\\venv\\lib\\site-packages\\keras\\callbacks.py:122: UserWarning: Method on_batch_end() is slow compared to the batch update (1.015482). Check your callbacks.\n",
      "  % delta_t_median)\n",
      "e:\\GenerativeDeepLearning\\venv\\lib\\site-packages\\keras\\callbacks.py:122: UserWarning: Method on_batch_end() is slow compared to the batch update (0.508242). Check your callbacks.\n",
      "  % delta_t_median)\n"
     ]
    },
    {
     "name": "stdout",
     "output_type": "stream",
     "text": [
      "60000/60000 [==============================] - 90s 2ms/step - loss: 43.5560 - vae_r_loss: 38.0929 - vae_kl_loss: 5.4631\n",
      "\n",
      "Epoch 00115: saving model to run/vae/0002_digits\\weights/weights-115-43.56.h5\n",
      "\n",
      "Epoch 00115: saving model to run/vae/0002_digits\\weights/weights.h5\n",
      "Epoch 116/200\n",
      "   96/60000 [..............................] - ETA: 3:56 - loss: 46.0073 - vae_r_loss: 40.5289 - vae_kl_loss: 5.4785"
     ]
    },
    {
     "name": "stderr",
     "output_type": "stream",
     "text": [
      "e:\\GenerativeDeepLearning\\venv\\lib\\site-packages\\keras\\callbacks.py:122: UserWarning: Method on_batch_end() is slow compared to the batch update (0.204886). Check your callbacks.\n",
      "  % delta_t_median)\n",
      "e:\\GenerativeDeepLearning\\venv\\lib\\site-packages\\keras\\callbacks.py:122: UserWarning: Method on_batch_end() is slow compared to the batch update (0.103442). Check your callbacks.\n",
      "  % delta_t_median)\n"
     ]
    },
    {
     "name": "stdout",
     "output_type": "stream",
     "text": [
      "60000/60000 [==============================] - 89s 1ms/step - loss: 43.5422 - vae_r_loss: 38.0811 - vae_kl_loss: 5.4611\n",
      "\n",
      "Epoch 00116: saving model to run/vae/0002_digits\\weights/weights-116-43.54.h5\n",
      "\n",
      "Epoch 00116: saving model to run/vae/0002_digits\\weights/weights.h5\n",
      "Epoch 117/200\n",
      "   96/60000 [..............................] - ETA: 7:10 - loss: 42.4037 - vae_r_loss: 36.9665 - vae_kl_loss: 5.4372"
     ]
    },
    {
     "name": "stderr",
     "output_type": "stream",
     "text": [
      "e:\\GenerativeDeepLearning\\venv\\lib\\site-packages\\keras\\callbacks.py:122: UserWarning: Method on_batch_end() is slow compared to the batch update (0.519024). Check your callbacks.\n",
      "  % delta_t_median)\n",
      "e:\\GenerativeDeepLearning\\venv\\lib\\site-packages\\keras\\callbacks.py:122: UserWarning: Method on_batch_end() is slow compared to the batch update (0.260011). Check your callbacks.\n",
      "  % delta_t_median)\n"
     ]
    },
    {
     "name": "stdout",
     "output_type": "stream",
     "text": [
      "60000/60000 [==============================] - 90s 1ms/step - loss: 43.5628 - vae_r_loss: 38.0972 - vae_kl_loss: 5.4656\n",
      "\n",
      "Epoch 00117: saving model to run/vae/0002_digits\\weights/weights-117-43.56.h5\n",
      "\n",
      "Epoch 00117: saving model to run/vae/0002_digits\\weights/weights.h5\n",
      "Epoch 118/200\n",
      "   96/60000 [..............................] - ETA: 12:31 - loss: 42.8324 - vae_r_loss: 37.4035 - vae_kl_loss: 5.4289"
     ]
    },
    {
     "name": "stderr",
     "output_type": "stream",
     "text": [
      "e:\\GenerativeDeepLearning\\venv\\lib\\site-packages\\keras\\callbacks.py:122: UserWarning: Method on_batch_end() is slow compared to the batch update (1.032547). Check your callbacks.\n",
      "  % delta_t_median)\n",
      "e:\\GenerativeDeepLearning\\venv\\lib\\site-packages\\keras\\callbacks.py:122: UserWarning: Method on_batch_end() is slow compared to the batch update (0.517273). Check your callbacks.\n",
      "  % delta_t_median)\n"
     ]
    },
    {
     "name": "stdout",
     "output_type": "stream",
     "text": [
      "60000/60000 [==============================] - 91s 2ms/step - loss: 43.5449 - vae_r_loss: 38.0759 - vae_kl_loss: 5.4690\n",
      "\n",
      "Epoch 00118: saving model to run/vae/0002_digits\\weights/weights-118-43.54.h5\n",
      "\n",
      "Epoch 00118: saving model to run/vae/0002_digits\\weights/weights.h5\n",
      "Epoch 119/200\n",
      "  128/60000 [..............................] - ETA: 9:56 - loss: 42.3324 - vae_r_loss: 36.7852 - vae_kl_loss: 5.5472 "
     ]
    },
    {
     "name": "stderr",
     "output_type": "stream",
     "text": [
      "e:\\GenerativeDeepLearning\\venv\\lib\\site-packages\\keras\\callbacks.py:122: UserWarning: Method on_batch_end() is slow compared to the batch update (1.034668). Check your callbacks.\n",
      "  % delta_t_median)\n",
      "e:\\GenerativeDeepLearning\\venv\\lib\\site-packages\\keras\\callbacks.py:122: UserWarning: Method on_batch_end() is slow compared to the batch update (0.517825). Check your callbacks.\n",
      "  % delta_t_median)\n"
     ]
    },
    {
     "name": "stdout",
     "output_type": "stream",
     "text": [
      "60000/60000 [==============================] - 90s 2ms/step - loss: 43.5173 - vae_r_loss: 38.0429 - vae_kl_loss: 5.4744\n",
      "\n",
      "Epoch 00119: saving model to run/vae/0002_digits\\weights/weights-119-43.52.h5\n",
      "\n",
      "Epoch 00119: saving model to run/vae/0002_digits\\weights/weights.h5\n",
      "Epoch 120/200\n",
      "  128/60000 [..............................] - ETA: 6:04 - loss: 39.7438 - vae_r_loss: 34.1208 - vae_kl_loss: 5.6230 "
     ]
    },
    {
     "name": "stderr",
     "output_type": "stream",
     "text": [
      "e:\\GenerativeDeepLearning\\venv\\lib\\site-packages\\keras\\callbacks.py:122: UserWarning: Method on_batch_end() is slow compared to the batch update (0.554909). Check your callbacks.\n",
      "  % delta_t_median)\n",
      "e:\\GenerativeDeepLearning\\venv\\lib\\site-packages\\keras\\callbacks.py:122: UserWarning: Method on_batch_end() is slow compared to the batch update (0.278656). Check your callbacks.\n",
      "  % delta_t_median)\n"
     ]
    },
    {
     "name": "stdout",
     "output_type": "stream",
     "text": [
      "60000/60000 [==============================] - 99s 2ms/step - loss: 43.5408 - vae_r_loss: 38.0617 - vae_kl_loss: 5.4792\n",
      "\n",
      "Epoch 00120: saving model to run/vae/0002_digits\\weights/weights-120-43.54.h5\n",
      "\n",
      "Epoch 00120: saving model to run/vae/0002_digits\\weights/weights.h5\n",
      "Epoch 121/200\n",
      "  128/60000 [..............................] - ETA: 5:32 - loss: 46.9180 - vae_r_loss: 41.3635 - vae_kl_loss: 5.5545"
     ]
    },
    {
     "name": "stderr",
     "output_type": "stream",
     "text": [
      "e:\\GenerativeDeepLearning\\venv\\lib\\site-packages\\keras\\callbacks.py:122: UserWarning: Method on_batch_end() is slow compared to the batch update (0.527235). Check your callbacks.\n",
      "  % delta_t_median)\n",
      "e:\\GenerativeDeepLearning\\venv\\lib\\site-packages\\keras\\callbacks.py:122: UserWarning: Method on_batch_end() is slow compared to the batch update (0.263936). Check your callbacks.\n",
      "  % delta_t_median)\n"
     ]
    },
    {
     "name": "stdout",
     "output_type": "stream",
     "text": [
      "60000/60000 [==============================] - 94s 2ms/step - loss: 43.5432 - vae_r_loss: 38.0786 - vae_kl_loss: 5.4647\n",
      "\n",
      "Epoch 00121: saving model to run/vae/0002_digits\\weights/weights-121-43.54.h5\n",
      "\n",
      "Epoch 00121: saving model to run/vae/0002_digits\\weights/weights.h5\n",
      "Epoch 122/200\n",
      "  128/60000 [..............................] - ETA: 5:29 - loss: 44.1106 - vae_r_loss: 38.5678 - vae_kl_loss: 5.5428"
     ]
    },
    {
     "name": "stderr",
     "output_type": "stream",
     "text": [
      "e:\\GenerativeDeepLearning\\venv\\lib\\site-packages\\keras\\callbacks.py:122: UserWarning: Method on_batch_end() is slow compared to the batch update (0.518520). Check your callbacks.\n",
      "  % delta_t_median)\n",
      "e:\\GenerativeDeepLearning\\venv\\lib\\site-packages\\keras\\callbacks.py:122: UserWarning: Method on_batch_end() is slow compared to the batch update (0.259260). Check your callbacks.\n",
      "  % delta_t_median)\n"
     ]
    },
    {
     "name": "stdout",
     "output_type": "stream",
     "text": [
      "60000/60000 [==============================] - 94s 2ms/step - loss: 43.4946 - vae_r_loss: 38.0154 - vae_kl_loss: 5.4792\n",
      "\n",
      "Epoch 00122: saving model to run/vae/0002_digits\\weights/weights-122-43.49.h5\n",
      "\n",
      "Epoch 00122: saving model to run/vae/0002_digits\\weights/weights.h5\n",
      "Epoch 123/200\n",
      "  128/60000 [..............................] - ETA: 9:40 - loss: 43.6415 - vae_r_loss: 38.1868 - vae_kl_loss: 5.4547 "
     ]
    },
    {
     "name": "stderr",
     "output_type": "stream",
     "text": [
      "e:\\GenerativeDeepLearning\\venv\\lib\\site-packages\\keras\\callbacks.py:122: UserWarning: Method on_batch_end() is slow compared to the batch update (1.059950). Check your callbacks.\n",
      "  % delta_t_median)\n",
      "e:\\GenerativeDeepLearning\\venv\\lib\\site-packages\\keras\\callbacks.py:122: UserWarning: Method on_batch_end() is slow compared to the batch update (0.530474). Check your callbacks.\n",
      "  % delta_t_median)\n"
     ]
    },
    {
     "name": "stdout",
     "output_type": "stream",
     "text": [
      "60000/60000 [==============================] - ETA: 0s - loss: 43.4872 - vae_r_loss: 38.0216 - vae_kl_loss: 5.46 - 95s 2ms/step - loss: 43.4840 - vae_r_loss: 38.0183 - vae_kl_loss: 5.4656\n",
      "\n",
      "Epoch 00123: saving model to run/vae/0002_digits\\weights/weights-123-43.48.h5\n",
      "\n",
      "Epoch 00123: saving model to run/vae/0002_digits\\weights/weights.h5\n",
      "Epoch 124/200\n",
      "  128/60000 [..............................] - ETA: 9:43 - loss: 39.8272 - vae_r_loss: 34.4619 - vae_kl_loss: 5.3654 "
     ]
    },
    {
     "name": "stderr",
     "output_type": "stream",
     "text": [
      "e:\\GenerativeDeepLearning\\venv\\lib\\site-packages\\keras\\callbacks.py:122: UserWarning: Method on_batch_end() is slow compared to the batch update (1.069999). Check your callbacks.\n",
      "  % delta_t_median)\n",
      "e:\\GenerativeDeepLearning\\venv\\lib\\site-packages\\keras\\callbacks.py:122: UserWarning: Method on_batch_end() is slow compared to the batch update (0.535500). Check your callbacks.\n",
      "  % delta_t_median)\n"
     ]
    },
    {
     "name": "stdout",
     "output_type": "stream",
     "text": [
      "60000/60000 [==============================] - 106s 2ms/step - loss: 43.4826 - vae_r_loss: 38.0144 - vae_kl_loss: 5.4682\n",
      "\n",
      "Epoch 00124: saving model to run/vae/0002_digits\\weights/weights-124-43.48.h5\n",
      "\n",
      "Epoch 00124: saving model to run/vae/0002_digits\\weights/weights.h5\n",
      "Epoch 125/200\n",
      "  128/60000 [..............................] - ETA: 4:26 - loss: 43.5474 - vae_r_loss: 37.9721 - vae_kl_loss: 5.5752"
     ]
    },
    {
     "name": "stderr",
     "output_type": "stream",
     "text": [
      "e:\\GenerativeDeepLearning\\venv\\lib\\site-packages\\keras\\callbacks.py:122: UserWarning: Method on_batch_end() is slow compared to the batch update (0.331008). Check your callbacks.\n",
      "  % delta_t_median)\n",
      "e:\\GenerativeDeepLearning\\venv\\lib\\site-packages\\keras\\callbacks.py:122: UserWarning: Method on_batch_end() is slow compared to the batch update (0.170764). Check your callbacks.\n",
      "  % delta_t_median)\n"
     ]
    },
    {
     "name": "stdout",
     "output_type": "stream",
     "text": [
      "60000/60000 [==============================] - 99s 2ms/step - loss: 43.4852 - vae_r_loss: 38.0224 - vae_kl_loss: 5.4628\n",
      "\n",
      "Epoch 00125: saving model to run/vae/0002_digits\\weights/weights-125-43.49.h5\n",
      "\n",
      "Epoch 00125: saving model to run/vae/0002_digits\\weights/weights.h5\n",
      "Epoch 126/200\n",
      "  128/60000 [..............................] - ETA: 5:43 - loss: 42.9583 - vae_r_loss: 37.4748 - vae_kl_loss: 5.4835 "
     ]
    },
    {
     "name": "stderr",
     "output_type": "stream",
     "text": [
      "e:\\GenerativeDeepLearning\\venv\\lib\\site-packages\\keras\\callbacks.py:122: UserWarning: Method on_batch_end() is slow compared to the batch update (0.546125). Check your callbacks.\n",
      "  % delta_t_median)\n",
      "e:\\GenerativeDeepLearning\\venv\\lib\\site-packages\\keras\\callbacks.py:122: UserWarning: Method on_batch_end() is slow compared to the batch update (0.273569). Check your callbacks.\n",
      "  % delta_t_median)\n"
     ]
    },
    {
     "name": "stdout",
     "output_type": "stream",
     "text": [
      "60000/60000 [==============================] - 106s 2ms/step - loss: 43.4484 - vae_r_loss: 37.9711 - vae_kl_loss: 5.47730s - loss: 43.4469 - vae_r_loss: 37.9699 - v\n",
      "\n",
      "Epoch 00126: saving model to run/vae/0002_digits\\weights/weights-126-43.45.h5\n",
      "\n",
      "Epoch 00126: saving model to run/vae/0002_digits\\weights/weights.h5\n",
      "Epoch 127/200\n",
      "  160/60000 [..............................] - ETA: 8:35 - loss: 44.2994 - vae_r_loss: 38.6204 - vae_kl_loss: 5.6791 "
     ]
    },
    {
     "name": "stderr",
     "output_type": "stream",
     "text": [
      "e:\\GenerativeDeepLearning\\venv\\lib\\site-packages\\keras\\callbacks.py:122: UserWarning: Method on_batch_end() is slow compared to the batch update (1.119289). Check your callbacks.\n",
      "  % delta_t_median)\n",
      "e:\\GenerativeDeepLearning\\venv\\lib\\site-packages\\keras\\callbacks.py:122: UserWarning: Method on_batch_end() is slow compared to the batch update (0.560642). Check your callbacks.\n",
      "  % delta_t_median)\n"
     ]
    },
    {
     "name": "stdout",
     "output_type": "stream",
     "text": [
      "60000/60000 [==============================] - 114s 2ms/step - loss: 43.4453 - vae_r_loss: 37.9699 - vae_kl_loss: 5.4753\n",
      "\n",
      "Epoch 00127: saving model to run/vae/0002_digits\\weights/weights-127-43.45.h5\n",
      "\n",
      "Epoch 00127: saving model to run/vae/0002_digits\\weights/weights.h5\n",
      "Epoch 128/200\n",
      "  160/60000 [..............................] - ETA: 8:10 - loss: 45.3928 - vae_r_loss: 39.9334 - vae_kl_loss: 5.4595 "
     ]
    },
    {
     "name": "stderr",
     "output_type": "stream",
     "text": [
      "e:\\GenerativeDeepLearning\\venv\\lib\\site-packages\\keras\\callbacks.py:122: UserWarning: Method on_batch_end() is slow compared to the batch update (1.061869). Check your callbacks.\n",
      "  % delta_t_median)\n",
      "e:\\GenerativeDeepLearning\\venv\\lib\\site-packages\\keras\\callbacks.py:122: UserWarning: Method on_batch_end() is slow compared to the batch update (0.531933). Check your callbacks.\n",
      "  % delta_t_median)\n"
     ]
    },
    {
     "name": "stdout",
     "output_type": "stream",
     "text": [
      "60000/60000 [==============================] - 104s 2ms/step - loss: 43.4648 - vae_r_loss: 37.9769 - vae_kl_loss: 5.4879\n",
      "\n",
      "Epoch 00128: saving model to run/vae/0002_digits\\weights/weights-128-43.46.h5\n",
      "\n",
      "Epoch 00128: saving model to run/vae/0002_digits\\weights/weights.h5\n",
      "Epoch 129/200\n",
      "  128/60000 [..............................] - ETA: 5:39 - loss: 45.2780 - vae_r_loss: 39.8547 - vae_kl_loss: 5.4232"
     ]
    },
    {
     "name": "stderr",
     "output_type": "stream",
     "text": [
      "e:\\GenerativeDeepLearning\\venv\\lib\\site-packages\\keras\\callbacks.py:122: UserWarning: Method on_batch_end() is slow compared to the batch update (0.517588). Check your callbacks.\n",
      "  % delta_t_median)\n",
      "e:\\GenerativeDeepLearning\\venv\\lib\\site-packages\\keras\\callbacks.py:122: UserWarning: Method on_batch_end() is slow compared to the batch update (0.259293). Check your callbacks.\n",
      "  % delta_t_median)\n"
     ]
    },
    {
     "name": "stdout",
     "output_type": "stream",
     "text": [
      "60000/60000 [==============================] - 106s 2ms/step - loss: 43.4462 - vae_r_loss: 37.9557 - vae_kl_loss: 5.4905\n",
      "\n",
      "Epoch 00129: saving model to run/vae/0002_digits\\weights/weights-129-43.45.h5\n",
      "\n",
      "Epoch 00129: saving model to run/vae/0002_digits\\weights/weights.h5\n",
      "Epoch 130/200\n",
      "60000/60000 [==============================] - 110s 2ms/step - loss: 43.4277 - vae_r_loss: 37.9411 - vae_kl_loss: 5.4866\n",
      "\n",
      "Epoch 00130: saving model to run/vae/0002_digits\\weights/weights-130-43.43.h5\n",
      "\n",
      "Epoch 00130: saving model to run/vae/0002_digits\\weights/weights.h5\n",
      "Epoch 131/200\n",
      "60000/60000 [==============================] - 100s 2ms/step - loss: 43.4142 - vae_r_loss: 37.9270 - vae_kl_loss: 5.4872\n",
      "\n",
      "Epoch 00131: saving model to run/vae/0002_digits\\weights/weights-131-43.41.h5\n",
      "\n",
      "Epoch 00131: saving model to run/vae/0002_digits\\weights/weights.h5\n",
      "Epoch 132/200\n",
      "  128/60000 [..............................] - ETA: 5:37 - loss: 44.6088 - vae_r_loss: 39.2287 - vae_kl_loss: 5.3800"
     ]
    },
    {
     "name": "stderr",
     "output_type": "stream",
     "text": [
      "e:\\GenerativeDeepLearning\\venv\\lib\\site-packages\\keras\\callbacks.py:122: UserWarning: Method on_batch_end() is slow compared to the batch update (0.544569). Check your callbacks.\n",
      "  % delta_t_median)\n",
      "e:\\GenerativeDeepLearning\\venv\\lib\\site-packages\\keras\\callbacks.py:122: UserWarning: Method on_batch_end() is slow compared to the batch update (0.272784). Check your callbacks.\n",
      "  % delta_t_median)\n"
     ]
    },
    {
     "name": "stdout",
     "output_type": "stream",
     "text": [
      "60000/60000 [==============================] - 95s 2ms/step - loss: 43.3888 - vae_r_loss: 37.9146 - vae_kl_loss: 5.4742\n",
      "\n",
      "Epoch 00132: saving model to run/vae/0002_digits\\weights/weights-132-43.39.h5\n",
      "\n",
      "Epoch 00132: saving model to run/vae/0002_digits\\weights/weights.h5\n",
      "Epoch 133/200\n",
      "  128/60000 [..............................] - ETA: 5:40 - loss: 43.5530 - vae_r_loss: 38.0815 - vae_kl_loss: 5.4715 "
     ]
    },
    {
     "name": "stderr",
     "output_type": "stream",
     "text": [
      "e:\\GenerativeDeepLearning\\venv\\lib\\site-packages\\keras\\callbacks.py:122: UserWarning: Method on_batch_end() is slow compared to the batch update (0.536721). Check your callbacks.\n",
      "  % delta_t_median)\n",
      "e:\\GenerativeDeepLearning\\venv\\lib\\site-packages\\keras\\callbacks.py:122: UserWarning: Method on_batch_end() is slow compared to the batch update (0.268863). Check your callbacks.\n",
      "  % delta_t_median)\n"
     ]
    },
    {
     "name": "stdout",
     "output_type": "stream",
     "text": [
      "60000/60000 [==============================] - 92s 2ms/step - loss: 43.4021 - vae_r_loss: 37.9217 - vae_kl_loss: 5.4804\n",
      "\n",
      "Epoch 00133: saving model to run/vae/0002_digits\\weights/weights-133-43.40.h5\n",
      "\n",
      "Epoch 00133: saving model to run/vae/0002_digits\\weights/weights.h5\n",
      "Epoch 134/200\n",
      "60000/60000 [==============================] - 99s 2ms/step - loss: 43.3918 - vae_r_loss: 37.8970 - vae_kl_loss: 5.4948\n",
      "\n",
      "Epoch 00134: saving model to run/vae/0002_digits\\weights/weights-134-43.39.h5\n",
      "\n",
      "Epoch 00134: saving model to run/vae/0002_digits\\weights/weights.h5\n",
      "Epoch 135/200\n",
      "  128/60000 [..............................] - ETA: 3:43 - loss: 42.2922 - vae_r_loss: 36.7111 - vae_kl_loss: 5.5811"
     ]
    },
    {
     "name": "stderr",
     "output_type": "stream",
     "text": [
      "e:\\GenerativeDeepLearning\\venv\\lib\\site-packages\\keras\\callbacks.py:122: UserWarning: Method on_batch_end() is slow compared to the batch update (0.295918). Check your callbacks.\n",
      "  % delta_t_median)\n",
      "e:\\GenerativeDeepLearning\\venv\\lib\\site-packages\\keras\\callbacks.py:122: UserWarning: Method on_batch_end() is slow compared to the batch update (0.148627). Check your callbacks.\n",
      "  % delta_t_median)\n"
     ]
    },
    {
     "name": "stdout",
     "output_type": "stream",
     "text": [
      "60000/60000 [==============================] - 94s 2ms/step - loss: 43.4085 - vae_r_loss: 37.9094 - vae_kl_loss: 5.4991\n",
      "\n",
      "Epoch 00135: saving model to run/vae/0002_digits\\weights/weights-135-43.41.h5\n",
      "\n",
      "Epoch 00135: saving model to run/vae/0002_digits\\weights/weights.h5\n",
      "Epoch 136/200\n",
      "  128/60000 [..............................] - ETA: 5:37 - loss: 41.3003 - vae_r_loss: 35.9562 - vae_kl_loss: 5.3442"
     ]
    },
    {
     "name": "stderr",
     "output_type": "stream",
     "text": [
      "e:\\GenerativeDeepLearning\\venv\\lib\\site-packages\\keras\\callbacks.py:122: UserWarning: Method on_batch_end() is slow compared to the batch update (0.543221). Check your callbacks.\n",
      "  % delta_t_median)\n",
      "e:\\GenerativeDeepLearning\\venv\\lib\\site-packages\\keras\\callbacks.py:122: UserWarning: Method on_batch_end() is slow compared to the batch update (0.272230). Check your callbacks.\n",
      "  % delta_t_median)\n"
     ]
    },
    {
     "name": "stdout",
     "output_type": "stream",
     "text": [
      "60000/60000 [==============================] - 92s 2ms/step - loss: 43.3865 - vae_r_loss: 37.8886 - vae_kl_loss: 5.4979\n",
      "\n",
      "Epoch 00136: saving model to run/vae/0002_digits\\weights/weights-136-43.39.h5\n",
      "\n",
      "Epoch 00136: saving model to run/vae/0002_digits\\weights/weights.h5\n",
      "Epoch 137/200\n",
      "  128/60000 [..............................] - ETA: 5:45 - loss: 45.5994 - vae_r_loss: 40.0455 - vae_kl_loss: 5.5539 "
     ]
    },
    {
     "name": "stderr",
     "output_type": "stream",
     "text": [
      "e:\\GenerativeDeepLearning\\venv\\lib\\site-packages\\keras\\callbacks.py:122: UserWarning: Method on_batch_end() is slow compared to the batch update (0.532801). Check your callbacks.\n",
      "  % delta_t_median)\n",
      "e:\\GenerativeDeepLearning\\venv\\lib\\site-packages\\keras\\callbacks.py:122: UserWarning: Method on_batch_end() is slow compared to the batch update (0.267017). Check your callbacks.\n",
      "  % delta_t_median)\n"
     ]
    },
    {
     "name": "stdout",
     "output_type": "stream",
     "text": [
      "60000/60000 [==============================] - 92s 2ms/step - loss: 43.3886 - vae_r_loss: 37.8869 - vae_kl_loss: 5.5017\n",
      "\n",
      "Epoch 00137: saving model to run/vae/0002_digits\\weights/weights-137-43.39.h5\n",
      "\n",
      "Epoch 00137: saving model to run/vae/0002_digits\\weights/weights.h5\n",
      "Epoch 138/200\n",
      "  128/60000 [..............................] - ETA: 5:43 - loss: 44.3829 - vae_r_loss: 38.8270 - vae_kl_loss: 5.5559 "
     ]
    },
    {
     "name": "stderr",
     "output_type": "stream",
     "text": [
      "e:\\GenerativeDeepLearning\\venv\\lib\\site-packages\\keras\\callbacks.py:122: UserWarning: Method on_batch_end() is slow compared to the batch update (0.532019). Check your callbacks.\n",
      "  % delta_t_median)\n",
      "e:\\GenerativeDeepLearning\\venv\\lib\\site-packages\\keras\\callbacks.py:122: UserWarning: Method on_batch_end() is slow compared to the batch update (0.266509). Check your callbacks.\n",
      "  % delta_t_median)\n"
     ]
    },
    {
     "name": "stdout",
     "output_type": "stream",
     "text": [
      "60000/60000 [==============================] - 92s 2ms/step - loss: 43.3783 - vae_r_loss: 37.8887 - vae_kl_loss: 5.4896\n",
      "\n",
      "Epoch 00138: saving model to run/vae/0002_digits\\weights/weights-138-43.38.h5\n",
      "\n",
      "Epoch 00138: saving model to run/vae/0002_digits\\weights/weights.h5\n",
      "Epoch 139/200\n",
      "  128/60000 [..............................] - ETA: 5:51 - loss: 42.6389 - vae_r_loss: 37.1950 - vae_kl_loss: 5.4439 "
     ]
    },
    {
     "name": "stderr",
     "output_type": "stream",
     "text": [
      "e:\\GenerativeDeepLearning\\venv\\lib\\site-packages\\keras\\callbacks.py:122: UserWarning: Method on_batch_end() is slow compared to the batch update (0.559689). Check your callbacks.\n",
      "  % delta_t_median)\n",
      "e:\\GenerativeDeepLearning\\venv\\lib\\site-packages\\keras\\callbacks.py:122: UserWarning: Method on_batch_end() is slow compared to the batch update (0.280344). Check your callbacks.\n",
      "  % delta_t_median)\n"
     ]
    },
    {
     "name": "stdout",
     "output_type": "stream",
     "text": [
      "60000/60000 [==============================] - 91s 2ms/step - loss: 43.3471 - vae_r_loss: 37.8529 - vae_kl_loss: 5.4943\n",
      "\n",
      "Epoch 00139: saving model to run/vae/0002_digits\\weights/weights-139-43.35.h5\n",
      "\n",
      "Epoch 00139: saving model to run/vae/0002_digits\\weights/weights.h5\n",
      "Epoch 140/200\n",
      "  128/60000 [..............................] - ETA: 3:53 - loss: 43.7818 - vae_r_loss: 38.4513 - vae_kl_loss: 5.3305"
     ]
    },
    {
     "name": "stderr",
     "output_type": "stream",
     "text": [
      "e:\\GenerativeDeepLearning\\venv\\lib\\site-packages\\keras\\callbacks.py:122: UserWarning: Method on_batch_end() is slow compared to the batch update (0.224322). Check your callbacks.\n",
      "  % delta_t_median)\n",
      "e:\\GenerativeDeepLearning\\venv\\lib\\site-packages\\keras\\callbacks.py:122: UserWarning: Method on_batch_end() is slow compared to the batch update (0.112661). Check your callbacks.\n",
      "  % delta_t_median)\n"
     ]
    },
    {
     "name": "stdout",
     "output_type": "stream",
     "text": [
      "60000/60000 [==============================] - 91s 2ms/step - loss: 43.3351 - vae_r_loss: 37.8322 - vae_kl_loss: 5.5029\n",
      "\n",
      "Epoch 00140: saving model to run/vae/0002_digits\\weights/weights-140-43.34.h5\n",
      "\n",
      "Epoch 00140: saving model to run/vae/0002_digits\\weights/weights.h5\n",
      "Epoch 141/200\n",
      "  128/60000 [..............................] - ETA: 6:05 - loss: 41.0772 - vae_r_loss: 35.5946 - vae_kl_loss: 5.4826 "
     ]
    },
    {
     "name": "stderr",
     "output_type": "stream",
     "text": [
      "e:\\GenerativeDeepLearning\\venv\\lib\\site-packages\\keras\\callbacks.py:122: UserWarning: Method on_batch_end() is slow compared to the batch update (0.579949). Check your callbacks.\n",
      "  % delta_t_median)\n",
      "e:\\GenerativeDeepLearning\\venv\\lib\\site-packages\\keras\\callbacks.py:122: UserWarning: Method on_batch_end() is slow compared to the batch update (0.290714). Check your callbacks.\n",
      "  % delta_t_median)\n"
     ]
    },
    {
     "name": "stdout",
     "output_type": "stream",
     "text": [
      "60000/60000 [==============================] - 90s 1ms/step - loss: 43.3632 - vae_r_loss: 37.8664 - vae_kl_loss: 5.4968\n",
      "\n",
      "Epoch 00141: saving model to run/vae/0002_digits\\weights/weights-141-43.36.h5\n",
      "\n",
      "Epoch 00141: saving model to run/vae/0002_digits\\weights/weights.h5\n",
      "Epoch 142/200\n",
      "   64/60000 [..............................] - ETA: 10:53 - loss: 40.9991 - vae_r_loss: 35.3829 - vae_kl_loss: 5.6162"
     ]
    },
    {
     "name": "stderr",
     "output_type": "stream",
     "text": [
      "e:\\GenerativeDeepLearning\\venv\\lib\\site-packages\\keras\\callbacks.py:122: UserWarning: Method on_batch_end() is slow compared to the batch update (0.541210). Check your callbacks.\n",
      "  % delta_t_median)\n",
      "e:\\GenerativeDeepLearning\\venv\\lib\\site-packages\\keras\\callbacks.py:122: UserWarning: Method on_batch_end() is slow compared to the batch update (0.271105). Check your callbacks.\n",
      "  % delta_t_median)\n"
     ]
    },
    {
     "name": "stdout",
     "output_type": "stream",
     "text": [
      "60000/60000 [==============================] - 90s 1ms/step - loss: 43.3636 - vae_r_loss: 37.8608 - vae_kl_loss: 5.5028\n",
      "\n",
      "Epoch 00142: saving model to run/vae/0002_digits\\weights/weights-142-43.36.h5\n",
      "\n",
      "Epoch 00142: saving model to run/vae/0002_digits\\weights/weights.h5\n",
      "Epoch 143/200\n",
      "60000/60000 [==============================] - 89s 1ms/step - loss: 43.3260 - vae_r_loss: 37.8228 - vae_kl_loss: 5.5032\n",
      "\n",
      "Epoch 00143: saving model to run/vae/0002_digits\\weights/weights-143-43.33.h5\n",
      "\n",
      "Epoch 00143: saving model to run/vae/0002_digits\\weights/weights.h5\n",
      "Epoch 144/200\n",
      "60000/60000 [==============================] - 89s 1ms/step - loss: 43.3310 - vae_r_loss: 37.8127 - vae_kl_loss: 5.5183\n",
      "\n",
      "Epoch 00144: saving model to run/vae/0002_digits\\weights/weights-144-43.33.h5\n",
      "\n",
      "Epoch 00144: saving model to run/vae/0002_digits\\weights/weights.h5\n",
      "Epoch 145/200\n",
      "  128/60000 [..............................] - ETA: 5:51 - loss: 42.0716 - vae_r_loss: 36.4038 - vae_kl_loss: 5.6678 "
     ]
    },
    {
     "name": "stderr",
     "output_type": "stream",
     "text": [
      "e:\\GenerativeDeepLearning\\venv\\lib\\site-packages\\keras\\callbacks.py:122: UserWarning: Method on_batch_end() is slow compared to the batch update (0.543686). Check your callbacks.\n",
      "  % delta_t_median)\n",
      "e:\\GenerativeDeepLearning\\venv\\lib\\site-packages\\keras\\callbacks.py:122: UserWarning: Method on_batch_end() is slow compared to the batch update (0.272838). Check your callbacks.\n",
      "  % delta_t_median)\n"
     ]
    },
    {
     "name": "stdout",
     "output_type": "stream",
     "text": [
      "60000/60000 [==============================] - 89s 1ms/step - loss: 43.3048 - vae_r_loss: 37.7962 - vae_kl_loss: 5.5086\n",
      "\n",
      "Epoch 00145: saving model to run/vae/0002_digits\\weights/weights-145-43.30.h5\n",
      "\n",
      "Epoch 00145: saving model to run/vae/0002_digits\\weights/weights.h5\n",
      "Epoch 146/200\n",
      "  128/60000 [..............................] - ETA: 5:50 - loss: 41.9753 - vae_r_loss: 36.1252 - vae_kl_loss: 5.8501 "
     ]
    },
    {
     "name": "stderr",
     "output_type": "stream",
     "text": [
      "e:\\GenerativeDeepLearning\\venv\\lib\\site-packages\\keras\\callbacks.py:122: UserWarning: Method on_batch_end() is slow compared to the batch update (0.546065). Check your callbacks.\n",
      "  % delta_t_median)\n",
      "e:\\GenerativeDeepLearning\\venv\\lib\\site-packages\\keras\\callbacks.py:122: UserWarning: Method on_batch_end() is slow compared to the batch update (0.273685). Check your callbacks.\n",
      "  % delta_t_median)\n"
     ]
    },
    {
     "name": "stdout",
     "output_type": "stream",
     "text": [
      "60000/60000 [==============================] - 90s 1ms/step - loss: 43.2848 - vae_r_loss: 37.7856 - vae_kl_loss: 5.4992\n",
      "\n",
      "Epoch 00146: saving model to run/vae/0002_digits\\weights/weights-146-43.28.h5\n",
      "\n",
      "Epoch 00146: saving model to run/vae/0002_digits\\weights/weights.h5\n",
      "Epoch 147/200\n",
      "  128/60000 [..............................] - ETA: 5:33 - loss: 42.7196 - vae_r_loss: 37.3266 - vae_kl_loss: 5.3930"
     ]
    },
    {
     "name": "stderr",
     "output_type": "stream",
     "text": [
      "e:\\GenerativeDeepLearning\\venv\\lib\\site-packages\\keras\\callbacks.py:122: UserWarning: Method on_batch_end() is slow compared to the batch update (0.531992). Check your callbacks.\n",
      "  % delta_t_median)\n",
      "e:\\GenerativeDeepLearning\\venv\\lib\\site-packages\\keras\\callbacks.py:122: UserWarning: Method on_batch_end() is slow compared to the batch update (0.266990). Check your callbacks.\n",
      "  % delta_t_median)\n"
     ]
    },
    {
     "name": "stdout",
     "output_type": "stream",
     "text": [
      "60000/60000 [==============================] - 90s 1ms/step - loss: 43.2983 - vae_r_loss: 37.7782 - vae_kl_loss: 5.5200\n",
      "\n",
      "Epoch 00147: saving model to run/vae/0002_digits\\weights/weights-147-43.30.h5\n",
      "\n",
      "Epoch 00147: saving model to run/vae/0002_digits\\weights/weights.h5\n",
      "Epoch 148/200\n",
      "60000/60000 [==============================] - 89s 1ms/step - loss: 43.2969 - vae_r_loss: 37.7970 - vae_kl_loss: 5.4999\n",
      "\n",
      "Epoch 00148: saving model to run/vae/0002_digits\\weights/weights-148-43.30.h5\n",
      "\n",
      "Epoch 00148: saving model to run/vae/0002_digits\\weights/weights.h5\n",
      "Epoch 149/200\n",
      "60000/60000 [==============================] - 89s 1ms/step - loss: 43.3082 - vae_r_loss: 37.7997 - vae_kl_loss: 5.5085\n",
      "\n",
      "Epoch 00149: saving model to run/vae/0002_digits\\weights/weights-149-43.31.h5\n",
      "\n",
      "Epoch 00149: saving model to run/vae/0002_digits\\weights/weights.h5\n",
      "Epoch 150/200\n",
      "  128/60000 [..............................] - ETA: 6:09 - loss: 42.8280 - vae_r_loss: 37.3202 - vae_kl_loss: 5.5078 "
     ]
    },
    {
     "name": "stderr",
     "output_type": "stream",
     "text": [
      "e:\\GenerativeDeepLearning\\venv\\lib\\site-packages\\keras\\callbacks.py:122: UserWarning: Method on_batch_end() is slow compared to the batch update (0.578253). Check your callbacks.\n",
      "  % delta_t_median)\n",
      "e:\\GenerativeDeepLearning\\venv\\lib\\site-packages\\keras\\callbacks.py:122: UserWarning: Method on_batch_end() is slow compared to the batch update (0.289625). Check your callbacks.\n",
      "  % delta_t_median)\n"
     ]
    },
    {
     "name": "stdout",
     "output_type": "stream",
     "text": [
      "60000/60000 [==============================] - 89s 1ms/step - loss: 43.2812 - vae_r_loss: 37.7769 - vae_kl_loss: 5.5044\n",
      "\n",
      "Epoch 00150: saving model to run/vae/0002_digits\\weights/weights-150-43.28.h5\n",
      "\n",
      "Epoch 00150: saving model to run/vae/0002_digits\\weights/weights.h5\n",
      "Epoch 151/200\n",
      "  128/60000 [..............................] - ETA: 5:41 - loss: 43.9419 - vae_r_loss: 38.4037 - vae_kl_loss: 5.5382 "
     ]
    },
    {
     "name": "stderr",
     "output_type": "stream",
     "text": [
      "e:\\GenerativeDeepLearning\\venv\\lib\\site-packages\\keras\\callbacks.py:122: UserWarning: Method on_batch_end() is slow compared to the batch update (0.541107). Check your callbacks.\n",
      "  % delta_t_median)\n",
      "e:\\GenerativeDeepLearning\\venv\\lib\\site-packages\\keras\\callbacks.py:122: UserWarning: Method on_batch_end() is slow compared to the batch update (0.271057). Check your callbacks.\n",
      "  % delta_t_median)\n"
     ]
    },
    {
     "name": "stdout",
     "output_type": "stream",
     "text": [
      "60000/60000 [==============================] - 89s 1ms/step - loss: 43.2843 - vae_r_loss: 37.7717 - vae_kl_loss: 5.5126\n",
      "\n",
      "Epoch 00151: saving model to run/vae/0002_digits\\weights/weights-151-43.28.h5\n",
      "\n",
      "Epoch 00151: saving model to run/vae/0002_digits\\weights/weights.h5\n",
      "Epoch 152/200\n",
      "60000/60000 [==============================] - 89s 1ms/step - loss: 43.2738 - vae_r_loss: 37.7482 - vae_kl_loss: 5.5256\n",
      "\n",
      "Epoch 00152: saving model to run/vae/0002_digits\\weights/weights-152-43.27.h5\n",
      "\n",
      "Epoch 00152: saving model to run/vae/0002_digits\\weights/weights.h5\n",
      "Epoch 153/200\n",
      "60000/60000 [==============================] - 92s 2ms/step - loss: 43.2401 - vae_r_loss: 37.7221 - vae_kl_loss: 5.5180\n",
      "\n",
      "Epoch 00153: saving model to run/vae/0002_digits\\weights/weights-153-43.24.h5\n",
      "\n",
      "Epoch 00153: saving model to run/vae/0002_digits\\weights/weights.h5\n",
      "Epoch 154/200\n",
      "60000/60000 [==============================] - 92s 2ms/step - loss: 43.2524 - vae_r_loss: 37.7335 - vae_kl_loss: 5.5190\n",
      "\n",
      "Epoch 00154: saving model to run/vae/0002_digits\\weights/weights-154-43.25.h5\n",
      "\n",
      "Epoch 00154: saving model to run/vae/0002_digits\\weights/weights.h5\n",
      "Epoch 155/200\n",
      "  128/60000 [..............................] - ETA: 5:45 - loss: 43.9979 - vae_r_loss: 38.5351 - vae_kl_loss: 5.4628 "
     ]
    },
    {
     "name": "stderr",
     "output_type": "stream",
     "text": [
      "e:\\GenerativeDeepLearning\\venv\\lib\\site-packages\\keras\\callbacks.py:122: UserWarning: Method on_batch_end() is slow compared to the batch update (0.521374). Check your callbacks.\n",
      "  % delta_t_median)\n",
      "e:\\GenerativeDeepLearning\\venv\\lib\\site-packages\\keras\\callbacks.py:122: UserWarning: Method on_batch_end() is slow compared to the batch update (0.261687). Check your callbacks.\n",
      "  % delta_t_median)\n"
     ]
    },
    {
     "name": "stdout",
     "output_type": "stream",
     "text": [
      "60000/60000 [==============================] - 89s 1ms/step - loss: 43.2624 - vae_r_loss: 37.7347 - vae_kl_loss: 5.5277\n",
      "\n",
      "Epoch 00155: saving model to run/vae/0002_digits\\weights/weights-155-43.26.h5\n",
      "\n",
      "Epoch 00155: saving model to run/vae/0002_digits\\weights/weights.h5\n",
      "Epoch 156/200\n",
      "  128/60000 [..............................] - ETA: 6:10 - loss: 42.8913 - vae_r_loss: 37.5797 - vae_kl_loss: 5.3116 "
     ]
    },
    {
     "name": "stderr",
     "output_type": "stream",
     "text": [
      "e:\\GenerativeDeepLearning\\venv\\lib\\site-packages\\keras\\callbacks.py:122: UserWarning: Method on_batch_end() is slow compared to the batch update (0.581295). Check your callbacks.\n",
      "  % delta_t_median)\n",
      "e:\\GenerativeDeepLearning\\venv\\lib\\site-packages\\keras\\callbacks.py:122: UserWarning: Method on_batch_end() is slow compared to the batch update (0.291147). Check your callbacks.\n",
      "  % delta_t_median)\n"
     ]
    },
    {
     "name": "stdout",
     "output_type": "stream",
     "text": [
      "60000/60000 [==============================] - 89s 1ms/step - loss: 43.2561 - vae_r_loss: 37.7319 - vae_kl_loss: 5.5242\n",
      "\n",
      "Epoch 00156: saving model to run/vae/0002_digits\\weights/weights-156-43.26.h5\n",
      "\n",
      "Epoch 00156: saving model to run/vae/0002_digits\\weights/weights.h5\n",
      "Epoch 157/200\n",
      "60000/60000 [==============================] - 88s 1ms/step - loss: 43.2697 - vae_r_loss: 37.7548 - vae_kl_loss: 5.5150\n",
      "\n",
      "Epoch 00157: saving model to run/vae/0002_digits\\weights/weights-157-43.27.h5\n",
      "\n",
      "Epoch 00157: saving model to run/vae/0002_digits\\weights/weights.h5\n",
      "Epoch 158/200\n",
      "60000/60000 [==============================] - 88s 1ms/step - loss: 43.2099 - vae_r_loss: 37.6846 - vae_kl_loss: 5.5253\n",
      "\n",
      "Epoch 00158: saving model to run/vae/0002_digits\\weights/weights-158-43.21.h5\n",
      "\n",
      "Epoch 00158: saving model to run/vae/0002_digits\\weights/weights.h5\n",
      "Epoch 159/200\n",
      "  128/60000 [..............................] - ETA: 5:55 - loss: 44.1756 - vae_r_loss: 38.7370 - vae_kl_loss: 5.4386 "
     ]
    },
    {
     "name": "stderr",
     "output_type": "stream",
     "text": [
      "e:\\GenerativeDeepLearning\\venv\\lib\\site-packages\\keras\\callbacks.py:122: UserWarning: Method on_batch_end() is slow compared to the batch update (0.542559). Check your callbacks.\n",
      "  % delta_t_median)\n",
      "e:\\GenerativeDeepLearning\\venv\\lib\\site-packages\\keras\\callbacks.py:122: UserWarning: Method on_batch_end() is slow compared to the batch update (0.271776). Check your callbacks.\n",
      "  % delta_t_median)\n"
     ]
    },
    {
     "name": "stdout",
     "output_type": "stream",
     "text": [
      "60000/60000 [==============================] - 88s 1ms/step - loss: 43.2468 - vae_r_loss: 37.7254 - vae_kl_loss: 5.5214\n",
      "\n",
      "Epoch 00159: saving model to run/vae/0002_digits\\weights/weights-159-43.25.h5\n",
      "\n",
      "Epoch 00159: saving model to run/vae/0002_digits\\weights/weights.h5\n",
      "Epoch 160/200\n",
      "  128/60000 [..............................] - ETA: 5:49 - loss: 44.3776 - vae_r_loss: 38.7993 - vae_kl_loss: 5.5783 "
     ]
    },
    {
     "name": "stderr",
     "output_type": "stream",
     "text": [
      "e:\\GenerativeDeepLearning\\venv\\lib\\site-packages\\keras\\callbacks.py:122: UserWarning: Method on_batch_end() is slow compared to the batch update (0.541019). Check your callbacks.\n",
      "  % delta_t_median)\n",
      "e:\\GenerativeDeepLearning\\venv\\lib\\site-packages\\keras\\callbacks.py:122: UserWarning: Method on_batch_end() is slow compared to the batch update (0.270509). Check your callbacks.\n",
      "  % delta_t_median)\n"
     ]
    },
    {
     "name": "stdout",
     "output_type": "stream",
     "text": [
      "60000/60000 [==============================] - 89s 1ms/step - loss: 43.2161 - vae_r_loss: 37.6931 - vae_kl_loss: 5.5231\n",
      "\n",
      "Epoch 00160: saving model to run/vae/0002_digits\\weights/weights-160-43.22.h5\n",
      "\n",
      "Epoch 00160: saving model to run/vae/0002_digits\\weights/weights.h5\n",
      "Epoch 161/200\n",
      "  128/60000 [..............................] - ETA: 5:19 - loss: 42.4413 - vae_r_loss: 36.9473 - vae_kl_loss: 5.4939"
     ]
    },
    {
     "name": "stderr",
     "output_type": "stream",
     "text": [
      "e:\\GenerativeDeepLearning\\venv\\lib\\site-packages\\keras\\callbacks.py:122: UserWarning: Method on_batch_end() is slow compared to the batch update (0.457260). Check your callbacks.\n",
      "  % delta_t_median)\n",
      "e:\\GenerativeDeepLearning\\venv\\lib\\site-packages\\keras\\callbacks.py:122: UserWarning: Method on_batch_end() is slow compared to the batch update (0.229125). Check your callbacks.\n",
      "  % delta_t_median)\n"
     ]
    },
    {
     "name": "stdout",
     "output_type": "stream",
     "text": [
      "60000/60000 [==============================] - 88s 1ms/step - loss: 43.2506 - vae_r_loss: 37.7228 - vae_kl_loss: 5.5278\n",
      "\n",
      "Epoch 00161: saving model to run/vae/0002_digits\\weights/weights-161-43.25.h5\n",
      "\n",
      "Epoch 00161: saving model to run/vae/0002_digits\\weights/weights.h5\n",
      "Epoch 162/200\n",
      "60000/60000 [==============================] - 88s 1ms/step - loss: 43.1806 - vae_r_loss: 37.6652 - vae_kl_loss: 5.5154\n",
      "\n",
      "Epoch 00162: saving model to run/vae/0002_digits\\weights/weights-162-43.18.h5\n",
      "\n",
      "Epoch 00162: saving model to run/vae/0002_digits\\weights/weights.h5\n",
      "Epoch 163/200\n",
      "60000/60000 [==============================] - 88s 1ms/step - loss: 43.1895 - vae_r_loss: 37.6630 - vae_kl_loss: 5.5265\n",
      "\n",
      "Epoch 00163: saving model to run/vae/0002_digits\\weights/weights-163-43.19.h5\n",
      "\n",
      "Epoch 00163: saving model to run/vae/0002_digits\\weights/weights.h5\n",
      "Epoch 164/200\n",
      "  128/60000 [..............................] - ETA: 6:15 - loss: 45.1543 - vae_r_loss: 39.5876 - vae_kl_loss: 5.5667 "
     ]
    },
    {
     "name": "stderr",
     "output_type": "stream",
     "text": [
      "e:\\GenerativeDeepLearning\\venv\\lib\\site-packages\\keras\\callbacks.py:122: UserWarning: Method on_batch_end() is slow compared to the batch update (0.583075). Check your callbacks.\n",
      "  % delta_t_median)\n",
      "e:\\GenerativeDeepLearning\\venv\\lib\\site-packages\\keras\\callbacks.py:122: UserWarning: Method on_batch_end() is slow compared to the batch update (0.292290). Check your callbacks.\n",
      "  % delta_t_median)\n"
     ]
    },
    {
     "name": "stdout",
     "output_type": "stream",
     "text": [
      "60000/60000 [==============================] - 88s 1ms/step - loss: 43.1947 - vae_r_loss: 37.6605 - vae_kl_loss: 5.5342\n",
      "\n",
      "Epoch 00164: saving model to run/vae/0002_digits\\weights/weights-164-43.19.h5\n",
      "\n",
      "Epoch 00164: saving model to run/vae/0002_digits\\weights/weights.h5\n",
      "Epoch 165/200\n",
      "  128/60000 [..............................] - ETA: 5:56 - loss: 43.6861 - vae_r_loss: 38.0919 - vae_kl_loss: 5.5942 "
     ]
    },
    {
     "name": "stderr",
     "output_type": "stream",
     "text": [
      "e:\\GenerativeDeepLearning\\venv\\lib\\site-packages\\keras\\callbacks.py:122: UserWarning: Method on_batch_end() is slow compared to the batch update (0.563131). Check your callbacks.\n",
      "  % delta_t_median)\n",
      "e:\\GenerativeDeepLearning\\venv\\lib\\site-packages\\keras\\callbacks.py:122: UserWarning: Method on_batch_end() is slow compared to the batch update (0.282069). Check your callbacks.\n",
      "  % delta_t_median)\n"
     ]
    },
    {
     "name": "stdout",
     "output_type": "stream",
     "text": [
      "60000/60000 [==============================] - 88s 1ms/step - loss: 43.1844 - vae_r_loss: 37.6562 - vae_kl_loss: 5.5282\n",
      "\n",
      "Epoch 00165: saving model to run/vae/0002_digits\\weights/weights-165-43.18.h5\n",
      "\n",
      "Epoch 00165: saving model to run/vae/0002_digits\\weights/weights.h5\n",
      "Epoch 166/200\n",
      "  128/60000 [..............................] - ETA: 5:42 - loss: 45.4759 - vae_r_loss: 39.8413 - vae_kl_loss: 5.6347 "
     ]
    },
    {
     "name": "stderr",
     "output_type": "stream",
     "text": [
      "e:\\GenerativeDeepLearning\\venv\\lib\\site-packages\\keras\\callbacks.py:122: UserWarning: Method on_batch_end() is slow compared to the batch update (0.507258). Check your callbacks.\n",
      "  % delta_t_median)\n",
      "e:\\GenerativeDeepLearning\\venv\\lib\\site-packages\\keras\\callbacks.py:122: UserWarning: Method on_batch_end() is slow compared to the batch update (0.254130). Check your callbacks.\n",
      "  % delta_t_median)\n"
     ]
    },
    {
     "name": "stdout",
     "output_type": "stream",
     "text": [
      "60000/60000 [==============================] - 89s 1ms/step - loss: 43.1780 - vae_r_loss: 37.6304 - vae_kl_loss: 5.5476\n",
      "\n",
      "Epoch 00166: saving model to run/vae/0002_digits\\weights/weights-166-43.18.h5\n",
      "\n",
      "Epoch 00166: saving model to run/vae/0002_digits\\weights/weights.h5\n",
      "Epoch 167/200\n",
      "  128/60000 [..............................] - ETA: 5:54 - loss: 40.5257 - vae_r_loss: 34.9404 - vae_kl_loss: 5.5854 "
     ]
    },
    {
     "name": "stderr",
     "output_type": "stream",
     "text": [
      "e:\\GenerativeDeepLearning\\venv\\lib\\site-packages\\keras\\callbacks.py:122: UserWarning: Method on_batch_end() is slow compared to the batch update (0.561057). Check your callbacks.\n",
      "  % delta_t_median)\n",
      "e:\\GenerativeDeepLearning\\venv\\lib\\site-packages\\keras\\callbacks.py:122: UserWarning: Method on_batch_end() is slow compared to the batch update (0.281028). Check your callbacks.\n",
      "  % delta_t_median)\n"
     ]
    },
    {
     "name": "stdout",
     "output_type": "stream",
     "text": [
      "60000/60000 [==============================] - 90s 2ms/step - loss: 43.2004 - vae_r_loss: 37.6649 - vae_kl_loss: 5.5354\n",
      "\n",
      "Epoch 00167: saving model to run/vae/0002_digits\\weights/weights-167-43.20.h5\n",
      "\n",
      "Epoch 00167: saving model to run/vae/0002_digits\\weights/weights.h5\n",
      "Epoch 168/200\n",
      "  128/60000 [..............................] - ETA: 6:03 - loss: 42.3181 - vae_r_loss: 36.7397 - vae_kl_loss: 5.5784 "
     ]
    },
    {
     "name": "stderr",
     "output_type": "stream",
     "text": [
      "e:\\GenerativeDeepLearning\\venv\\lib\\site-packages\\keras\\callbacks.py:122: UserWarning: Method on_batch_end() is slow compared to the batch update (0.536967). Check your callbacks.\n",
      "  % delta_t_median)\n",
      "e:\\GenerativeDeepLearning\\venv\\lib\\site-packages\\keras\\callbacks.py:122: UserWarning: Method on_batch_end() is slow compared to the batch update (0.269094). Check your callbacks.\n",
      "  % delta_t_median)\n"
     ]
    },
    {
     "name": "stdout",
     "output_type": "stream",
     "text": [
      "60000/60000 [==============================] - 90s 1ms/step - loss: 43.1407 - vae_r_loss: 37.6031 - vae_kl_loss: 5.5376\n",
      "\n",
      "Epoch 00168: saving model to run/vae/0002_digits\\weights/weights-168-43.14.h5\n",
      "\n",
      "Epoch 00168: saving model to run/vae/0002_digits\\weights/weights.h5\n",
      "Epoch 169/200\n",
      "  128/60000 [..............................] - ETA: 5:51 - loss: 40.6870 - vae_r_loss: 35.3257 - vae_kl_loss: 5.3614 "
     ]
    },
    {
     "name": "stderr",
     "output_type": "stream",
     "text": [
      "e:\\GenerativeDeepLearning\\venv\\lib\\site-packages\\keras\\callbacks.py:122: UserWarning: Method on_batch_end() is slow compared to the batch update (0.533200). Check your callbacks.\n",
      "  % delta_t_median)\n",
      "e:\\GenerativeDeepLearning\\venv\\lib\\site-packages\\keras\\callbacks.py:122: UserWarning: Method on_batch_end() is slow compared to the batch update (0.267257). Check your callbacks.\n",
      "  % delta_t_median)\n"
     ]
    },
    {
     "name": "stdout",
     "output_type": "stream",
     "text": [
      "60000/60000 [==============================] - 89s 1ms/step - loss: 43.1748 - vae_r_loss: 37.6450 - vae_kl_loss: 5.5298\n",
      "\n",
      "Epoch 00169: saving model to run/vae/0002_digits\\weights/weights-169-43.17.h5\n",
      "\n",
      "Epoch 00169: saving model to run/vae/0002_digits\\weights/weights.h5\n",
      "Epoch 170/200\n",
      "   96/60000 [..............................] - ETA: 7:28 - loss: 43.4937 - vae_r_loss: 37.8358 - vae_kl_loss: 5.6579 "
     ]
    },
    {
     "name": "stderr",
     "output_type": "stream",
     "text": [
      "e:\\GenerativeDeepLearning\\venv\\lib\\site-packages\\keras\\callbacks.py:122: UserWarning: Method on_batch_end() is slow compared to the batch update (0.533871). Check your callbacks.\n",
      "  % delta_t_median)\n",
      "e:\\GenerativeDeepLearning\\venv\\lib\\site-packages\\keras\\callbacks.py:122: UserWarning: Method on_batch_end() is slow compared to the batch update (0.267436). Check your callbacks.\n",
      "  % delta_t_median)\n"
     ]
    },
    {
     "name": "stdout",
     "output_type": "stream",
     "text": [
      "60000/60000 [==============================] - 90s 1ms/step - loss: 43.1664 - vae_r_loss: 37.6340 - vae_kl_loss: 5.5324\n",
      "\n",
      "Epoch 00170: saving model to run/vae/0002_digits\\weights/weights-170-43.17.h5\n",
      "\n",
      "Epoch 00170: saving model to run/vae/0002_digits\\weights/weights.h5\n",
      "Epoch 171/200\n",
      "  128/60000 [..............................] - ETA: 6:08 - loss: 42.5917 - vae_r_loss: 36.9403 - vae_kl_loss: 5.6514 "
     ]
    },
    {
     "name": "stderr",
     "output_type": "stream",
     "text": [
      "e:\\GenerativeDeepLearning\\venv\\lib\\site-packages\\keras\\callbacks.py:122: UserWarning: Method on_batch_end() is slow compared to the batch update (0.567225). Check your callbacks.\n",
      "  % delta_t_median)\n",
      "e:\\GenerativeDeepLearning\\venv\\lib\\site-packages\\keras\\callbacks.py:122: UserWarning: Method on_batch_end() is slow compared to the batch update (0.284113). Check your callbacks.\n",
      "  % delta_t_median)\n"
     ]
    },
    {
     "name": "stdout",
     "output_type": "stream",
     "text": [
      "60000/60000 [==============================] - 89s 1ms/step - loss: 43.1577 - vae_r_loss: 37.6201 - vae_kl_loss: 5.5376\n",
      "\n",
      "Epoch 00171: saving model to run/vae/0002_digits\\weights/weights-171-43.16.h5\n",
      "\n",
      "Epoch 00171: saving model to run/vae/0002_digits\\weights/weights.h5\n",
      "Epoch 172/200\n",
      "  128/60000 [..............................] - ETA: 5:54 - loss: 44.1753 - vae_r_loss: 38.5942 - vae_kl_loss: 5.5811 "
     ]
    },
    {
     "name": "stderr",
     "output_type": "stream",
     "text": [
      "e:\\GenerativeDeepLearning\\venv\\lib\\site-packages\\keras\\callbacks.py:122: UserWarning: Method on_batch_end() is slow compared to the batch update (0.543094). Check your callbacks.\n",
      "  % delta_t_median)\n",
      "e:\\GenerativeDeepLearning\\venv\\lib\\site-packages\\keras\\callbacks.py:122: UserWarning: Method on_batch_end() is slow compared to the batch update (0.272148). Check your callbacks.\n",
      "  % delta_t_median)\n"
     ]
    },
    {
     "name": "stdout",
     "output_type": "stream",
     "text": [
      "60000/60000 [==============================] - 89s 1ms/step - loss: 43.1588 - vae_r_loss: 37.6152 - vae_kl_loss: 5.5436\n",
      "\n",
      "Epoch 00172: saving model to run/vae/0002_digits\\weights/weights-172-43.16.h5\n",
      "\n",
      "Epoch 00172: saving model to run/vae/0002_digits\\weights/weights.h5\n",
      "Epoch 173/200\n",
      "  128/60000 [..............................] - ETA: 10:10 - loss: 44.2841 - vae_r_loss: 38.6964 - vae_kl_loss: 5.5877"
     ]
    },
    {
     "name": "stderr",
     "output_type": "stream",
     "text": [
      "e:\\GenerativeDeepLearning\\venv\\lib\\site-packages\\keras\\callbacks.py:122: UserWarning: Method on_batch_end() is slow compared to the batch update (1.100634). Check your callbacks.\n",
      "  % delta_t_median)\n",
      "e:\\GenerativeDeepLearning\\venv\\lib\\site-packages\\keras\\callbacks.py:122: UserWarning: Method on_batch_end() is slow compared to the batch update (0.550931). Check your callbacks.\n",
      "  % delta_t_median)\n"
     ]
    },
    {
     "name": "stdout",
     "output_type": "stream",
     "text": [
      "60000/60000 [==============================] - 90s 2ms/step - loss: 43.2129 - vae_r_loss: 37.6675 - vae_kl_loss: 5.5454\n",
      "\n",
      "Epoch 00173: saving model to run/vae/0002_digits\\weights/weights-173-43.21.h5\n",
      "\n",
      "Epoch 00173: saving model to run/vae/0002_digits\\weights/weights.h5\n",
      "Epoch 174/200\n",
      "  128/60000 [..............................] - ETA: 9:48 - loss: 41.9412 - vae_r_loss: 36.3591 - vae_kl_loss: 5.5820 "
     ]
    },
    {
     "name": "stderr",
     "output_type": "stream",
     "text": [
      "e:\\GenerativeDeepLearning\\venv\\lib\\site-packages\\keras\\callbacks.py:122: UserWarning: Method on_batch_end() is slow compared to the batch update (1.051357). Check your callbacks.\n",
      "  % delta_t_median)\n",
      "e:\\GenerativeDeepLearning\\venv\\lib\\site-packages\\keras\\callbacks.py:122: UserWarning: Method on_batch_end() is slow compared to the batch update (0.525678). Check your callbacks.\n",
      "  % delta_t_median)\n"
     ]
    },
    {
     "name": "stdout",
     "output_type": "stream",
     "text": [
      "60000/60000 [==============================] - 90s 1ms/step - loss: 43.1113 - vae_r_loss: 37.5753 - vae_kl_loss: 5.5360\n",
      "\n",
      "Epoch 00174: saving model to run/vae/0002_digits\\weights/weights-174-43.11.h5\n",
      "\n",
      "Epoch 00174: saving model to run/vae/0002_digits\\weights/weights.h5\n",
      "Epoch 175/200\n",
      "60000/60000 [==============================] - 89s 1ms/step - loss: 43.1377 - vae_r_loss: 37.5787 - vae_kl_loss: 5.5590\n",
      "\n",
      "Epoch 00175: saving model to run/vae/0002_digits\\weights/weights-175-43.14.h5\n",
      "\n",
      "Epoch 00175: saving model to run/vae/0002_digits\\weights/weights.h5\n",
      "Epoch 176/200\n",
      "60000/60000 [==============================] - 89s 1ms/step - loss: 43.1277 - vae_r_loss: 37.5967 - vae_kl_loss: 5.5310\n",
      "\n",
      "Epoch 00176: saving model to run/vae/0002_digits\\weights/weights-176-43.13.h5\n",
      "\n",
      "Epoch 00176: saving model to run/vae/0002_digits\\weights/weights.h5\n",
      "Epoch 177/200\n",
      "  128/60000 [..............................] - ETA: 5:44 - loss: 43.2713 - vae_r_loss: 37.7888 - vae_kl_loss: 5.4825 "
     ]
    },
    {
     "name": "stderr",
     "output_type": "stream",
     "text": [
      "e:\\GenerativeDeepLearning\\venv\\lib\\site-packages\\keras\\callbacks.py:122: UserWarning: Method on_batch_end() is slow compared to the batch update (0.527049). Check your callbacks.\n",
      "  % delta_t_median)\n",
      "e:\\GenerativeDeepLearning\\venv\\lib\\site-packages\\keras\\callbacks.py:122: UserWarning: Method on_batch_end() is slow compared to the batch update (0.264023). Check your callbacks.\n",
      "  % delta_t_median)\n"
     ]
    },
    {
     "name": "stdout",
     "output_type": "stream",
     "text": [
      "60000/60000 [==============================] - 89s 1ms/step - loss: 43.1066 - vae_r_loss: 37.5646 - vae_kl_loss: 5.5420\n",
      "\n",
      "Epoch 00177: saving model to run/vae/0002_digits\\weights/weights-177-43.11.h5\n",
      "\n",
      "Epoch 00177: saving model to run/vae/0002_digits\\weights/weights.h5\n",
      "Epoch 178/200\n",
      "  128/60000 [..............................] - ETA: 5:47 - loss: 40.8705 - vae_r_loss: 35.3669 - vae_kl_loss: 5.5036 "
     ]
    },
    {
     "name": "stderr",
     "output_type": "stream",
     "text": [
      "e:\\GenerativeDeepLearning\\venv\\lib\\site-packages\\keras\\callbacks.py:122: UserWarning: Method on_batch_end() is slow compared to the batch update (0.529660). Check your callbacks.\n",
      "  % delta_t_median)\n",
      "e:\\GenerativeDeepLearning\\venv\\lib\\site-packages\\keras\\callbacks.py:122: UserWarning: Method on_batch_end() is slow compared to the batch update (0.265329). Check your callbacks.\n",
      "  % delta_t_median)\n"
     ]
    },
    {
     "name": "stdout",
     "output_type": "stream",
     "text": [
      "60000/60000 [==============================] - 89s 1ms/step - loss: 43.1124 - vae_r_loss: 37.5693 - vae_kl_loss: 5.5431\n",
      "\n",
      "Epoch 00178: saving model to run/vae/0002_digits\\weights/weights-178-43.11.h5\n",
      "\n",
      "Epoch 00178: saving model to run/vae/0002_digits\\weights/weights.h5\n",
      "Epoch 179/200\n",
      "  128/60000 [..............................] - ETA: 5:34 - loss: 43.5358 - vae_r_loss: 38.0609 - vae_kl_loss: 5.4749"
     ]
    },
    {
     "name": "stderr",
     "output_type": "stream",
     "text": [
      "e:\\GenerativeDeepLearning\\venv\\lib\\site-packages\\keras\\callbacks.py:122: UserWarning: Method on_batch_end() is slow compared to the batch update (0.520103). Check your callbacks.\n",
      "  % delta_t_median)\n",
      "e:\\GenerativeDeepLearning\\venv\\lib\\site-packages\\keras\\callbacks.py:122: UserWarning: Method on_batch_end() is slow compared to the batch update (0.260551). Check your callbacks.\n",
      "  % delta_t_median)\n"
     ]
    },
    {
     "name": "stdout",
     "output_type": "stream",
     "text": [
      "60000/60000 [==============================] - 89s 1ms/step - loss: 43.1459 - vae_r_loss: 37.5944 - vae_kl_loss: 5.5515\n",
      "\n",
      "Epoch 00179: saving model to run/vae/0002_digits\\weights/weights-179-43.15.h5\n",
      "\n",
      "Epoch 00179: saving model to run/vae/0002_digits\\weights/weights.h5\n",
      "Epoch 180/200\n",
      "60000/60000 [==============================] - 89s 1ms/step - loss: 43.1178 - vae_r_loss: 37.5796 - vae_kl_loss: 5.5381\n",
      "\n",
      "Epoch 00180: saving model to run/vae/0002_digits\\weights/weights-180-43.12.h5\n",
      "\n",
      "Epoch 00180: saving model to run/vae/0002_digits\\weights/weights.h5\n",
      "Epoch 181/200\n",
      "60000/60000 [==============================] - 89s 1ms/step - loss: 43.1099 - vae_r_loss: 37.5563 - vae_kl_loss: 5.5536\n",
      "\n",
      "Epoch 00181: saving model to run/vae/0002_digits\\weights/weights-181-43.11.h5\n",
      "\n",
      "Epoch 00181: saving model to run/vae/0002_digits\\weights/weights.h5\n",
      "Epoch 182/200\n",
      "  128/60000 [..............................] - ETA: 5:34 - loss: 43.8785 - vae_r_loss: 38.2525 - vae_kl_loss: 5.6260"
     ]
    },
    {
     "name": "stderr",
     "output_type": "stream",
     "text": [
      "e:\\GenerativeDeepLearning\\venv\\lib\\site-packages\\keras\\callbacks.py:122: UserWarning: Method on_batch_end() is slow compared to the batch update (0.530420). Check your callbacks.\n",
      "  % delta_t_median)\n",
      "e:\\GenerativeDeepLearning\\venv\\lib\\site-packages\\keras\\callbacks.py:122: UserWarning: Method on_batch_end() is slow compared to the batch update (0.265210). Check your callbacks.\n",
      "  % delta_t_median)\n"
     ]
    },
    {
     "name": "stdout",
     "output_type": "stream",
     "text": [
      "60000/60000 [==============================] - 89s 1ms/step - loss: 43.0952 - vae_r_loss: 37.5524 - vae_kl_loss: 5.5428\n",
      "\n",
      "Epoch 00182: saving model to run/vae/0002_digits\\weights/weights-182-43.10.h5\n",
      "\n",
      "Epoch 00182: saving model to run/vae/0002_digits\\weights/weights.h5\n",
      "Epoch 183/200\n",
      "  128/60000 [..............................] - ETA: 5:54 - loss: 42.7512 - vae_r_loss: 37.1186 - vae_kl_loss: 5.6326 "
     ]
    },
    {
     "name": "stderr",
     "output_type": "stream",
     "text": [
      "e:\\GenerativeDeepLearning\\venv\\lib\\site-packages\\keras\\callbacks.py:122: UserWarning: Method on_batch_end() is slow compared to the batch update (0.562415). Check your callbacks.\n",
      "  % delta_t_median)\n",
      "e:\\GenerativeDeepLearning\\venv\\lib\\site-packages\\keras\\callbacks.py:122: UserWarning: Method on_batch_end() is slow compared to the batch update (0.281830). Check your callbacks.\n",
      "  % delta_t_median)\n"
     ]
    },
    {
     "name": "stdout",
     "output_type": "stream",
     "text": [
      "60000/60000 [==============================] - 89s 1ms/step - loss: 43.1150 - vae_r_loss: 37.5591 - vae_kl_loss: 5.5560\n",
      "\n",
      "Epoch 00183: saving model to run/vae/0002_digits\\weights/weights-183-43.12.h5\n",
      "\n",
      "Epoch 00183: saving model to run/vae/0002_digits\\weights/weights.h5\n",
      "Epoch 184/200\n",
      "60000/60000 [==============================] - 88s 1ms/step - loss: 43.0898 - vae_r_loss: 37.5371 - vae_kl_loss: 5.5527\n",
      "\n",
      "Epoch 00184: saving model to run/vae/0002_digits\\weights/weights-184-43.09.h5\n",
      "\n",
      "Epoch 00184: saving model to run/vae/0002_digits\\weights/weights.h5\n",
      "Epoch 185/200\n",
      "  128/60000 [..............................] - ETA: 5:52 - loss: 44.3627 - vae_r_loss: 38.6528 - vae_kl_loss: 5.7100 "
     ]
    },
    {
     "name": "stderr",
     "output_type": "stream",
     "text": [
      "e:\\GenerativeDeepLearning\\venv\\lib\\site-packages\\keras\\callbacks.py:122: UserWarning: Method on_batch_end() is slow compared to the batch update (0.516209). Check your callbacks.\n",
      "  % delta_t_median)\n",
      "e:\\GenerativeDeepLearning\\venv\\lib\\site-packages\\keras\\callbacks.py:122: UserWarning: Method on_batch_end() is slow compared to the batch update (0.258730). Check your callbacks.\n",
      "  % delta_t_median)\n"
     ]
    },
    {
     "name": "stdout",
     "output_type": "stream",
     "text": [
      "60000/60000 [==============================] - 90s 1ms/step - loss: 43.0783 - vae_r_loss: 37.5201 - vae_kl_loss: 5.5582\n",
      "\n",
      "Epoch 00185: saving model to run/vae/0002_digits\\weights/weights-185-43.08.h5\n",
      "\n",
      "Epoch 00185: saving model to run/vae/0002_digits\\weights/weights.h5\n",
      "Epoch 186/200\n",
      "60000/60000 [==============================] - 92s 2ms/step - loss: 43.0927 - vae_r_loss: 37.5480 - vae_kl_loss: 5.5447\n",
      "\n",
      "Epoch 00186: saving model to run/vae/0002_digits\\weights/weights-186-43.09.h5\n",
      "\n",
      "Epoch 00186: saving model to run/vae/0002_digits\\weights/weights.h5\n",
      "Epoch 187/200\n",
      "  128/60000 [..............................] - ETA: 5:44 - loss: 43.8290 - vae_r_loss: 38.3591 - vae_kl_loss: 5.4699"
     ]
    },
    {
     "name": "stderr",
     "output_type": "stream",
     "text": [
      "e:\\GenerativeDeepLearning\\venv\\lib\\site-packages\\keras\\callbacks.py:122: UserWarning: Method on_batch_end() is slow compared to the batch update (0.511610). Check your callbacks.\n",
      "  % delta_t_median)\n",
      "e:\\GenerativeDeepLearning\\venv\\lib\\site-packages\\keras\\callbacks.py:122: UserWarning: Method on_batch_end() is slow compared to the batch update (0.256560). Check your callbacks.\n",
      "  % delta_t_median)\n"
     ]
    },
    {
     "name": "stdout",
     "output_type": "stream",
     "text": [
      "60000/60000 [==============================] - 92s 2ms/step - loss: 43.1278 - vae_r_loss: 37.5679 - vae_kl_loss: 5.5599\n",
      "\n",
      "Epoch 00187: saving model to run/vae/0002_digits\\weights/weights-187-43.13.h5\n",
      "\n",
      "Epoch 00187: saving model to run/vae/0002_digits\\weights/weights.h5\n",
      "Epoch 188/200\n",
      "   96/60000 [..............................] - ETA: 7:15 - loss: 41.8611 - vae_r_loss: 36.3631 - vae_kl_loss: 5.4980 "
     ]
    },
    {
     "name": "stderr",
     "output_type": "stream",
     "text": [
      "e:\\GenerativeDeepLearning\\venv\\lib\\site-packages\\keras\\callbacks.py:122: UserWarning: Method on_batch_end() is slow compared to the batch update (0.516840). Check your callbacks.\n",
      "  % delta_t_median)\n",
      "e:\\GenerativeDeepLearning\\venv\\lib\\site-packages\\keras\\callbacks.py:122: UserWarning: Method on_batch_end() is slow compared to the batch update (0.258420). Check your callbacks.\n",
      "  % delta_t_median)\n"
     ]
    },
    {
     "name": "stdout",
     "output_type": "stream",
     "text": [
      "60000/60000 [==============================] - 92s 2ms/step - loss: 43.0641 - vae_r_loss: 37.5166 - vae_kl_loss: 5.5475\n",
      "\n",
      "Epoch 00188: saving model to run/vae/0002_digits\\weights/weights-188-43.06.h5\n",
      "\n",
      "Epoch 00188: saving model to run/vae/0002_digits\\weights/weights.h5\n",
      "Epoch 189/200\n",
      "60000/60000 [==============================] - 92s 2ms/step - loss: 43.1047 - vae_r_loss: 37.5468 - vae_kl_loss: 5.5579\n",
      "\n",
      "Epoch 00189: saving model to run/vae/0002_digits\\weights/weights-189-43.10.h5\n",
      "\n",
      "Epoch 00189: saving model to run/vae/0002_digits\\weights/weights.h5\n",
      "Epoch 190/200\n",
      "60000/60000 [==============================] - 92s 2ms/step - loss: 43.0790 - vae_r_loss: 37.5198 - vae_kl_loss: 5.5592\n",
      "\n",
      "Epoch 00190: saving model to run/vae/0002_digits\\weights/weights-190-43.08.h5\n",
      "\n",
      "Epoch 00190: saving model to run/vae/0002_digits\\weights/weights.h5\n",
      "Epoch 191/200\n",
      "  128/60000 [..............................] - ETA: 5:50 - loss: 44.4644 - vae_r_loss: 38.8144 - vae_kl_loss: 5.6500 "
     ]
    },
    {
     "name": "stderr",
     "output_type": "stream",
     "text": [
      "e:\\GenerativeDeepLearning\\venv\\lib\\site-packages\\keras\\callbacks.py:122: UserWarning: Method on_batch_end() is slow compared to the batch update (0.554035). Check your callbacks.\n",
      "  % delta_t_median)\n",
      "e:\\GenerativeDeepLearning\\venv\\lib\\site-packages\\keras\\callbacks.py:122: UserWarning: Method on_batch_end() is slow compared to the batch update (0.277518). Check your callbacks.\n",
      "  % delta_t_median)\n"
     ]
    },
    {
     "name": "stdout",
     "output_type": "stream",
     "text": [
      "60000/60000 [==============================] - 92s 2ms/step - loss: 43.0443 - vae_r_loss: 37.4940 - vae_kl_loss: 5.5503\n",
      "\n",
      "Epoch 00191: saving model to run/vae/0002_digits\\weights/weights-191-43.04.h5\n",
      "\n",
      "Epoch 00191: saving model to run/vae/0002_digits\\weights/weights.h5\n",
      "Epoch 192/200\n",
      "   96/60000 [..............................] - ETA: 7:37 - loss: 43.0533 - vae_r_loss: 37.4651 - vae_kl_loss: 5.5882 "
     ]
    },
    {
     "name": "stderr",
     "output_type": "stream",
     "text": [
      "e:\\GenerativeDeepLearning\\venv\\lib\\site-packages\\keras\\callbacks.py:122: UserWarning: Method on_batch_end() is slow compared to the batch update (0.570899). Check your callbacks.\n",
      "  % delta_t_median)\n",
      "e:\\GenerativeDeepLearning\\venv\\lib\\site-packages\\keras\\callbacks.py:122: UserWarning: Method on_batch_end() is slow compared to the batch update (0.290707). Check your callbacks.\n",
      "  % delta_t_median)\n"
     ]
    },
    {
     "name": "stdout",
     "output_type": "stream",
     "text": [
      "60000/60000 [==============================] - 93s 2ms/step - loss: 43.0524 - vae_r_loss: 37.4896 - vae_kl_loss: 5.5628\n",
      "\n",
      "Epoch 00192: saving model to run/vae/0002_digits\\weights/weights-192-43.05.h5\n",
      "\n",
      "Epoch 00192: saving model to run/vae/0002_digits\\weights/weights.h5\n",
      "Epoch 193/200\n",
      "60000/60000 [==============================] - 92s 2ms/step - loss: 43.0332 - vae_r_loss: 37.4799 - vae_kl_loss: 5.5534\n",
      "\n",
      "Epoch 00193: saving model to run/vae/0002_digits\\weights/weights-193-43.03.h5\n",
      "\n",
      "Epoch 00193: saving model to run/vae/0002_digits\\weights/weights.h5\n",
      "Epoch 194/200\n",
      "60000/60000 [==============================] - 92s 2ms/step - loss: 43.0101 - vae_r_loss: 37.4431 - vae_kl_loss: 5.5670\n",
      "\n",
      "Epoch 00194: saving model to run/vae/0002_digits\\weights/weights-194-43.01.h5\n",
      "\n",
      "Epoch 00194: saving model to run/vae/0002_digits\\weights/weights.h5\n",
      "Epoch 195/200\n",
      "60000/60000 [==============================] - 92s 2ms/step - loss: 43.0254 - vae_r_loss: 37.4613 - vae_kl_loss: 5.5641\n",
      "\n",
      "Epoch 00195: saving model to run/vae/0002_digits\\weights/weights-195-43.03.h5\n",
      "\n",
      "Epoch 00195: saving model to run/vae/0002_digits\\weights/weights.h5\n",
      "Epoch 196/200\n",
      "   96/60000 [..............................] - ETA: 7:23 - loss: 43.3077 - vae_r_loss: 37.6899 - vae_kl_loss: 5.6178 "
     ]
    },
    {
     "name": "stderr",
     "output_type": "stream",
     "text": [
      "e:\\GenerativeDeepLearning\\venv\\lib\\site-packages\\keras\\callbacks.py:122: UserWarning: Method on_batch_end() is slow compared to the batch update (0.542409). Check your callbacks.\n",
      "  % delta_t_median)\n",
      "e:\\GenerativeDeepLearning\\venv\\lib\\site-packages\\keras\\callbacks.py:122: UserWarning: Method on_batch_end() is slow compared to the batch update (0.271707). Check your callbacks.\n",
      "  % delta_t_median)\n"
     ]
    },
    {
     "name": "stdout",
     "output_type": "stream",
     "text": [
      "60000/60000 [==============================] - 92s 2ms/step - loss: 43.0137 - vae_r_loss: 37.4510 - vae_kl_loss: 5.5626\n",
      "\n",
      "Epoch 00196: saving model to run/vae/0002_digits\\weights/weights-196-43.01.h5\n",
      "\n",
      "Epoch 00196: saving model to run/vae/0002_digits\\weights/weights.h5\n",
      "Epoch 197/200\n",
      "  128/60000 [..............................] - ETA: 5:29 - loss: 44.6250 - vae_r_loss: 38.9590 - vae_kl_loss: 5.6660"
     ]
    },
    {
     "name": "stderr",
     "output_type": "stream",
     "text": [
      "e:\\GenerativeDeepLearning\\venv\\lib\\site-packages\\keras\\callbacks.py:122: UserWarning: Method on_batch_end() is slow compared to the batch update (0.527977). Check your callbacks.\n",
      "  % delta_t_median)\n",
      "e:\\GenerativeDeepLearning\\venv\\lib\\site-packages\\keras\\callbacks.py:122: UserWarning: Method on_batch_end() is slow compared to the batch update (0.263989). Check your callbacks.\n",
      "  % delta_t_median)\n"
     ]
    },
    {
     "name": "stdout",
     "output_type": "stream",
     "text": [
      "60000/60000 [==============================] - 92s 2ms/step - loss: 43.0183 - vae_r_loss: 37.4564 - vae_kl_loss: 5.5619\n",
      "\n",
      "Epoch 00197: saving model to run/vae/0002_digits\\weights/weights-197-43.02.h5\n",
      "\n",
      "Epoch 00197: saving model to run/vae/0002_digits\\weights/weights.h5\n",
      "Epoch 198/200\n",
      "60000/60000 [==============================] - 92s 2ms/step - loss: 43.0015 - vae_r_loss: 37.4390 - vae_kl_loss: 5.5625\n",
      "\n",
      "Epoch 00198: saving model to run/vae/0002_digits\\weights/weights-198-43.00.h5\n",
      "\n",
      "Epoch 00198: saving model to run/vae/0002_digits\\weights/weights.h5\n",
      "Epoch 199/200\n",
      "60000/60000 [==============================] - 92s 2ms/step - loss: 43.0831 - vae_r_loss: 37.5118 - vae_kl_loss: 5.5713\n",
      "\n",
      "Epoch 00199: saving model to run/vae/0002_digits\\weights/weights-199-43.08.h5\n",
      "\n",
      "Epoch 00199: saving model to run/vae/0002_digits\\weights/weights.h5\n",
      "Epoch 200/200\n",
      "  128/60000 [..............................] - ETA: 5:38 - loss: 41.3247 - vae_r_loss: 35.6394 - vae_kl_loss: 5.6852"
     ]
    },
    {
     "name": "stderr",
     "output_type": "stream",
     "text": [
      "e:\\GenerativeDeepLearning\\venv\\lib\\site-packages\\keras\\callbacks.py:122: UserWarning: Method on_batch_end() is slow compared to the batch update (0.531291). Check your callbacks.\n",
      "  % delta_t_median)\n",
      "e:\\GenerativeDeepLearning\\venv\\lib\\site-packages\\keras\\callbacks.py:122: UserWarning: Method on_batch_end() is slow compared to the batch update (0.266145). Check your callbacks.\n",
      "  % delta_t_median)\n"
     ]
    },
    {
     "name": "stdout",
     "output_type": "stream",
     "text": [
      "60000/60000 [==============================] - 92s 2ms/step - loss: 43.0130 - vae_r_loss: 37.4507 - vae_kl_loss: 5.5623\n",
      "\n",
      "Epoch 00200: saving model to run/vae/0002_digits\\weights/weights-200-43.01.h5\n",
      "\n",
      "Epoch 00200: saving model to run/vae/0002_digits\\weights/weights.h5\n"
     ]
    }
   ],
   "source": [
    "vae.train(     \n",
    "    x_train\n",
    "    , batch_size = BATCH_SIZE\n",
    "    , epochs = EPOCHS\n",
    "    , run_folder = RUN_FOLDER\n",
    "    , print_every_n_batches = PRINT_EVERY_N_BATCHES\n",
    "    , initial_epoch = INITIAL_EPOCH\n",
    ")"
   ]
  }
 ],
 "metadata": {
  "kernelspec": {
   "display_name": "Python 3",
   "language": "python",
   "name": "python3"
  },
  "language_info": {
   "codemirror_mode": {
    "name": "ipython",
    "version": 3
   },
   "file_extension": ".py",
   "mimetype": "text/x-python",
   "name": "python",
   "nbconvert_exporter": "python",
   "pygments_lexer": "ipython3",
   "version": "3.6.5"
  }
 },
 "nbformat": 4,
 "nbformat_minor": 2
}
