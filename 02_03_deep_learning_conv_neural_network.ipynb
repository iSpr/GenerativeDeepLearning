{
 "cells": [
  {
   "cell_type": "markdown",
   "metadata": {},
   "source": [
    "# 첫 번째 합성곱 신경망"
   ]
  },
  {
   "cell_type": "markdown",
   "metadata": {},
   "source": [
    "## 라이브러리 임포트"
   ]
  },
  {
   "cell_type": "code",
   "execution_count": 1,
   "metadata": {},
   "outputs": [
    {
     "name": "stderr",
     "output_type": "stream",
     "text": [
      "Using TensorFlow backend.\n"
     ]
    }
   ],
   "source": [
    "import numpy as np\n",
    "\n",
    "from keras.layers import Input, Flatten, Dense, Conv2D, BatchNormalization, LeakyReLU, Dropout, Activation\n",
    "from keras.models import Model\n",
    "from keras.optimizers import Adam\n",
    "from keras.utils import to_categorical\n",
    "import keras.backend as K \n",
    "\n",
    "from keras.datasets import cifar10"
   ]
  },
  {
   "cell_type": "markdown",
   "metadata": {},
   "source": [
    "## 데이터 적재"
   ]
  },
  {
   "cell_type": "code",
   "execution_count": 2,
   "metadata": {},
   "outputs": [],
   "source": [
    "NUM_CLASSES = 10"
   ]
  },
  {
   "cell_type": "code",
   "execution_count": 3,
   "metadata": {},
   "outputs": [],
   "source": [
    "(x_train, y_train), (x_test, y_test) = cifar10.load_data()"
   ]
  },
  {
   "cell_type": "code",
   "execution_count": 4,
   "metadata": {},
   "outputs": [],
   "source": [
    "x_train = x_train.astype('float32') / 255.0\n",
    "x_test = x_test.astype('float32') / 255.0\n",
    "\n",
    "y_train = to_categorical(y_train, NUM_CLASSES)\n",
    "y_test = to_categorical(y_test, NUM_CLASSES)"
   ]
  },
  {
   "cell_type": "code",
   "execution_count": 5,
   "metadata": {},
   "outputs": [
    {
     "data": {
      "text/plain": [
       "0.36862746"
      ]
     },
     "execution_count": 5,
     "metadata": {},
     "output_type": "execute_result"
    }
   ],
   "source": [
    "x_train[54, 12, 13, 1] "
   ]
  },
  {
   "cell_type": "markdown",
   "metadata": {},
   "source": [
    "## 모델 만들기"
   ]
  },
  {
   "cell_type": "code",
   "execution_count": 6,
   "metadata": {},
   "outputs": [
    {
     "name": "stdout",
     "output_type": "stream",
     "text": [
      "WARNING:tensorflow:From e:\\GenerativeDeepLearning\\venv\\lib\\site-packages\\tensorflow\\python\\framework\\op_def_library.py:263: colocate_with (from tensorflow.python.framework.ops) is deprecated and will be removed in a future version.\n",
      "Instructions for updating:\n",
      "Colocations handled automatically by placer.\n"
     ]
    }
   ],
   "source": [
    "input_layer = Input(shape=(32,32,3))\n",
    "\n",
    "conv_layer_1 = Conv2D(\n",
    "    filters = 10\n",
    "    , kernel_size = (4,4)\n",
    "    , strides = 2\n",
    "    , padding = 'same'\n",
    "    )(input_layer)\n",
    "\n",
    "conv_layer_2 = Conv2D(\n",
    "    filters = 20\n",
    "    , kernel_size = (3,3)\n",
    "    , strides = 2\n",
    "    , padding = 'same'\n",
    "    )(conv_layer_1)\n",
    "\n",
    "flatten_layer = Flatten()(conv_layer_2)\n",
    "\n",
    "output_layer = Dense(units=10, activation = 'softmax')(flatten_layer)\n",
    "\n",
    "model = Model(input_layer, output_layer)"
   ]
  },
  {
   "cell_type": "code",
   "execution_count": 7,
   "metadata": {},
   "outputs": [
    {
     "name": "stdout",
     "output_type": "stream",
     "text": [
      "_________________________________________________________________\n",
      "Layer (type)                 Output Shape              Param #   \n",
      "=================================================================\n",
      "input_1 (InputLayer)         (None, 32, 32, 3)         0         \n",
      "_________________________________________________________________\n",
      "conv2d_1 (Conv2D)            (None, 16, 16, 10)        490       \n",
      "_________________________________________________________________\n",
      "conv2d_2 (Conv2D)            (None, 8, 8, 20)          1820      \n",
      "_________________________________________________________________\n",
      "flatten_1 (Flatten)          (None, 1280)              0         \n",
      "_________________________________________________________________\n",
      "dense_1 (Dense)              (None, 10)                12810     \n",
      "=================================================================\n",
      "Total params: 15,120\n",
      "Trainable params: 15,120\n",
      "Non-trainable params: 0\n",
      "_________________________________________________________________\n"
     ]
    }
   ],
   "source": [
    "model.summary()"
   ]
  },
  {
   "cell_type": "code",
   "execution_count": 8,
   "metadata": {},
   "outputs": [
    {
     "data": {
      "text/plain": [
       "10"
      ]
     },
     "execution_count": 8,
     "metadata": {},
     "output_type": "execute_result"
    }
   ],
   "source": [
    "# unit                      # 원리                                                                                  # Param 수                  # Layer 구분    # 원리\n",
    "32*32*3 == 3072                                                                                                                                ## input\n",
    "32/2 * 32/2 * 10 == 2560    # 행/strides x 열/strides x 10(filters) // (filters=10, strides=2, padding='same')     (4*4*3) * 10 + 10 == 490     # conv2d        # [4 x 4(conv layer1 kernel size) x 3(input filter)] x 10(conv layer1 filters) + 10(상수항)\n",
    "16/2 * 16/2 * 20 == 1280    # 행/strides x 열/strides x 20(filters) // (filters=20, strides=2, padding='same')     (3*3*10) * 20 + 20 == 1820   # conv2d        # [3 x 3(conv layer2 kernel size) x 10(conv layer1 filters)] x 20(conv layer2 filters) + 20(상수항)\n",
    "8*8*20 == 1280                                                                                                                                 ## flatten\n",
    "10                          # units=10                                                                             (1280) * 10 + 10 == 12810    # Dense         # [1280(flatten layer cell count)] * 10(dense layer units) + 10(상수항)\n"
   ]
  },
  {
   "cell_type": "code",
   "execution_count": 9,
   "metadata": {},
   "outputs": [
    {
     "name": "stdout",
     "output_type": "stream",
     "text": [
      "WARNING:tensorflow:From e:\\GenerativeDeepLearning\\venv\\lib\\site-packages\\keras\\backend\\tensorflow_backend.py:3445: calling dropout (from tensorflow.python.ops.nn_ops) with keep_prob is deprecated and will be removed in a future version.\n",
      "Instructions for updating:\n",
      "Please use `rate` instead of `keep_prob`. Rate should be set to `rate = 1 - keep_prob`.\n"
     ]
    }
   ],
   "source": [
    "input_layer = Input((32,32,3))\n",
    "\n",
    "x = Conv2D(filters = 32, kernel_size = 3, strides = 1, padding = 'same')(input_layer)\n",
    "x = BatchNormalization()(x)\n",
    "x = LeakyReLU()(x)\n",
    "\n",
    "\n",
    "x = Conv2D(filters = 32, kernel_size = 3, strides = 2, padding = 'same')(x)\n",
    "x = BatchNormalization()(x)\n",
    "x = LeakyReLU()(x)\n",
    "\n",
    "\n",
    "x = Conv2D(filters = 64, kernel_size = 3, strides = 1, padding = 'same')(x)\n",
    "x = BatchNormalization()(x)\n",
    "x = LeakyReLU()(x)\n",
    "\n",
    "\n",
    "x = Conv2D(filters = 64, kernel_size = 3, strides = 2, padding = 'same')(x)\n",
    "x = BatchNormalization()(x)\n",
    "x = LeakyReLU()(x)\n",
    "\n",
    "\n",
    "x = Flatten()(x)\n",
    "\n",
    "x = Dense(128)(x)\n",
    "x = BatchNormalization()(x)\n",
    "x = LeakyReLU()(x)\n",
    "x = Dropout(rate = 0.5)(x)\n",
    "\n",
    "x = Dense(NUM_CLASSES)(x)\n",
    "output_layer = Activation('softmax')(x)\n",
    "\n",
    "model = Model(input_layer, output_layer)"
   ]
  },
  {
   "cell_type": "code",
   "execution_count": 10,
   "metadata": {},
   "outputs": [
    {
     "name": "stdout",
     "output_type": "stream",
     "text": [
      "_________________________________________________________________\n",
      "Layer (type)                 Output Shape              Param #   \n",
      "=================================================================\n",
      "input_2 (InputLayer)         (None, 32, 32, 3)         0         \n",
      "_________________________________________________________________\n",
      "conv2d_3 (Conv2D)            (None, 32, 32, 32)        896       \n",
      "_________________________________________________________________\n",
      "batch_normalization_1 (Batch (None, 32, 32, 32)        128       \n",
      "_________________________________________________________________\n",
      "leaky_re_lu_1 (LeakyReLU)    (None, 32, 32, 32)        0         \n",
      "_________________________________________________________________\n",
      "conv2d_4 (Conv2D)            (None, 16, 16, 32)        9248      \n",
      "_________________________________________________________________\n",
      "batch_normalization_2 (Batch (None, 16, 16, 32)        128       \n",
      "_________________________________________________________________\n",
      "leaky_re_lu_2 (LeakyReLU)    (None, 16, 16, 32)        0         \n",
      "_________________________________________________________________\n",
      "conv2d_5 (Conv2D)            (None, 16, 16, 64)        18496     \n",
      "_________________________________________________________________\n",
      "batch_normalization_3 (Batch (None, 16, 16, 64)        256       \n",
      "_________________________________________________________________\n",
      "leaky_re_lu_3 (LeakyReLU)    (None, 16, 16, 64)        0         \n",
      "_________________________________________________________________\n",
      "conv2d_6 (Conv2D)            (None, 8, 8, 64)          36928     \n",
      "_________________________________________________________________\n",
      "batch_normalization_4 (Batch (None, 8, 8, 64)          256       \n",
      "_________________________________________________________________\n",
      "leaky_re_lu_4 (LeakyReLU)    (None, 8, 8, 64)          0         \n",
      "_________________________________________________________________\n",
      "flatten_2 (Flatten)          (None, 4096)              0         \n",
      "_________________________________________________________________\n",
      "dense_2 (Dense)              (None, 128)               524416    \n",
      "_________________________________________________________________\n",
      "batch_normalization_5 (Batch (None, 128)               512       \n",
      "_________________________________________________________________\n",
      "leaky_re_lu_5 (LeakyReLU)    (None, 128)               0         \n",
      "_________________________________________________________________\n",
      "dropout_1 (Dropout)          (None, 128)               0         \n",
      "_________________________________________________________________\n",
      "dense_3 (Dense)              (None, 10)                1290      \n",
      "_________________________________________________________________\n",
      "activation_1 (Activation)    (None, 10)                0         \n",
      "=================================================================\n",
      "Total params: 592,554\n",
      "Trainable params: 591,914\n",
      "Non-trainable params: 640\n",
      "_________________________________________________________________\n"
     ]
    }
   ],
   "source": [
    "model.summary()"
   ]
  },
  {
   "cell_type": "code",
   "execution_count": 11,
   "metadata": {},
   "outputs": [
    {
     "data": {
      "text/plain": [
       "True"
      ]
     },
     "execution_count": 11,
     "metadata": {},
     "output_type": "execute_result"
    }
   ],
   "source": [
    "32*32*3 == 3072             ## input\n",
    "(3*3*3) * 32 + 32 == 896     # conv2d\n",
    "\n",
    "\n",
    "(3*3*32) * 32 + 32 == 1820   # conv2d\n",
    "\n",
    "(3*3*32) * 64 + 64 == 18496  # conv2d\n",
    "\n",
    "(3*3*64) * 64 + 64 == 36928  # conv2d\n",
    "\n",
    "\n",
    "8*8*64 == 4096              ## flatten\n",
    "(4096+1)*128 == 524416      # Dense\n",
    "\n",
    "(128+1)*10 == 1290          # Dense"
   ]
  },
  {
   "cell_type": "markdown",
   "metadata": {},
   "source": [
    "## 모델 훈련"
   ]
  },
  {
   "cell_type": "code",
   "execution_count": 12,
   "metadata": {},
   "outputs": [],
   "source": [
    "opt = Adam(lr=0.0005)\n",
    "model.compile(loss='categorical_crossentropy', optimizer=opt, metrics=['accuracy'])"
   ]
  },
  {
   "cell_type": "code",
   "execution_count": 13,
   "metadata": {},
   "outputs": [
    {
     "name": "stdout",
     "output_type": "stream",
     "text": [
      "WARNING:tensorflow:From e:\\GenerativeDeepLearning\\venv\\lib\\site-packages\\tensorflow\\python\\ops\\math_ops.py:3066: to_int32 (from tensorflow.python.ops.math_ops) is deprecated and will be removed in a future version.\n",
      "Instructions for updating:\n",
      "Use tf.cast instead.\n"
     ]
    },
    {
     "name": "stdout",
     "output_type": "stream",
     "text": [
      "Train on 50000 samples, validate on 10000 samples\n",
      "Epoch 1/10\n",
      "50000/50000 [==============================] - 152s 3ms/step - loss: 1.5463 - acc: 0.4605 - val_loss: 1.1848 - val_acc: 0.5791\n",
      "Epoch 2/10\n",
      "50000/50000 [==============================] - 160s 3ms/step - loss: 1.1293 - acc: 0.6022 - val_loss: 1.0303 - val_acc: 0.6393\n",
      "Epoch 3/10\n",
      "50000/50000 [==============================] - 170s 3ms/step - loss: 0.9870 - acc: 0.6577 - val_loss: 0.9655 - val_acc: 0.6627\n",
      "Epoch 4/10\n",
      "50000/50000 [==============================] - 161s 3ms/step - loss: 0.9078 - acc: 0.6840 - val_loss: 0.8708 - val_acc: 0.6954\n",
      "Epoch 5/10\n",
      "50000/50000 [==============================] - 164s 3ms/step - loss: 0.8429 - acc: 0.7073 - val_loss: 0.8677 - val_acc: 0.6959\n",
      "Epoch 6/10\n",
      "50000/50000 [==============================] - 166s 3ms/step - loss: 0.7975 - acc: 0.7226 - val_loss: 0.8830 - val_acc: 0.6893\n",
      "Epoch 7/10\n",
      "50000/50000 [==============================] - 172s 3ms/step - loss: 0.7555 - acc: 0.7360 - val_loss: 0.8259 - val_acc: 0.7100\n",
      "Epoch 8/10\n",
      "50000/50000 [==============================] - 176s 4ms/step - loss: 0.7211 - acc: 0.7480 - val_loss: 0.8346 - val_acc: 0.7156\n",
      "Epoch 9/10\n",
      "50000/50000 [==============================] - 176s 4ms/step - loss: 0.6819 - acc: 0.7615 - val_loss: 0.8323 - val_acc: 0.7150\n",
      "Epoch 10/10\n",
      "50000/50000 [==============================] - 180s 4ms/step - loss: 0.6502 - acc: 0.7731 - val_loss: 0.8115 - val_acc: 0.7194\n"
     ]
    },
    {
     "data": {
      "text/plain": [
       "<keras.callbacks.History at 0x21e279a3cf8>"
      ]
     },
     "execution_count": 13,
     "metadata": {},
     "output_type": "execute_result"
    }
   ],
   "source": [
    "model.fit(x_train\n",
    "          , y_train\n",
    "          , batch_size=32\n",
    "          , epochs=10\n",
    "          , shuffle=True\n",
    "          , validation_data = (x_test, y_test))"
   ]
  },
  {
   "cell_type": "code",
   "execution_count": 14,
   "metadata": {},
   "outputs": [
    {
     "data": {
      "text/plain": [
       "[<keras.engine.input_layer.InputLayer at 0x21e279e0400>,\n",
       " <keras.layers.convolutional.Conv2D at 0x21e279e03c8>,\n",
       " <keras.layers.normalization.BatchNormalization at 0x21e279e0748>,\n",
       " <keras.layers.advanced_activations.LeakyReLU at 0x21e279e05c0>,\n",
       " <keras.layers.convolutional.Conv2D at 0x21e279e06d8>,\n",
       " <keras.layers.normalization.BatchNormalization at 0x21e279f8cf8>,\n",
       " <keras.layers.advanced_activations.LeakyReLU at 0x21e27a749e8>,\n",
       " <keras.layers.convolutional.Conv2D at 0x21e27a74b38>,\n",
       " <keras.layers.normalization.BatchNormalization at 0x21e27b38860>,\n",
       " <keras.layers.advanced_activations.LeakyReLU at 0x21e27b52c18>,\n",
       " <keras.layers.convolutional.Conv2D at 0x21e27b929e8>,\n",
       " <keras.layers.normalization.BatchNormalization at 0x21e27c524e0>,\n",
       " <keras.layers.advanced_activations.LeakyReLU at 0x21e27ce0c50>,\n",
       " <keras.layers.core.Flatten at 0x21e27cab2e8>,\n",
       " <keras.layers.core.Dense at 0x21e27d72e80>,\n",
       " <keras.layers.normalization.BatchNormalization at 0x21e27d72a58>,\n",
       " <keras.layers.advanced_activations.LeakyReLU at 0x21e27e864a8>,\n",
       " <keras.layers.core.Dropout at 0x21e27e86358>,\n",
       " <keras.layers.core.Dense at 0x21e27ea9828>,\n",
       " <keras.layers.core.Activation at 0x21e27ea9438>]"
      ]
     },
     "execution_count": 14,
     "metadata": {},
     "output_type": "execute_result"
    }
   ],
   "source": [
    "model.layers"
   ]
  },
  {
   "cell_type": "code",
   "execution_count": 15,
   "metadata": {},
   "outputs": [
    {
     "data": {
      "text/plain": [
       "[array([0.89581114, 1.0009497 , 1.1307687 , 0.95524883, 0.9336335 ,\n",
       "        0.96345735, 0.93462443, 0.76273656, 0.9990611 , 0.83972645,\n",
       "        0.94612235, 0.85969996, 0.89922833, 0.79688454, 1.0673803 ,\n",
       "        1.2619643 , 1.0609255 , 1.0766088 , 0.83162904, 0.94234157,\n",
       "        1.253134  , 0.86711854, 0.92127585, 0.97002065, 1.1610252 ,\n",
       "        1.1503918 , 0.7723104 , 0.89935094, 1.0464828 , 0.87911546,\n",
       "        1.0163659 , 1.1798846 ], dtype=float32),\n",
       " array([-0.08881325, -0.10392905, -0.02275274, -0.12269443,  0.11324387,\n",
       "        -0.08731604, -0.08577338, -0.26404336, -0.2268302 , -0.19370908,\n",
       "        -0.06842361, -0.15728138, -0.20219114, -0.17025506,  0.00724269,\n",
       "        -0.16367754, -0.11532439, -0.11753442, -0.23855625, -0.20802678,\n",
       "        -0.17142037, -0.18595909, -0.2446163 , -0.08409601, -0.15442857,\n",
       "        -0.16021213, -0.0833473 , -0.07942065, -0.13949278, -0.1863068 ,\n",
       "        -0.2516877 , -0.04911911], dtype=float32),\n",
       " array([-1.3364408 , -0.01109197, -0.29986787,  0.03815925, -2.6394434 ,\n",
       "         0.38614386, -0.5053211 , -0.13648063, -1.3900243 , -1.6251985 ,\n",
       "         0.4176081 ,  0.1376627 ,  1.408415  ,  0.6769464 , -0.9180171 ,\n",
       "         0.0881767 , -0.07974378, -0.45318785,  0.2491672 ,  1.3146216 ,\n",
       "        -0.52828705,  0.16056667, -0.06775127,  0.39360663, -0.00733053,\n",
       "        -0.2990859 , -0.22308666, -0.31648305, -0.7474433 , -0.41607213,\n",
       "         0.04640358, -0.24807058], dtype=float32),\n",
       " array([2.1336985, 2.0322154, 2.474733 , 1.5421762, 3.7997932, 6.2958527,\n",
       "        1.9342668, 1.7485383, 3.0453634, 3.913751 , 1.052655 , 2.1056376,\n",
       "        3.5600438, 1.8848221, 3.9143007, 5.305086 , 2.6457903, 2.449056 ,\n",
       "        1.9122283, 1.6673896, 4.9878874, 2.3515246, 2.0465806, 2.6948047,\n",
       "        4.7429667, 3.7257705, 1.2514915, 6.682101 , 3.3266995, 1.1917287,\n",
       "        4.138501 , 4.091004 ], dtype=float32)]"
      ]
     },
     "execution_count": 15,
     "metadata": {},
     "output_type": "execute_result"
    }
   ],
   "source": [
    "model.layers[5].get_weights()"
   ]
  },
  {
   "cell_type": "markdown",
   "metadata": {},
   "source": [
    "## 모델 평가"
   ]
  },
  {
   "cell_type": "code",
   "execution_count": 16,
   "metadata": {},
   "outputs": [
    {
     "name": "stdout",
     "output_type": "stream",
     "text": [
      "10000/10000 [==============================] - 8s 821us/step\n"
     ]
    },
    {
     "data": {
      "text/plain": [
       "[0.8114925563335419, 0.7194000005722045]"
      ]
     },
     "execution_count": 16,
     "metadata": {},
     "output_type": "execute_result"
    }
   ],
   "source": [
    "model.evaluate(x_test, y_test, batch_size=1000)"
   ]
  },
  {
   "cell_type": "code",
   "execution_count": 17,
   "metadata": {},
   "outputs": [],
   "source": [
    "CLASSES = np.array(['airplane', 'automobile', 'bird', 'cat', 'deer', 'dog', 'frog', 'horse', 'ship', 'truck'])\n",
    "\n",
    "preds = model.predict(x_test)\n",
    "preds_single = CLASSES[np.argmax(preds, axis = -1)]\n",
    "actual_single = CLASSES[np.argmax(y_test, axis = -1)]"
   ]
  },
  {
   "cell_type": "code",
   "execution_count": 19,
   "metadata": {},
   "outputs": [
    {
     "data": {
      "image/png": "[encoded data removed]",
      "text/plain": [
       "<Figure size 1080x216 with 10 Axes>"
      ]
     },
     "metadata": {
      "needs_background": "light"
     },
     "output_type": "display_data"
    }
   ],
   "source": [
    "import matplotlib.pyplot as plt\n",
    "\n",
    "n_to_show = 10\n",
    "indices = np.random.choice(range(len(x_test)), n_to_show)\n",
    "\n",
    "fig = plt.figure(figsize=(15, 3))\n",
    "fig.subplots_adjust(hspace=0.5, wspace=0.5)\n",
    "\n",
    "for i, idx in enumerate(indices):\n",
    "    img = x_test[idx]\n",
    "    ax = fig.add_subplot(1, n_to_show, i+1)\n",
    "    ax.axis('off')\n",
    "    ax.text(0.5, -0.35, 'pred = ' + str(preds_single[idx]), fontsize=10, ha='center', transform=ax.transAxes) \n",
    "    ax.text(0.5, -0.7, 'act = ' + str(actual_single[idx]), fontsize=10, ha='center', transform=ax.transAxes)\n",
    "    ax.imshow(img)"
   ]
  },
  {
   "cell_type": "code",
   "execution_count": null,
   "metadata": {},
   "outputs": [],
   "source": []
  }
 ],
 "metadata": {
  "kernelspec": {
   "display_name": "venv",
   "language": "python",
   "name": "python3"
  },
  "language_info": {
   "codemirror_mode": {
    "name": "ipython",
    "version": 3
   },
   "file_extension": ".py",
   "mimetype": "text/x-python",
   "name": "python",
   "nbconvert_exporter": "python",
   "pygments_lexer": "ipython3",
   "version": "3.6.5"
  }
 },
 "nbformat": 4,
 "nbformat_minor": 2
}
